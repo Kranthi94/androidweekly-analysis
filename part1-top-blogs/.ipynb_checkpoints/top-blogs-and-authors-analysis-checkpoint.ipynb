{
 "cells": [
  {
   "cell_type": "markdown",
   "metadata": {},
   "source": [
    "# Android Weekly analysis\n",
    "\n",
    "Investigating the most popular blogs and authors over time."
   ]
  },
  {
   "cell_type": "code",
   "execution_count": 6,
   "metadata": {},
   "outputs": [
    {
     "data": {
      "text/html": [
       "<script>requirejs.config({paths: { 'plotly': ['https://cdn.plot.ly/plotly-latest.min']},});if(!window.Plotly) {{require(['plotly'],function(plotly) {window.Plotly=plotly;});}}</script>"
      ],
      "text/vnd.plotly.v1+html": [
       "<script>requirejs.config({paths: { 'plotly': ['https://cdn.plot.ly/plotly-latest.min']},});if(!window.Plotly) {{require(['plotly'],function(plotly) {window.Plotly=plotly;});}}</script>"
      ]
     },
     "metadata": {},
     "output_type": "display_data"
    }
   ],
   "source": [
    "from bs4 import BeautifulSoup\n",
    "import urllib\n",
    "import csv\n",
    "from os import listdir\n",
    "from os.path import isfile, join\n",
    "import pandas as pd\n",
    "import numpy as np\n",
    "\n",
    "import plotly.plotly as py\n",
    "import pandas as pd\n",
    "import numpy as np\n",
    "import plotly\n",
    "from plotly.graph_objs import Scatter, Layout\n",
    "\n",
    "%matplotlib inline\n",
    "\n",
    "plotly.offline.init_notebook_mode(connected=True)\n",
    "\n",
    "BASE_URL = \"http://androidweekly.net/issues/issue-{}\"\n",
    "DATA_DIR = \"../data\""
   ]
  },
  {
   "cell_type": "markdown",
   "metadata": {},
   "source": [
    "## Data collection\n",
    "\n",
    "Dowload and parse each Android weekly post. \n",
    "1. `contentForIssue(num)` downloads the data for an issue\n",
    "2. `dataForIssue(content, issue_num)`, `dataForIssueBefore103(content, issue_num)`, and `dataForIssueBefore60(content, issue_num)` parse the html from different issues into an array of objects\n",
    "3. `writeData(data, fname)` writes the data for an issue to a csv for retrieval later"
   ]
  },
  {
   "cell_type": "code",
   "execution_count": 6,
   "metadata": {
    "collapsed": true
   },
   "outputs": [],
   "source": [
    "def contentForIssue(num):\n",
    "    url = BASE_URL.format(num)\n",
    "    print(url)\n",
    "    request = urllib.Request(url)\n",
    "    request.add_header('Accept-Encoding', 'utf-8')\n",
    "    response = urllib.urlopen(url)\n",
    "    soup = BeautifulSoup(response.read().decode('utf-8'), 'lxml')\n",
    "    content = soup.find('div', { 'class':'issue' })\n",
    "    return content"
   ]
  },
  {
   "cell_type": "code",
   "execution_count": 8,
   "metadata": {
    "collapsed": true
   },
   "outputs": [],
   "source": [
    "def dataForIssue(content, issue_num):\n",
    "    sections = content.find_all('td')\n",
    "    last_section_header = \"\"\n",
    "    data = []\n",
    "    section_count = 0\n",
    "    for section in sections:\n",
    "        if section.h2 or section.h3:\n",
    "            section_count += 1\n",
    "            if section.h2:\n",
    "                last_section_header = section.h2.text\n",
    "            else:\n",
    "                last_section_header = section.h3.text\n",
    "        if section.a and section.a.string:\n",
    "            item = {}\n",
    "            item['issue_num'] = issue_num\n",
    "            item['section'] = last_section_header.encode(\"utf-8\").strip()\n",
    "            item['title'] = section.a.text.encode(\"utf-8\").replace('\\n','').strip()\n",
    "            item['link'] = section.a.get('href').encode(\"utf-8\").strip()\n",
    "            item['site'] = section.span.text.replace('(','').replace(')', '').replace('\\n','').encode(\"utf-8\").strip()\n",
    "            item['description'] = section.p.text.replace('\\n','').encode(\"utf-8\").strip()\n",
    "            data.append(item)\n",
    "    print('Found %d items in %s sections' % (len(data), section_count))\n",
    "    return data"
   ]
  },
  {
   "cell_type": "code",
   "execution_count": 10,
   "metadata": {
    "collapsed": true
   },
   "outputs": [],
   "source": [
    "def dataForIssueBefore103(content, issue_num):\n",
    "    sections = content.find_all(['h2', 'div', 'p'])\n",
    "    last_section_header = \"\"\n",
    "    data = []\n",
    "    section_count = 0\n",
    "    for section in sections:\n",
    "        if section.name == 'h2':\n",
    "            section_count += 1\n",
    "            last_section_header = section.text\n",
    "        elif section.name == 'div' and len(section.find_all('a')) > 1:\n",
    "            links = section.find_all('a');\n",
    "            item = {}\n",
    "            item['issue_num'] = issue_num\n",
    "            item['section'] = last_section_header.encode(\"utf-8\").strip()\n",
    "            item['title'] = links[1].string.encode(\"utf-8\").replace('\\n','').strip()\n",
    "            item['link'] = links[1].get('href').encode(\"utf-8\").strip()\n",
    "            item['site'] = section.span.text.replace('(','').replace(')', '').replace('\\n','').encode(\"utf-8\").strip()\n",
    "            item['description'] = section.p.text.replace('\\n','').encode(\"utf-8\").strip()\n",
    "            data.append(item)\n",
    "        elif section.name == 'p' and section.a and section.a.text:\n",
    "            item = {}\n",
    "            item['issue_num'] = issue_num\n",
    "            item['section'] = last_section_header.encode(\"utf-8\").strip()\n",
    "            item['title'] = section.a.string.encode(\"utf-8\").replace('\\n','').strip()\n",
    "            item['link'] = section.a.get('href').encode(\"utf-8\").strip()\n",
    "            if section.span:\n",
    "                item['site'] = section.span.text.replace('(','').replace(')', '').replace('\\n','').encode(\"utf-8\").strip()\n",
    "            else:\n",
    "                item['site'] = \"\"\n",
    "            if section.br and section.br.next_sibling:\n",
    "                item['description'] = section.br.next_sibling.replace('\\n','').encode(\"utf-8\").strip()\n",
    "            else:\n",
    "                item['description'] = \"\"\n",
    "            data.append(item)\n",
    "    print('Found %d items in %s sections' % (len(data), section_count))\n",
    "    return data"
   ]
  },
  {
   "cell_type": "code",
   "execution_count": 11,
   "metadata": {
    "collapsed": true
   },
   "outputs": [],
   "source": [
    "def dataForIssueBefore60(content, issue_num):\n",
    "    return dataForIssueBefore103(content.div, issue_num)"
   ]
  },
  {
   "cell_type": "code",
   "execution_count": 12,
   "metadata": {
    "collapsed": true
   },
   "outputs": [],
   "source": [
    "def writeData(data, fname):\n",
    "    with open(fname, 'wb') as f:\n",
    "        w = csv.DictWriter(f, data[0].keys())\n",
    "        w.writeheader()\n",
    "        for datum in data:\n",
    "            w.writerow(datum)"
   ]
  },
  {
   "cell_type": "markdown",
   "metadata": {},
   "source": [
    "## Get all the data!\n",
    "\n",
    "With the above functions available, we can download all the Android Weekly posts"
   ]
  },
  {
   "cell_type": "code",
   "execution_count": 13,
   "metadata": {
    "collapsed": true
   },
   "outputs": [],
   "source": [
    "def getAllData(issueNums):\n",
    "    for i in issueNums:\n",
    "        content = contentForIssue(i)\n",
    "        data = None\n",
    "        if (i < 60):\n",
    "            data = dataForIssueBefore60(content, i) \n",
    "        elif (i < 103):\n",
    "            data = dataForIssueBefore103(content, i) \n",
    "        else:\n",
    "            data = dataForIssue(content, i)\n",
    "        writeData(data, 'issue_{}.csv'.format(i))"
   ]
  },
  {
   "cell_type": "code",
   "execution_count": 33,
   "metadata": {},
   "outputs": [
    {
     "name": "stdout",
     "output_type": "stream",
     "text": [
      "http://androidweekly.net/issues/issue-216\n",
      "Found 26 items in 6 sections\n",
      "http://androidweekly.net/issues/issue-215\n",
      "Found 28 items in 7 sections\n",
      "http://androidweekly.net/issues/issue-214\n",
      "Found 21 items in 8 sections\n",
      "http://androidweekly.net/issues/issue-213\n",
      "Found 30 items in 7 sections\n",
      "http://androidweekly.net/issues/issue-212\n",
      "Found 23 items in 7 sections\n",
      "http://androidweekly.net/issues/issue-211\n",
      "Found 29 items in 9 sections\n",
      "http://androidweekly.net/issues/issue-210\n",
      "Found 28 items in 9 sections\n",
      "http://androidweekly.net/issues/issue-209\n",
      "Found 27 items in 10 sections\n",
      "http://androidweekly.net/issues/issue-208\n",
      "Found 25 items in 7 sections\n",
      "http://androidweekly.net/issues/issue-207\n",
      "Found 25 items in 8 sections\n",
      "http://androidweekly.net/issues/issue-206\n",
      "Found 25 items in 8 sections\n",
      "http://androidweekly.net/issues/issue-205\n",
      "Found 34 items in 8 sections\n",
      "http://androidweekly.net/issues/issue-204\n",
      "Found 34 items in 10 sections\n",
      "http://androidweekly.net/issues/issue-203\n",
      "Found 29 items in 7 sections\n",
      "http://androidweekly.net/issues/issue-202\n",
      "Found 29 items in 7 sections\n",
      "http://androidweekly.net/issues/issue-201\n",
      "Found 25 items in 8 sections\n",
      "http://androidweekly.net/issues/issue-200\n",
      "Found 31 items in 8 sections\n",
      "http://androidweekly.net/issues/issue-199\n",
      "Found 27 items in 6 sections\n",
      "http://androidweekly.net/issues/issue-198\n",
      "Found 30 items in 8 sections\n",
      "http://androidweekly.net/issues/issue-197\n",
      "Found 29 items in 6 sections\n",
      "http://androidweekly.net/issues/issue-196\n",
      "Found 26 items in 7 sections\n",
      "http://androidweekly.net/issues/issue-195\n",
      "Found 24 items in 8 sections\n",
      "http://androidweekly.net/issues/issue-194\n",
      "Found 25 items in 6 sections\n",
      "http://androidweekly.net/issues/issue-193\n",
      "Found 27 items in 7 sections\n",
      "http://androidweekly.net/issues/issue-192\n",
      "Found 24 items in 7 sections\n",
      "http://androidweekly.net/issues/issue-191\n",
      "Found 35 items in 7 sections\n",
      "http://androidweekly.net/issues/issue-190\n",
      "Found 24 items in 7 sections\n",
      "http://androidweekly.net/issues/issue-189\n",
      "Found 23 items in 7 sections\n",
      "http://androidweekly.net/issues/issue-188\n",
      "Found 21 items in 7 sections\n",
      "http://androidweekly.net/issues/issue-187\n",
      "Found 17 items in 6 sections\n",
      "http://androidweekly.net/issues/issue-186\n",
      "Found 24 items in 6 sections\n",
      "http://androidweekly.net/issues/issue-185\n",
      "Found 23 items in 5 sections\n",
      "http://androidweekly.net/issues/issue-184\n",
      "Found 25 items in 7 sections\n",
      "http://androidweekly.net/issues/issue-183\n",
      "Found 28 items in 6 sections\n",
      "http://androidweekly.net/issues/issue-182\n",
      "Found 25 items in 7 sections\n",
      "http://androidweekly.net/issues/issue-181\n",
      "Found 25 items in 7 sections\n",
      "http://androidweekly.net/issues/issue-180\n",
      "Found 27 items in 7 sections\n",
      "http://androidweekly.net/issues/issue-179\n",
      "Found 21 items in 6 sections\n",
      "http://androidweekly.net/issues/issue-178\n",
      "Found 29 items in 5 sections\n",
      "http://androidweekly.net/issues/issue-177\n",
      "Found 23 items in 6 sections\n",
      "http://androidweekly.net/issues/issue-176\n",
      "Found 27 items in 8 sections\n",
      "http://androidweekly.net/issues/issue-175\n",
      "Found 31 items in 10 sections\n",
      "http://androidweekly.net/issues/issue-174\n",
      "Found 25 items in 8 sections\n",
      "http://androidweekly.net/issues/issue-173\n",
      "Found 30 items in 9 sections\n",
      "http://androidweekly.net/issues/issue-172\n",
      "Found 26 items in 8 sections\n",
      "http://androidweekly.net/issues/issue-171\n",
      "Found 28 items in 9 sections\n",
      "http://androidweekly.net/issues/issue-170\n",
      "Found 31 items in 8 sections\n",
      "http://androidweekly.net/issues/issue-169\n",
      "Found 37 items in 9 sections\n",
      "http://androidweekly.net/issues/issue-168\n",
      "Found 34 items in 5 sections\n",
      "http://androidweekly.net/issues/issue-167\n",
      "Found 26 items in 8 sections\n",
      "http://androidweekly.net/issues/issue-166\n",
      "Found 27 items in 7 sections\n",
      "http://androidweekly.net/issues/issue-165\n",
      "Found 23 items in 6 sections\n",
      "http://androidweekly.net/issues/issue-164\n",
      "Found 27 items in 10 sections\n",
      "http://androidweekly.net/issues/issue-163\n",
      "Found 23 items in 9 sections\n",
      "http://androidweekly.net/issues/issue-162\n",
      "Found 20 items in 5 sections\n",
      "http://androidweekly.net/issues/issue-161\n",
      "Found 21 items in 7 sections\n",
      "http://androidweekly.net/issues/issue-160\n",
      "Found 22 items in 6 sections\n",
      "http://androidweekly.net/issues/issue-159\n",
      "Found 23 items in 8 sections\n",
      "http://androidweekly.net/issues/issue-158\n",
      "Found 20 items in 5 sections\n",
      "http://androidweekly.net/issues/issue-157\n",
      "Found 18 items in 6 sections\n",
      "http://androidweekly.net/issues/issue-156\n",
      "Found 24 items in 8 sections\n",
      "http://androidweekly.net/issues/issue-155\n",
      "Found 24 items in 7 sections\n",
      "http://androidweekly.net/issues/issue-154\n",
      "Found 20 items in 6 sections\n",
      "http://androidweekly.net/issues/issue-153\n",
      "Found 19 items in 7 sections\n",
      "http://androidweekly.net/issues/issue-152\n",
      "Found 20 items in 6 sections\n",
      "http://androidweekly.net/issues/issue-151\n",
      "Found 23 items in 8 sections\n",
      "http://androidweekly.net/issues/issue-150\n",
      "Found 19 items in 7 sections\n",
      "http://androidweekly.net/issues/issue-149\n",
      "Found 15 items in 6 sections\n",
      "http://androidweekly.net/issues/issue-148\n",
      "Found 23 items in 6 sections\n",
      "http://androidweekly.net/issues/issue-147\n",
      "Found 21 items in 6 sections\n",
      "http://androidweekly.net/issues/issue-146\n",
      "Found 21 items in 7 sections\n",
      "http://androidweekly.net/issues/issue-145\n",
      "Found 19 items in 8 sections\n",
      "http://androidweekly.net/issues/issue-144\n",
      "Found 21 items in 6 sections\n",
      "http://androidweekly.net/issues/issue-143\n",
      "Found 18 items in 5 sections\n",
      "http://androidweekly.net/issues/issue-142\n",
      "Found 18 items in 6 sections\n",
      "http://androidweekly.net/issues/issue-141\n",
      "Found 19 items in 6 sections\n",
      "http://androidweekly.net/issues/issue-140\n",
      "Found 26 items in 6 sections\n",
      "http://androidweekly.net/issues/issue-139\n",
      "Found 16 items in 6 sections\n",
      "http://androidweekly.net/issues/issue-137\n",
      "Found 21 items in 8 sections\n",
      "http://androidweekly.net/issues/issue-136\n",
      "Found 25 items in 6 sections\n",
      "http://androidweekly.net/issues/issue-135\n",
      "Found 21 items in 7 sections\n",
      "http://androidweekly.net/issues/issue-134\n",
      "Found 22 items in 5 sections\n",
      "http://androidweekly.net/issues/issue-133\n",
      "Found 23 items in 6 sections\n",
      "http://androidweekly.net/issues/issue-132\n",
      "Found 19 items in 6 sections\n",
      "http://androidweekly.net/issues/issue-131\n",
      "Found 25 items in 7 sections\n",
      "http://androidweekly.net/issues/issue-130\n",
      "Found 23 items in 6 sections\n",
      "http://androidweekly.net/issues/issue-129\n",
      "Found 25 items in 10 sections\n",
      "http://androidweekly.net/issues/issue-128\n",
      "Found 20 items in 5 sections\n",
      "http://androidweekly.net/issues/issue-127\n",
      "Found 23 items in 9 sections\n",
      "http://androidweekly.net/issues/issue-126\n",
      "Found 22 items in 8 sections\n",
      "http://androidweekly.net/issues/issue-125\n",
      "Found 29 items in 7 sections\n",
      "http://androidweekly.net/issues/issue-124\n",
      "Found 21 items in 7 sections\n",
      "http://androidweekly.net/issues/issue-123\n",
      "Found 20 items in 9 sections\n",
      "http://androidweekly.net/issues/issue-122\n",
      "Found 19 items in 7 sections\n",
      "http://androidweekly.net/issues/issue-121\n",
      "Found 22 items in 7 sections\n",
      "http://androidweekly.net/issues/issue-120\n",
      "Found 24 items in 9 sections\n",
      "http://androidweekly.net/issues/issue-119\n",
      "Found 19 items in 6 sections\n",
      "http://androidweekly.net/issues/issue-118\n",
      "Found 19 items in 7 sections\n",
      "http://androidweekly.net/issues/issue-117\n",
      "Found 22 items in 7 sections\n",
      "http://androidweekly.net/issues/issue-116\n",
      "Found 21 items in 7 sections\n",
      "http://androidweekly.net/issues/issue-115\n",
      "Found 23 items in 8 sections\n",
      "http://androidweekly.net/issues/issue-114\n",
      "Found 24 items in 7 sections\n",
      "http://androidweekly.net/issues/issue-113\n",
      "Found 22 items in 5 sections\n",
      "http://androidweekly.net/issues/issue-112\n",
      "Found 18 items in 5 sections\n",
      "http://androidweekly.net/issues/issue-111\n",
      "Found 21 items in 7 sections\n",
      "http://androidweekly.net/issues/issue-110\n",
      "Found 27 items in 8 sections\n",
      "http://androidweekly.net/issues/issue-109\n",
      "Found 24 items in 6 sections\n",
      "http://androidweekly.net/issues/issue-107\n",
      "Found 19 items in 8 sections\n",
      "http://androidweekly.net/issues/issue-106\n",
      "Found 24 items in 7 sections\n",
      "http://androidweekly.net/issues/issue-105\n",
      "Found 25 items in 8 sections\n",
      "http://androidweekly.net/issues/issue-104\n",
      "Found 19 items in 7 sections\n",
      "http://androidweekly.net/issues/issue-103\n",
      "Found 22 items in 7 sections\n",
      "http://androidweekly.net/issues/issue-102\n",
      "Found 24 items in 6 sections\n",
      "http://androidweekly.net/issues/issue-101\n",
      "Found 20 items in 4 sections\n",
      "http://androidweekly.net/issues/issue-100\n",
      "Found 18 items in 7 sections\n",
      "http://androidweekly.net/issues/issue-99\n",
      "Found 17 items in 9 sections\n",
      "http://androidweekly.net/issues/issue-98\n",
      "Found 15 items in 7 sections\n",
      "http://androidweekly.net/issues/issue-97\n",
      "Found 25 items in 9 sections\n",
      "http://androidweekly.net/issues/issue-96\n",
      "Found 19 items in 7 sections\n",
      "http://androidweekly.net/issues/issue-95\n",
      "Found 25 items in 5 sections\n",
      "http://androidweekly.net/issues/issue-94\n",
      "Found 27 items in 9 sections\n",
      "http://androidweekly.net/issues/issue-93\n",
      "Found 22 items in 6 sections\n",
      "http://androidweekly.net/issues/issue-92\n",
      "Found 22 items in 6 sections\n",
      "http://androidweekly.net/issues/issue-91\n",
      "Found 14 items in 4 sections\n",
      "http://androidweekly.net/issues/issue-90\n",
      "Found 13 items in 6 sections\n",
      "http://androidweekly.net/issues/issue-89\n",
      "Found 18 items in 7 sections\n",
      "http://androidweekly.net/issues/issue-88\n",
      "Found 20 items in 8 sections\n",
      "http://androidweekly.net/issues/issue-87\n",
      "Found 17 items in 6 sections\n",
      "http://androidweekly.net/issues/issue-86\n",
      "Found 20 items in 6 sections\n",
      "http://androidweekly.net/issues/issue-85\n",
      "Found 18 items in 6 sections\n",
      "http://androidweekly.net/issues/issue-84\n",
      "Found 14 items in 7 sections\n",
      "http://androidweekly.net/issues/issue-83\n",
      "Found 19 items in 6 sections\n",
      "http://androidweekly.net/issues/issue-82\n",
      "Found 17 items in 5 sections\n",
      "http://androidweekly.net/issues/issue-81\n",
      "Found 19 items in 6 sections\n",
      "http://androidweekly.net/issues/issue-80\n",
      "Found 15 items in 7 sections\n",
      "http://androidweekly.net/issues/issue-79\n",
      "Found 21 items in 7 sections\n",
      "http://androidweekly.net/issues/issue-78\n",
      "Found 22 items in 6 sections\n",
      "http://androidweekly.net/issues/issue-77\n",
      "Found 18 items in 6 sections\n",
      "http://androidweekly.net/issues/issue-76\n",
      "Found 18 items in 4 sections\n",
      "http://androidweekly.net/issues/issue-75\n",
      "Found 16 items in 5 sections\n",
      "http://androidweekly.net/issues/issue-74\n",
      "Found 12 items in 5 sections\n",
      "http://androidweekly.net/issues/issue-73\n",
      "Found 15 items in 8 sections\n",
      "http://androidweekly.net/issues/issue-72\n",
      "Found 13 items in 5 sections\n",
      "http://androidweekly.net/issues/issue-71\n",
      "Found 18 items in 6 sections\n",
      "http://androidweekly.net/issues/issue-70\n",
      "Found 12 items in 6 sections\n",
      "http://androidweekly.net/issues/issue-69\n",
      "Found 10 items in 4 sections\n",
      "http://androidweekly.net/issues/issue-68\n",
      "Found 16 items in 5 sections\n",
      "http://androidweekly.net/issues/issue-67\n",
      "Found 17 items in 4 sections\n",
      "http://androidweekly.net/issues/issue-66\n",
      "Found 15 items in 4 sections\n",
      "http://androidweekly.net/issues/issue-65\n",
      "Found 14 items in 3 sections\n",
      "http://androidweekly.net/issues/issue-64\n",
      "Found 14 items in 3 sections\n",
      "http://androidweekly.net/issues/issue-63\n",
      "Found 10 items in 4 sections\n",
      "http://androidweekly.net/issues/issue-62\n",
      "Found 13 items in 4 sections\n",
      "http://androidweekly.net/issues/issue-61\n",
      "Found 14 items in 5 sections\n",
      "http://androidweekly.net/issues/issue-60\n",
      "Found 12 items in 5 sections\n",
      "http://androidweekly.net/issues/issue-59\n",
      "Found 18 items in 6 sections\n",
      "http://androidweekly.net/issues/issue-58\n",
      "Found 18 items in 6 sections\n",
      "http://androidweekly.net/issues/issue-57\n",
      "Found 19 items in 5 sections\n",
      "http://androidweekly.net/issues/issue-56\n",
      "Found 15 items in 6 sections\n",
      "http://androidweekly.net/issues/issue-55\n",
      "Found 12 items in 5 sections\n",
      "http://androidweekly.net/issues/issue-54\n",
      "Found 14 items in 7 sections\n",
      "http://androidweekly.net/issues/issue-53\n",
      "Found 18 items in 5 sections\n",
      "http://androidweekly.net/issues/issue-52\n",
      "Found 16 items in 5 sections\n",
      "http://androidweekly.net/issues/issue-51\n",
      "Found 15 items in 6 sections\n",
      "http://androidweekly.net/issues/issue-50\n",
      "Found 16 items in 5 sections\n",
      "http://androidweekly.net/issues/issue-49\n",
      "Found 13 items in 4 sections\n",
      "http://androidweekly.net/issues/issue-48\n",
      "Found 16 items in 4 sections\n",
      "http://androidweekly.net/issues/issue-47\n",
      "Found 18 items in 4 sections\n",
      "http://androidweekly.net/issues/issue-46\n",
      "Found 14 items in 7 sections\n",
      "http://androidweekly.net/issues/issue-45\n",
      "Found 13 items in 5 sections\n",
      "http://androidweekly.net/issues/issue-44\n",
      "Found 11 items in 4 sections\n",
      "http://androidweekly.net/issues/issue-42\n",
      "Found 11 items in 5 sections\n",
      "http://androidweekly.net/issues/issue-41\n",
      "Found 11 items in 5 sections\n",
      "http://androidweekly.net/issues/issue-40\n",
      "Found 10 items in 5 sections\n",
      "http://androidweekly.net/issues/issue-39\n",
      "Found 10 items in 5 sections\n",
      "http://androidweekly.net/issues/issue-38\n",
      "Found 9 items in 5 sections\n",
      "http://androidweekly.net/issues/issue-37\n",
      "Found 10 items in 5 sections\n",
      "http://androidweekly.net/issues/issue-36\n",
      "Found 9 items in 4 sections\n",
      "http://androidweekly.net/issues/issue-35\n",
      "Found 9 items in 3 sections\n",
      "http://androidweekly.net/issues/issue-34\n",
      "Found 10 items in 5 sections\n",
      "http://androidweekly.net/issues/issue-33\n",
      "Found 9 items in 5 sections\n",
      "http://androidweekly.net/issues/issue-32\n",
      "Found 14 items in 5 sections\n",
      "http://androidweekly.net/issues/issue-31\n",
      "Found 9 items in 6 sections\n",
      "http://androidweekly.net/issues/issue-29\n",
      "Found 9 items in 3 sections\n",
      "http://androidweekly.net/issues/issue-28\n",
      "Found 10 items in 5 sections\n",
      "http://androidweekly.net/issues/issue-27\n",
      "Found 12 items in 5 sections\n",
      "http://androidweekly.net/issues/issue-26\n",
      "Found 10 items in 4 sections\n",
      "http://androidweekly.net/issues/issue-25\n",
      "Found 10 items in 5 sections\n",
      "http://androidweekly.net/issues/issue-24\n",
      "Found 10 items in 4 sections\n",
      "http://androidweekly.net/issues/issue-23\n",
      "Found 9 items in 5 sections\n",
      "http://androidweekly.net/issues/issue-22\n",
      "Found 10 items in 5 sections\n",
      "http://androidweekly.net/issues/issue-21\n",
      "Found 12 items in 6 sections\n",
      "http://androidweekly.net/issues/issue-20\n",
      "Found 8 items in 4 sections\n",
      "http://androidweekly.net/issues/issue-19\n",
      "Found 8 items in 5 sections\n",
      "http://androidweekly.net/issues/issue-18\n",
      "Found 10 items in 6 sections\n",
      "http://androidweekly.net/issues/issue-17\n",
      "Found 10 items in 6 sections\n",
      "http://androidweekly.net/issues/issue-16\n",
      "Found 8 items in 6 sections\n",
      "http://androidweekly.net/issues/issue-15\n",
      "Found 8 items in 5 sections\n",
      "http://androidweekly.net/issues/issue-14\n",
      "Found 9 items in 5 sections\n",
      "http://androidweekly.net/issues/issue-13\n",
      "Found 15 items in 5 sections\n",
      "http://androidweekly.net/issues/issue-12\n",
      "Found 8 items in 5 sections\n",
      "http://androidweekly.net/issues/issue-11\n",
      "Found 11 items in 5 sections\n",
      "http://androidweekly.net/issues/issue-10\n",
      "Found 9 items in 5 sections\n",
      "http://androidweekly.net/issues/issue-9\n",
      "Found 10 items in 5 sections\n",
      "http://androidweekly.net/issues/issue-8\n",
      "Found 7 items in 5 sections\n",
      "http://androidweekly.net/issues/issue-7\n",
      "Found 9 items in 5 sections\n",
      "http://androidweekly.net/issues/issue-6\n",
      "Found 10 items in 6 sections\n",
      "http://androidweekly.net/issues/issue-5\n",
      "Found 10 items in 5 sections\n",
      "http://androidweekly.net/issues/issue-4\n",
      "Found 9 items in 5 sections\n",
      "http://androidweekly.net/issues/issue-3\n",
      "Found 9 items in 5 sections\n",
      "http://androidweekly.net/issues/issue-2\n",
      "Found 9 items in 5 sections\n",
      "http://androidweekly.net/issues/issue-1\n",
      "Found 9 items in 5 sections\n"
     ]
    }
   ],
   "source": [
    "# 500 errors: 138, 108, 43\n",
    "# Skipped b/c unusual: 30\n",
    "issueNums = range(1, 243)\n",
    "issueNums.remove(138)\n",
    "issueNums.remove(108)\n",
    "issueNums.remove(43)\n",
    "issueNums.remove(30)\n",
    "getAllData(reversed(issueNums))"
   ]
  },
  {
   "cell_type": "markdown",
   "metadata": {},
   "source": [
    "## Load Data\n",
    "\n",
    "Loading the data from the csv files into memory makes it easy to resume work."
   ]
  },
  {
   "cell_type": "code",
   "execution_count": 5,
   "metadata": {},
   "outputs": [
    {
     "data": {
      "text/html": [
       "<div>\n",
       "<style>\n",
       "    .dataframe thead tr:only-child th {\n",
       "        text-align: right;\n",
       "    }\n",
       "\n",
       "    .dataframe thead th {\n",
       "        text-align: left;\n",
       "    }\n",
       "\n",
       "    .dataframe tbody tr th {\n",
       "        vertical-align: top;\n",
       "    }\n",
       "</style>\n",
       "<table border=\"1\" class=\"dataframe\">\n",
       "  <thead>\n",
       "    <tr style=\"text-align: right;\">\n",
       "      <th></th>\n",
       "      <th>description</th>\n",
       "      <th>title</th>\n",
       "      <th>section</th>\n",
       "      <th>site</th>\n",
       "      <th>issue_num</th>\n",
       "      <th>link</th>\n",
       "    </tr>\n",
       "  </thead>\n",
       "  <tbody>\n",
       "    <tr>\n",
       "      <th>0</th>\n",
       "      <td>An Android Tutorial aimed for iOS Developers.</td>\n",
       "      <td>http://clayallsopp.posterous.com/building-an-a...</td>\n",
       "      <td>Articles and Tutorials</td>\n",
       "      <td>NaN</td>\n",
       "      <td>1</td>\n",
       "      <td>http://clayallsopp.posterous.com/building-an-a...</td>\n",
       "    </tr>\n",
       "    <tr>\n",
       "      <th>1</th>\n",
       "      <td>Selenium Webdriver is now available for your A...</td>\n",
       "      <td>http://android-developers.blogspot.com/2011/10...</td>\n",
       "      <td>Articles and Tutorials</td>\n",
       "      <td>NaN</td>\n",
       "      <td>1</td>\n",
       "      <td>http://android-developers.blogspot.com/2011/10...</td>\n",
       "    </tr>\n",
       "    <tr>\n",
       "      <th>2</th>\n",
       "      <td>For our dev rookies we got an Java tutorial wh...</td>\n",
       "      <td>http://mobile.tutsplus.com/tutorials/android/j...</td>\n",
       "      <td>Articles and Tutorials</td>\n",
       "      <td>NaN</td>\n",
       "      <td>1</td>\n",
       "      <td>http://mobile.tutsplus.com/tutorials/android/j...</td>\n",
       "    </tr>\n",
       "    <tr>\n",
       "      <th>3</th>\n",
       "      <td>The brandnew nexus with Android 4.0 aka Ice Cr...</td>\n",
       "      <td>http://www.google.com/nexus/</td>\n",
       "      <td>Headlines</td>\n",
       "      <td>NaN</td>\n",
       "      <td>1</td>\n",
       "      <td>http://www.google.com/nexus/</td>\n",
       "    </tr>\n",
       "    <tr>\n",
       "      <th>4</th>\n",
       "      <td>A very cool info graphic about the Rise of And...</td>\n",
       "      <td>http://bbgeeks.com/images/AndroidRise.png</td>\n",
       "      <td>Headlines</td>\n",
       "      <td>NaN</td>\n",
       "      <td>1</td>\n",
       "      <td>http://bbgeeks.com/images/AndroidRise.png</td>\n",
       "    </tr>\n",
       "  </tbody>\n",
       "</table>\n",
       "</div>"
      ],
      "text/plain": [
       "                                         description  \\\n",
       "0      An Android Tutorial aimed for iOS Developers.   \n",
       "1  Selenium Webdriver is now available for your A...   \n",
       "2  For our dev rookies we got an Java tutorial wh...   \n",
       "3  The brandnew nexus with Android 4.0 aka Ice Cr...   \n",
       "4  A very cool info graphic about the Rise of And...   \n",
       "\n",
       "                                               title                 section  \\\n",
       "0  http://clayallsopp.posterous.com/building-an-a...  Articles and Tutorials   \n",
       "1  http://android-developers.blogspot.com/2011/10...  Articles and Tutorials   \n",
       "2  http://mobile.tutsplus.com/tutorials/android/j...  Articles and Tutorials   \n",
       "3                       http://www.google.com/nexus/               Headlines   \n",
       "4          http://bbgeeks.com/images/AndroidRise.png               Headlines   \n",
       "\n",
       "  site  issue_num                                               link  \n",
       "0  NaN          1  http://clayallsopp.posterous.com/building-an-a...  \n",
       "1  NaN          1  http://android-developers.blogspot.com/2011/10...  \n",
       "2  NaN          1  http://mobile.tutsplus.com/tutorials/android/j...  \n",
       "3  NaN          1                       http://www.google.com/nexus/  \n",
       "4  NaN          1          http://bbgeeks.com/images/AndroidRise.png  "
      ]
     },
     "execution_count": 5,
     "metadata": {},
     "output_type": "execute_result"
    }
   ],
   "source": [
    "def loadDataFiles():\n",
    "    files = [f for f in listdir(DATA_DIR) if isfile(join(DATA_DIR, f)) and f.endswith('.csv')]\n",
    "    df = None\n",
    "    for fname in files:\n",
    "        if df is None:\n",
    "            df = pd.read_csv('../data/' + fname)\n",
    "        else:\n",
    "            df = df.append(pd.read_csv('../data/' + fname, dtype={'site': object}), ignore_index=True)\n",
    "    return df\n",
    "    \n",
    "df = loadDataFiles()\n",
    "df.head()"
   ]
  },
  {
   "cell_type": "code",
   "execution_count": 15,
   "metadata": {
    "collapsed": true
   },
   "outputs": [],
   "source": [
    "df.loc[df.issue_num >= 238, 'year'] = 2017\n",
    "df.loc[(df.issue_num < 238) & (df.issue_num >= 191), 'year'] = 2016\n",
    "df.loc[(df.issue_num < 191) & (df.issue_num >= 134), 'year'] = 2015\n",
    "df.loc[(df.issue_num < 134) & (df.issue_num >= 83), 'year'] = 2014\n",
    "df.loc[(df.issue_num < 83) & (df.issue_num >= 49), 'year'] = 2013\n",
    "df.loc[(df.issue_num < 49) & (df.issue_num >= 9), 'year'] = 2012\n",
    "df.loc[df.issue_num < 9, 'year'] = 2011\n",
    "df.year = df.year.astype(int)"
   ]
  },
  {
   "cell_type": "code",
   "execution_count": 16,
   "metadata": {
    "collapsed": true
   },
   "outputs": [],
   "source": [
    "df.loc[df.site == 'www.grokkingandroid.com', 'site'] = 'grokkingandroid.com'"
   ]
  },
  {
   "cell_type": "markdown",
   "metadata": {},
   "source": [
    "# Analysis\n",
    "\n",
    "#### These are the primary questions I want to answer:\n",
    "1. What are the most prolific blogs? Have those changed over time?\n",
    "2. Who are the most prolific bloggers? Have they changed over time?\n",
    "3. What are the most common topics of discussion? Have those changed over time?\n",
    "\n",
    "#### These are questions of secondary interest:\n",
    "1. What are the most popular library topics? Have those changed over time?\n",
    "2. Who are the most prolific library contributors? Have they changed over time?"
   ]
  },
  {
   "cell_type": "markdown",
   "metadata": {},
   "source": [
    "### The sections"
   ]
  },
  {
   "cell_type": "code",
   "execution_count": 17,
   "metadata": {},
   "outputs": [
    {
     "data": {
      "text/plain": [
       "section\n",
       "Articles & Tutorials      2105\n",
       "Libraries & Code           892\n",
       "Jobs                       563\n",
       "Videos & Podcasts          338\n",
       "Sponsored                  314\n",
       "News                       281\n",
       "Tools                      182\n",
       "Design                     170\n",
       "Videos                     113\n",
       "Events                      67\n",
       "Specials                    60\n",
       "ARTICLES AND TUTORIALS      32\n",
       "App of the Week             28\n",
       "LIBRARIES AND CODE          27\n",
       "Screencasts                 22\n",
       "Name: issue_num, dtype: int64"
      ]
     },
     "execution_count": 17,
     "metadata": {},
     "output_type": "execute_result"
    }
   ],
   "source": [
    "df.groupby('section').count().sort_values(by='issue_num', ascending=False).issue_num[:15]"
   ]
  },
  {
   "cell_type": "markdown",
   "metadata": {},
   "source": [
    "## What are the most prolific blogs? Have those changed over time?\n",
    "\n",
    "To answer this, I will look at the most common sites in general. Then I will also split segment the data by year."
   ]
  },
  {
   "cell_type": "code",
   "execution_count": 18,
   "metadata": {},
   "outputs": [
    {
     "data": {
      "text/plain": [
       "2137"
      ]
     },
     "execution_count": 18,
     "metadata": {},
     "output_type": "execute_result"
    }
   ],
   "source": [
    "adf = df[(df.section == 'Articles & Tutorials') | (df.section == 'ARTICLES AND TUTORIALS')]\n",
    "adf.issue_num.count()"
   ]
  },
  {
   "cell_type": "code",
   "execution_count": 19,
   "metadata": {},
   "outputs": [
    {
     "data": {
      "text/plain": [
       "medium.com                         377\n",
       "blog.stylingandroid.com            197\n",
       "plus.google.com                     92\n",
       "android-developers.blogspot.com     66\n",
       "blog.danlew.net                     30\n",
       "speakerdeck.com                     29\n",
       "www.bignerdranch.com                25\n",
       "antonioleiva.com                    24\n",
       "www.philosophicalhacker.com         22\n",
       "hannesdorfmann.com                  22\n",
       "code.tutsplus.com                   21\n",
       "riggaroo.co.za                      18\n",
       "commonsware.com                     17\n",
       "www.novoda.com                      17\n",
       "blog.sqisland.com                   14\n",
       "frogermcs.github.io                 14\n",
       "developer.android.com               13\n",
       "grokkingandroid.com                 13\n",
       "hackernoon.com                      13\n",
       "ptrprograms.blogspot.com            12\n",
       "saulmm.github.io                    11\n",
       "ryanharter.com                      11\n",
       "android.jlelse.eu                   11\n",
       "www.thedroidsonroids.com            11\n",
       "www.doubleencore.com                11\n",
       "www.androiddesignpatterns.com       11\n",
       "blog.nimbledroid.com                11\n",
       "jeroenmols.com                      10\n",
       "corner.squareup.com                 10\n",
       "www.slideshare.net                   9\n",
       "artemzin.com                         9\n",
       "realm.io                             9\n",
       "wiresareobsolete.com                 8\n",
       "github.com                           8\n",
       "udinic.wordpress.com                 8\n",
       "Name: site, dtype: int64"
      ]
     },
     "execution_count": 19,
     "metadata": {},
     "output_type": "execute_result"
    }
   ],
   "source": [
    "adf.site.value_counts()[:35]"
   ]
  },
  {
   "cell_type": "markdown",
   "metadata": {},
   "source": [
    "#### Most popular blogs of 2016"
   ]
  },
  {
   "cell_type": "code",
   "execution_count": 20,
   "metadata": {},
   "outputs": [
    {
     "data": {
      "text/plain": [
       "medium.com                     93\n",
       "blog.stylingandroid.com        19\n",
       "www.philosophicalhacker.com    12\n",
       "android.jlelse.eu              11\n",
       "hackernoon.com                 10\n",
       "commonsware.com                 6\n",
       "www.thedroidsonroids.com        6\n",
       "blog.danlew.net                 6\n",
       "hannesdorfmann.com              6\n",
       "www.novoda.com                  5\n",
       "Name: site, dtype: int64"
      ]
     },
     "execution_count": 20,
     "metadata": {},
     "output_type": "execute_result"
    }
   ],
   "source": [
    "adf[adf.year == 2017].site.value_counts()[:10]"
   ]
  },
  {
   "cell_type": "markdown",
   "metadata": {},
   "source": [
    "#### Most popular blogs of 2016"
   ]
  },
  {
   "cell_type": "code",
   "execution_count": 21,
   "metadata": {},
   "outputs": [
    {
     "data": {
      "text/plain": [
       "medium.com                         191\n",
       "blog.stylingandroid.com             36\n",
       "riggaroo.co.za                      13\n",
       "android-developers.blogspot.com     10\n",
       "www.novoda.com                      10\n",
       "blog.nimbledroid.com                 9\n",
       "code.tutsplus.com                    9\n",
       "hannesdorfmann.com                   8\n",
       "jeroenmols.com                       7\n",
       "www.bignerdranch.com                 6\n",
       "Name: site, dtype: int64"
      ]
     },
     "execution_count": 21,
     "metadata": {},
     "output_type": "execute_result"
    }
   ],
   "source": [
    "adf[adf.year == 2016].site.value_counts()[:10]"
   ]
  },
  {
   "cell_type": "markdown",
   "metadata": {},
   "source": [
    "#### Most popular blogs of 2015"
   ]
  },
  {
   "cell_type": "code",
   "execution_count": 22,
   "metadata": {},
   "outputs": [
    {
     "data": {
      "text/plain": [
       "medium.com                         83\n",
       "blog.stylingandroid.com            50\n",
       "plus.google.com                    34\n",
       "android-developers.blogspot.com    19\n",
       "www.bignerdranch.com               13\n",
       "antonioleiva.com                   12\n",
       "speakerdeck.com                    12\n",
       "blog.danlew.net                    12\n",
       "code.tutsplus.com                  11\n",
       "frogermcs.github.io                10\n",
       "Name: site, dtype: int64"
      ]
     },
     "execution_count": 22,
     "metadata": {},
     "output_type": "execute_result"
    }
   ],
   "source": [
    "adf[adf.year == 2015].site.value_counts()[:10]"
   ]
  },
  {
   "cell_type": "markdown",
   "metadata": {},
   "source": [
    "#### Most popular blogs of 2014"
   ]
  },
  {
   "cell_type": "code",
   "execution_count": 23,
   "metadata": {},
   "outputs": [
    {
     "data": {
      "text/plain": [
       "blog.stylingandroid.com            41\n",
       "plus.google.com                    35\n",
       "android-developers.blogspot.com    21\n",
       "ptrprograms.blogspot.com           11\n",
       "blog.danlew.net                    10\n",
       "speakerdeck.com                     9\n",
       "medium.com                          9\n",
       "antonioleiva.com                    6\n",
       "github.com                          5\n",
       "corner.squareup.com                 5\n",
       "Name: site, dtype: int64"
      ]
     },
     "execution_count": 23,
     "metadata": {},
     "output_type": "execute_result"
    }
   ],
   "source": [
    "adf[adf.year == 2014].site.value_counts()[:10]"
   ]
  },
  {
   "cell_type": "markdown",
   "metadata": {},
   "source": [
    "#### Most popular blogs of 2013"
   ]
  },
  {
   "cell_type": "code",
   "execution_count": 24,
   "metadata": {},
   "outputs": [
    {
     "data": {
      "text/plain": [
       "blog.stylingandroid.com            29\n",
       "plus.google.com                    15\n",
       "android-developers.blogspot.com     8\n",
       "www.doubleencore.com                7\n",
       "www.kpbird.com                      4\n",
       "udinic.wordpress.com                4\n",
       "gmariotti.blogspot.de               4\n",
       "android-developers.blogspot.de      4\n",
       "kpbird.com                          3\n",
       "developer.android.com               3\n",
       "Name: site, dtype: int64"
      ]
     },
     "execution_count": 24,
     "metadata": {},
     "output_type": "execute_result"
    }
   ],
   "source": [
    "adf[adf.year == 2013].site.value_counts()[:10]"
   ]
  },
  {
   "cell_type": "markdown",
   "metadata": {},
   "source": [
    "#### Most popular blogs before 2013"
   ]
  },
  {
   "cell_type": "code",
   "execution_count": 25,
   "metadata": {},
   "outputs": [
    {
     "data": {
      "text/plain": [
       "blog.stylingandroid.com            22\n",
       "vogella.de                          8\n",
       "android-developers.blogspot.com     8\n",
       "chrisrisner.com                     7\n",
       "grokkingandroid.com                 5\n",
       "plus.google.com                     4\n",
       "developer.android.com               4\n",
       "mobile.tutsplus.com                 3\n",
       "vogella.com                         3\n",
       "androiduipatterns.com               3\n",
       "Name: site, dtype: int64"
      ]
     },
     "execution_count": 25,
     "metadata": {},
     "output_type": "execute_result"
    }
   ],
   "source": [
    "adf[adf.year < 2013].site.value_counts()[:10]"
   ]
  },
  {
   "cell_type": "code",
   "execution_count": 69,
   "metadata": {},
   "outputs": [
    {
     "data": {
      "text/html": [
       "<div>\n",
       "<style>\n",
       "    .dataframe thead tr:only-child th {\n",
       "        text-align: right;\n",
       "    }\n",
       "\n",
       "    .dataframe thead th {\n",
       "        text-align: left;\n",
       "    }\n",
       "\n",
       "    .dataframe tbody tr th {\n",
       "        vertical-align: top;\n",
       "    }\n",
       "</style>\n",
       "<table border=\"1\" class=\"dataframe\">\n",
       "  <thead>\n",
       "    <tr style=\"text-align: right;\">\n",
       "      <th>site</th>\n",
       "      <th>Working with XML on Android</th>\n",
       "      <th>abhan.github.io</th>\n",
       "      <th>acadgild.com</th>\n",
       "      <th>adavis.info</th>\n",
       "      <th>adelnizamutdinov.github.io</th>\n",
       "      <th>afterecho.uk</th>\n",
       "      <th>agiliq.com</th>\n",
       "      <th>air.mozilla.org</th>\n",
       "      <th>aiyprojects.withgoogle.com</th>\n",
       "      <th>akarnokd.blogspot.com</th>\n",
       "      <th>...</th>\n",
       "      <th>www.zendesk.com</th>\n",
       "      <th>www.zoftino.com</th>\n",
       "      <th>xrigau.wordpress.com</th>\n",
       "      <th>yakivmospan.wordpress.com</th>\n",
       "      <th>yalantis.com</th>\n",
       "      <th>yarikx.github.io</th>\n",
       "      <th>yvonne.idescout.com</th>\n",
       "      <th>zdominguez.com</th>\n",
       "      <th>zeroturnaround.com</th>\n",
       "      <th>zserge.com</th>\n",
       "    </tr>\n",
       "    <tr>\n",
       "      <th>year</th>\n",
       "      <th></th>\n",
       "      <th></th>\n",
       "      <th></th>\n",
       "      <th></th>\n",
       "      <th></th>\n",
       "      <th></th>\n",
       "      <th></th>\n",
       "      <th></th>\n",
       "      <th></th>\n",
       "      <th></th>\n",
       "      <th></th>\n",
       "      <th></th>\n",
       "      <th></th>\n",
       "      <th></th>\n",
       "      <th></th>\n",
       "      <th></th>\n",
       "      <th></th>\n",
       "      <th></th>\n",
       "      <th></th>\n",
       "      <th></th>\n",
       "      <th></th>\n",
       "    </tr>\n",
       "  </thead>\n",
       "  <tbody>\n",
       "    <tr>\n",
       "      <th>2011</th>\n",
       "      <td>1</td>\n",
       "      <td>0</td>\n",
       "      <td>0</td>\n",
       "      <td>0</td>\n",
       "      <td>0</td>\n",
       "      <td>0</td>\n",
       "      <td>0</td>\n",
       "      <td>0</td>\n",
       "      <td>0</td>\n",
       "      <td>0</td>\n",
       "      <td>...</td>\n",
       "      <td>0</td>\n",
       "      <td>0</td>\n",
       "      <td>0</td>\n",
       "      <td>0</td>\n",
       "      <td>0</td>\n",
       "      <td>0</td>\n",
       "      <td>0</td>\n",
       "      <td>0</td>\n",
       "      <td>0</td>\n",
       "      <td>0</td>\n",
       "    </tr>\n",
       "    <tr>\n",
       "      <th>2012</th>\n",
       "      <td>0</td>\n",
       "      <td>0</td>\n",
       "      <td>0</td>\n",
       "      <td>0</td>\n",
       "      <td>0</td>\n",
       "      <td>0</td>\n",
       "      <td>1</td>\n",
       "      <td>0</td>\n",
       "      <td>0</td>\n",
       "      <td>0</td>\n",
       "      <td>...</td>\n",
       "      <td>0</td>\n",
       "      <td>0</td>\n",
       "      <td>1</td>\n",
       "      <td>0</td>\n",
       "      <td>0</td>\n",
       "      <td>0</td>\n",
       "      <td>0</td>\n",
       "      <td>0</td>\n",
       "      <td>0</td>\n",
       "      <td>0</td>\n",
       "    </tr>\n",
       "    <tr>\n",
       "      <th>2013</th>\n",
       "      <td>0</td>\n",
       "      <td>1</td>\n",
       "      <td>0</td>\n",
       "      <td>0</td>\n",
       "      <td>0</td>\n",
       "      <td>0</td>\n",
       "      <td>0</td>\n",
       "      <td>1</td>\n",
       "      <td>0</td>\n",
       "      <td>0</td>\n",
       "      <td>...</td>\n",
       "      <td>0</td>\n",
       "      <td>0</td>\n",
       "      <td>0</td>\n",
       "      <td>0</td>\n",
       "      <td>0</td>\n",
       "      <td>0</td>\n",
       "      <td>0</td>\n",
       "      <td>0</td>\n",
       "      <td>0</td>\n",
       "      <td>0</td>\n",
       "    </tr>\n",
       "    <tr>\n",
       "      <th>2014</th>\n",
       "      <td>0</td>\n",
       "      <td>0</td>\n",
       "      <td>0</td>\n",
       "      <td>0</td>\n",
       "      <td>0</td>\n",
       "      <td>0</td>\n",
       "      <td>0</td>\n",
       "      <td>0</td>\n",
       "      <td>0</td>\n",
       "      <td>0</td>\n",
       "      <td>...</td>\n",
       "      <td>0</td>\n",
       "      <td>0</td>\n",
       "      <td>0</td>\n",
       "      <td>1</td>\n",
       "      <td>0</td>\n",
       "      <td>0</td>\n",
       "      <td>0</td>\n",
       "      <td>0</td>\n",
       "      <td>0</td>\n",
       "      <td>1</td>\n",
       "    </tr>\n",
       "    <tr>\n",
       "      <th>2015</th>\n",
       "      <td>0</td>\n",
       "      <td>0</td>\n",
       "      <td>1</td>\n",
       "      <td>0</td>\n",
       "      <td>0</td>\n",
       "      <td>0</td>\n",
       "      <td>0</td>\n",
       "      <td>0</td>\n",
       "      <td>0</td>\n",
       "      <td>1</td>\n",
       "      <td>...</td>\n",
       "      <td>0</td>\n",
       "      <td>0</td>\n",
       "      <td>0</td>\n",
       "      <td>0</td>\n",
       "      <td>2</td>\n",
       "      <td>1</td>\n",
       "      <td>1</td>\n",
       "      <td>0</td>\n",
       "      <td>0</td>\n",
       "      <td>0</td>\n",
       "    </tr>\n",
       "  </tbody>\n",
       "</table>\n",
       "<p>5 rows × 573 columns</p>\n",
       "</div>"
      ],
      "text/plain": [
       "site  Working with XML on Android  abhan.github.io  acadgild.com  adavis.info  \\\n",
       "year                                                                            \n",
       "2011                            1                0             0            0   \n",
       "2012                            0                0             0            0   \n",
       "2013                            0                1             0            0   \n",
       "2014                            0                0             0            0   \n",
       "2015                            0                0             1            0   \n",
       "\n",
       "site  adelnizamutdinov.github.io  afterecho.uk  agiliq.com  air.mozilla.org  \\\n",
       "year                                                                          \n",
       "2011                           0             0           0                0   \n",
       "2012                           0             0           1                0   \n",
       "2013                           0             0           0                1   \n",
       "2014                           0             0           0                0   \n",
       "2015                           0             0           0                0   \n",
       "\n",
       "site  aiyprojects.withgoogle.com  akarnokd.blogspot.com     ...      \\\n",
       "year                                                        ...       \n",
       "2011                           0                      0     ...       \n",
       "2012                           0                      0     ...       \n",
       "2013                           0                      0     ...       \n",
       "2014                           0                      0     ...       \n",
       "2015                           0                      1     ...       \n",
       "\n",
       "site  www.zendesk.com  www.zoftino.com  xrigau.wordpress.com  \\\n",
       "year                                                           \n",
       "2011                0                0                     0   \n",
       "2012                0                0                     1   \n",
       "2013                0                0                     0   \n",
       "2014                0                0                     0   \n",
       "2015                0                0                     0   \n",
       "\n",
       "site  yakivmospan.wordpress.com  yalantis.com  yarikx.github.io  \\\n",
       "year                                                              \n",
       "2011                          0             0                 0   \n",
       "2012                          0             0                 0   \n",
       "2013                          0             0                 0   \n",
       "2014                          1             0                 0   \n",
       "2015                          0             2                 1   \n",
       "\n",
       "site  yvonne.idescout.com  zdominguez.com  zeroturnaround.com  zserge.com  \n",
       "year                                                                       \n",
       "2011                    0               0                   0           0  \n",
       "2012                    0               0                   0           0  \n",
       "2013                    0               0                   0           0  \n",
       "2014                    0               0                   0           1  \n",
       "2015                    1               0                   0           0  \n",
       "\n",
       "[5 rows x 573 columns]"
      ]
     },
     "execution_count": 69,
     "metadata": {},
     "output_type": "execute_result"
    }
   ],
   "source": [
    "blogs_by_year = pd.pivot_table(adf, index='year', columns='site', aggfunc=lambda x: len(x.unique()), fill_value=0).issue_num\n",
    "blogs_by_year.head()"
   ]
  },
  {
   "cell_type": "code",
   "execution_count": 27,
   "metadata": {},
   "outputs": [
    {
     "data": {
      "text/plain": [
       "year\n",
       "2011     1\n",
       "2012    14\n",
       "2013    24\n",
       "2014    39\n",
       "2015    49\n",
       "2016    34\n",
       "2017    19\n",
       "Name: blog.stylingandroid.com, dtype: int64"
      ]
     },
     "execution_count": 27,
     "metadata": {},
     "output_type": "execute_result"
    }
   ],
   "source": [
    "blogs_by_year['blog.stylingandroid.com']"
   ]
  },
  {
   "cell_type": "code",
   "execution_count": 66,
   "metadata": {},
   "outputs": [
    {
     "data": {
      "text/plain": [
       "year\n",
       "2011     1\n",
       "2012    14\n",
       "2013    24\n",
       "2014    39\n",
       "2015    49\n",
       "2016    34\n",
       "2017    19\n",
       "Name: blog.stylingandroid.com, dtype: int64"
      ]
     },
     "execution_count": 66,
     "metadata": {},
     "output_type": "execute_result"
    }
   ],
   "source": [
    "blogs_by_year['total'] = blogs_by_year.sum(0)\n",
    "blogs_by_year['blog.stylingandroid.com']"
   ]
  },
  {
   "cell_type": "code",
   "execution_count": 75,
   "metadata": {},
   "outputs": [
    {
     "data": {
      "text/html": [
       "<div>\n",
       "<style>\n",
       "    .dataframe thead tr:only-child th {\n",
       "        text-align: right;\n",
       "    }\n",
       "\n",
       "    .dataframe thead th {\n",
       "        text-align: left;\n",
       "    }\n",
       "\n",
       "    .dataframe tbody tr th {\n",
       "        vertical-align: top;\n",
       "    }\n",
       "</style>\n",
       "<table border=\"1\" class=\"dataframe\">\n",
       "  <thead>\n",
       "    <tr style=\"text-align: right;\">\n",
       "      <th>site</th>\n",
       "      <th>android-developers.blogspot.com</th>\n",
       "      <th>antonioleiva.com</th>\n",
       "      <th>blog.danlew.net</th>\n",
       "      <th>blog.stylingandroid.com</th>\n",
       "      <th>code.tutsplus.com</th>\n",
       "      <th>hannesdorfmann.com</th>\n",
       "      <th>medium.com</th>\n",
       "      <th>plus.google.com</th>\n",
       "      <th>www.bignerdranch.com</th>\n",
       "      <th>www.philosophicalhacker.com</th>\n",
       "    </tr>\n",
       "    <tr>\n",
       "      <th>year</th>\n",
       "      <th></th>\n",
       "      <th></th>\n",
       "      <th></th>\n",
       "      <th></th>\n",
       "      <th></th>\n",
       "      <th></th>\n",
       "      <th></th>\n",
       "      <th></th>\n",
       "      <th></th>\n",
       "      <th></th>\n",
       "    </tr>\n",
       "  </thead>\n",
       "  <tbody>\n",
       "    <tr>\n",
       "      <th>2011</th>\n",
       "      <td>1</td>\n",
       "      <td>0</td>\n",
       "      <td>0</td>\n",
       "      <td>1</td>\n",
       "      <td>0</td>\n",
       "      <td>0</td>\n",
       "      <td>0</td>\n",
       "      <td>0</td>\n",
       "      <td>0</td>\n",
       "      <td>0</td>\n",
       "    </tr>\n",
       "    <tr>\n",
       "      <th>2012</th>\n",
       "      <td>6</td>\n",
       "      <td>0</td>\n",
       "      <td>0</td>\n",
       "      <td>14</td>\n",
       "      <td>0</td>\n",
       "      <td>0</td>\n",
       "      <td>0</td>\n",
       "      <td>3</td>\n",
       "      <td>0</td>\n",
       "      <td>0</td>\n",
       "    </tr>\n",
       "    <tr>\n",
       "      <th>2013</th>\n",
       "      <td>6</td>\n",
       "      <td>2</td>\n",
       "      <td>0</td>\n",
       "      <td>24</td>\n",
       "      <td>0</td>\n",
       "      <td>0</td>\n",
       "      <td>1</td>\n",
       "      <td>11</td>\n",
       "      <td>0</td>\n",
       "      <td>0</td>\n",
       "    </tr>\n",
       "    <tr>\n",
       "      <th>2014</th>\n",
       "      <td>18</td>\n",
       "      <td>6</td>\n",
       "      <td>10</td>\n",
       "      <td>39</td>\n",
       "      <td>0</td>\n",
       "      <td>1</td>\n",
       "      <td>7</td>\n",
       "      <td>21</td>\n",
       "      <td>5</td>\n",
       "      <td>0</td>\n",
       "    </tr>\n",
       "    <tr>\n",
       "      <th>2015</th>\n",
       "      <td>16</td>\n",
       "      <td>12</td>\n",
       "      <td>12</td>\n",
       "      <td>49</td>\n",
       "      <td>10</td>\n",
       "      <td>7</td>\n",
       "      <td>43</td>\n",
       "      <td>24</td>\n",
       "      <td>11</td>\n",
       "      <td>4</td>\n",
       "    </tr>\n",
       "  </tbody>\n",
       "</table>\n",
       "</div>"
      ],
      "text/plain": [
       "site  android-developers.blogspot.com  antonioleiva.com  blog.danlew.net  \\\n",
       "year                                                                       \n",
       "2011                                1                 0                0   \n",
       "2012                                6                 0                0   \n",
       "2013                                6                 2                0   \n",
       "2014                               18                 6               10   \n",
       "2015                               16                12               12   \n",
       "\n",
       "site  blog.stylingandroid.com  code.tutsplus.com  hannesdorfmann.com  \\\n",
       "year                                                                   \n",
       "2011                        1                  0                   0   \n",
       "2012                       14                  0                   0   \n",
       "2013                       24                  0                   0   \n",
       "2014                       39                  0                   1   \n",
       "2015                       49                 10                   7   \n",
       "\n",
       "site  medium.com  plus.google.com  www.bignerdranch.com  \\\n",
       "year                                                      \n",
       "2011           0                0                     0   \n",
       "2012           0                3                     0   \n",
       "2013           1               11                     0   \n",
       "2014           7               21                     5   \n",
       "2015          43               24                    11   \n",
       "\n",
       "site  www.philosophicalhacker.com  \n",
       "year                               \n",
       "2011                            0  \n",
       "2012                            0  \n",
       "2013                            0  \n",
       "2014                            0  \n",
       "2015                            4  "
      ]
     },
     "execution_count": 75,
     "metadata": {},
     "output_type": "execute_result"
    }
   ],
   "source": [
    "top_blogs_by_year = blogs_by_year.loc[:, blogs_by_year.sum(0) >= 20]\n",
    "top_blogs_by_year.head()"
   ]
  },
  {
   "cell_type": "code",
   "execution_count": 58,
   "metadata": {},
   "outputs": [
    {
     "data": {
      "application/vnd.plotly.v1+json": {
       "data": [
        {
         "name": "android-developers.blogspot.com",
         "x": [
          2011,
          2012,
          2013,
          2014,
          2015,
          2016,
          2017
         ],
         "y": [
          1,
          6,
          6,
          18,
          16,
          9,
          0
         ]
        },
        {
         "name": "antonioleiva.com",
         "x": [
          2011,
          2012,
          2013,
          2014,
          2015,
          2016,
          2017
         ],
         "y": [
          0,
          0,
          2,
          6,
          12,
          2,
          2
         ]
        },
        {
         "name": "blog.danlew.net",
         "x": [
          2011,
          2012,
          2013,
          2014,
          2015,
          2016,
          2017
         ],
         "y": [
          0,
          0,
          0,
          10,
          12,
          2,
          5
         ]
        },
        {
         "name": "blog.stylingandroid.com",
         "x": [
          2011,
          2012,
          2013,
          2014,
          2015,
          2016,
          2017
         ],
         "y": [
          1,
          14,
          24,
          39,
          49,
          34,
          19
         ]
        },
        {
         "name": "code.tutsplus.com",
         "x": [
          2011,
          2012,
          2013,
          2014,
          2015,
          2016,
          2017
         ],
         "y": [
          0,
          0,
          0,
          0,
          10,
          9,
          1
         ]
        },
        {
         "name": "hannesdorfmann.com",
         "x": [
          2011,
          2012,
          2013,
          2014,
          2015,
          2016,
          2017
         ],
         "y": [
          0,
          0,
          0,
          1,
          7,
          8,
          6
         ]
        },
        {
         "name": "medium.com",
         "x": [
          2011,
          2012,
          2013,
          2014,
          2015,
          2016,
          2017
         ],
         "y": [
          0,
          0,
          1,
          7,
          43,
          45,
          25
         ]
        },
        {
         "name": "plus.google.com",
         "x": [
          2011,
          2012,
          2013,
          2014,
          2015,
          2016,
          2017
         ],
         "y": [
          0,
          3,
          11,
          21,
          24,
          3,
          1
         ]
        },
        {
         "name": "www.bignerdranch.com",
         "x": [
          2011,
          2012,
          2013,
          2014,
          2015,
          2016,
          2017
         ],
         "y": [
          0,
          0,
          0,
          5,
          11,
          6,
          1
         ]
        },
        {
         "name": "www.philosophicalhacker.com",
         "x": [
          2011,
          2012,
          2013,
          2014,
          2015,
          2016,
          2017
         ],
         "y": [
          0,
          0,
          0,
          0,
          4,
          5,
          12
         ]
        }
       ],
       "layout": {
        "title": "Top 10 Android blogs of all time",
        "xaxis": {
         "title": "Year"
        },
        "yaxis": {
         "title": "Frequency"
        }
       }
      },
      "text/html": [
       "<div id=\"a7c58a65-c914-4daa-bff1-8d33e1ad6415\" style=\"height: 525px; width: 100%;\" class=\"plotly-graph-div\"></div><script type=\"text/javascript\">require([\"plotly\"], function(Plotly) { window.PLOTLYENV=window.PLOTLYENV || {};window.PLOTLYENV.BASE_URL=\"https://plot.ly\";Plotly.newPlot(\"a7c58a65-c914-4daa-bff1-8d33e1ad6415\", [{\"x\": [2011, 2012, 2013, 2014, 2015, 2016, 2017], \"y\": [1, 6, 6, 18, 16, 9, 0], \"name\": \"android-developers.blogspot.com\"}, {\"x\": [2011, 2012, 2013, 2014, 2015, 2016, 2017], \"y\": [0, 0, 2, 6, 12, 2, 2], \"name\": \"antonioleiva.com\"}, {\"x\": [2011, 2012, 2013, 2014, 2015, 2016, 2017], \"y\": [0, 0, 0, 10, 12, 2, 5], \"name\": \"blog.danlew.net\"}, {\"x\": [2011, 2012, 2013, 2014, 2015, 2016, 2017], \"y\": [1, 14, 24, 39, 49, 34, 19], \"name\": \"blog.stylingandroid.com\"}, {\"x\": [2011, 2012, 2013, 2014, 2015, 2016, 2017], \"y\": [0, 0, 0, 0, 10, 9, 1], \"name\": \"code.tutsplus.com\"}, {\"x\": [2011, 2012, 2013, 2014, 2015, 2016, 2017], \"y\": [0, 0, 0, 1, 7, 8, 6], \"name\": \"hannesdorfmann.com\"}, {\"x\": [2011, 2012, 2013, 2014, 2015, 2016, 2017], \"y\": [0, 0, 1, 7, 43, 45, 25], \"name\": \"medium.com\"}, {\"x\": [2011, 2012, 2013, 2014, 2015, 2016, 2017], \"y\": [0, 3, 11, 21, 24, 3, 1], \"name\": \"plus.google.com\"}, {\"x\": [2011, 2012, 2013, 2014, 2015, 2016, 2017], \"y\": [0, 0, 0, 5, 11, 6, 1], \"name\": \"www.bignerdranch.com\"}, {\"x\": [2011, 2012, 2013, 2014, 2015, 2016, 2017], \"y\": [0, 0, 0, 0, 4, 5, 12], \"name\": \"www.philosophicalhacker.com\"}], {\"yaxis\": {\"title\": \"Frequency\"}, \"xaxis\": {\"title\": \"Year\"}, \"title\": \"Top 10 Android blogs of all time\"}, {\"showLink\": true, \"linkText\": \"Export to plot.ly\"})});</script>"
      ],
      "text/vnd.plotly.v1+html": [
       "<div id=\"a7c58a65-c914-4daa-bff1-8d33e1ad6415\" style=\"height: 525px; width: 100%;\" class=\"plotly-graph-div\"></div><script type=\"text/javascript\">require([\"plotly\"], function(Plotly) { window.PLOTLYENV=window.PLOTLYENV || {};window.PLOTLYENV.BASE_URL=\"https://plot.ly\";Plotly.newPlot(\"a7c58a65-c914-4daa-bff1-8d33e1ad6415\", [{\"x\": [2011, 2012, 2013, 2014, 2015, 2016, 2017], \"y\": [1, 6, 6, 18, 16, 9, 0], \"name\": \"android-developers.blogspot.com\"}, {\"x\": [2011, 2012, 2013, 2014, 2015, 2016, 2017], \"y\": [0, 0, 2, 6, 12, 2, 2], \"name\": \"antonioleiva.com\"}, {\"x\": [2011, 2012, 2013, 2014, 2015, 2016, 2017], \"y\": [0, 0, 0, 10, 12, 2, 5], \"name\": \"blog.danlew.net\"}, {\"x\": [2011, 2012, 2013, 2014, 2015, 2016, 2017], \"y\": [1, 14, 24, 39, 49, 34, 19], \"name\": \"blog.stylingandroid.com\"}, {\"x\": [2011, 2012, 2013, 2014, 2015, 2016, 2017], \"y\": [0, 0, 0, 0, 10, 9, 1], \"name\": \"code.tutsplus.com\"}, {\"x\": [2011, 2012, 2013, 2014, 2015, 2016, 2017], \"y\": [0, 0, 0, 1, 7, 8, 6], \"name\": \"hannesdorfmann.com\"}, {\"x\": [2011, 2012, 2013, 2014, 2015, 2016, 2017], \"y\": [0, 0, 1, 7, 43, 45, 25], \"name\": \"medium.com\"}, {\"x\": [2011, 2012, 2013, 2014, 2015, 2016, 2017], \"y\": [0, 3, 11, 21, 24, 3, 1], \"name\": \"plus.google.com\"}, {\"x\": [2011, 2012, 2013, 2014, 2015, 2016, 2017], \"y\": [0, 0, 0, 5, 11, 6, 1], \"name\": \"www.bignerdranch.com\"}, {\"x\": [2011, 2012, 2013, 2014, 2015, 2016, 2017], \"y\": [0, 0, 0, 0, 4, 5, 12], \"name\": \"www.philosophicalhacker.com\"}], {\"yaxis\": {\"title\": \"Frequency\"}, \"xaxis\": {\"title\": \"Year\"}, \"title\": \"Top 10 Android blogs of all time\"}, {\"showLink\": true, \"linkText\": \"Export to plot.ly\"})});</script>"
      ]
     },
     "metadata": {},
     "output_type": "display_data"
    }
   ],
   "source": [
    "plotly.offline.iplot({\n",
    "    \"data\": [{\n",
    "        'x': top_blogs_by_year.index,\n",
    "        'y': top_blogs_by_year[col],\n",
    "        'name': col\n",
    "        }  for col in top_blogs_by_year.columns],\n",
    "    \"layout\": Layout(yaxis=dict(title='Frequency'), xaxis=dict(title='Year'),\n",
    "        title='Top 10 Android blogs of all time')\n",
    "    })"
   ]
  },
  {
   "cell_type": "markdown",
   "metadata": {},
   "source": [
    "## Who are the most prolific bloggers? Have they changed over time?"
   ]
  },
  {
   "cell_type": "code",
   "execution_count": 76,
   "metadata": {
    "collapsed": true
   },
   "outputs": [],
   "source": [
    "mask_authors = (adf.site == 'medium.com') | (adf.site == 'plus.google.com') | (adf.site == 'speakerdeck.com')"
   ]
  },
  {
   "cell_type": "code",
   "execution_count": 81,
   "metadata": {},
   "outputs": [
    {
     "name": "stderr",
     "output_type": "stream",
     "text": [
      "/anaconda/lib/python3.6/site-packages/pandas/core/indexing.py:517: SettingWithCopyWarning:\n",
      "\n",
      "\n",
      "A value is trying to be set on a copy of a slice from a DataFrame.\n",
      "Try using .loc[row_indexer,col_indexer] = value instead\n",
      "\n",
      "See the caveats in the documentation: http://pandas.pydata.org/pandas-docs/stable/indexing.html#indexing-view-versus-copy\n",
      "\n"
     ]
    }
   ],
   "source": [
    "adf.loc[mask_authors, 'site_with_author'] = adf.link.str.split('/').str.get(3).str.replace('@','').str.replace('+','')"
   ]
  },
  {
   "cell_type": "code",
   "execution_count": 78,
   "metadata": {},
   "outputs": [
    {
     "data": {
      "text/plain": [
       "829"
      ]
     },
     "execution_count": 78,
     "metadata": {},
     "output_type": "execute_result"
    }
   ],
   "source": [
    "adf.groupby('site_with_author').count().sort_values(by='issue_num', ascending=False).issue_num.count()"
   ]
  },
  {
   "cell_type": "code",
   "execution_count": 79,
   "metadata": {},
   "outputs": [
    {
     "data": {
      "text/plain": [
       "87      https://speakerdeck.com/pareshmayani/lazy-andr...\n",
       "193     https://speakerdeck.com/stephanenicolas/blende...\n",
       "340     https://speakerdeck.com/malmstein/streaming-th...\n",
       "472     https://speakerdeck.com/cyrilmottier/deep-dive...\n",
       "474     https://speakerdeck.com/mathieu_calba/the-deat...\n",
       "498     https://speakerdeck.com/taylorling/ingredients...\n",
       "538     https://speakerdeck.com/mttkay/reactive-soundc...\n",
       "565     https://speakerdeck.com/abdyer/babbq5-automate...\n",
       "607     https://speakerdeck.com/dorvaryn/rxfy-all-the-...\n",
       "1120    https://speakerdeck.com/guardiola31337/elegant...\n",
       "1165    https://speakerdeck.com/hugovisser/connecting-...\n",
       "1508    https://speakerdeck.com/rock3r/tools-of-the-tr...\n",
       "1509    https://speakerdeck.com/udinic/speed-up-your-a...\n",
       "1510    https://speakerdeck.com/randomlytyping/android...\n",
       "1513    https://speakerdeck.com/jakewharton/simple-htt...\n",
       "1514    https://speakerdeck.com/devunwired/mastering-r...\n",
       "1516    https://speakerdeck.com/jacobtabak/data-bindin...\n",
       "1523    https://speakerdeck.com/dlew/using-styles-and-...\n",
       "1548    https://speakerdeck.com/asfalcone/android-deve...\n",
       "1675    https://speakerdeck.com/rallat/android-develop...\n",
       "1798          https://speakerdeck.com/passsy/get-reactive\n",
       "2307    https://speakerdeck.com/nhachicha/droidcon-sf-...\n",
       "2310    https://speakerdeck.com/rallat/androiddevlikea...\n",
       "2311    https://speakerdeck.com/dlew/common-rxjava-mis...\n",
       "2414     https://speakerdeck.com/dextor/to-65k-and-beyond\n",
       "2706    https://speakerdeck.com/jeroenmols/testing-mad...\n",
       "4876    https://speakerdeck.com/cyrilmottier/getting-a...\n",
       "4890    https://speakerdeck.com/jakewharton/android-ap...\n",
       "4891    https://speakerdeck.com/dlew/i-can-animate-and...\n",
       "Name: link, dtype: object"
      ]
     },
     "execution_count": 79,
     "metadata": {},
     "output_type": "execute_result"
    }
   ],
   "source": [
    "adf[adf.site == 'speakerdeck.com'].link"
   ]
  },
  {
   "cell_type": "code",
   "execution_count": 34,
   "metadata": {},
   "outputs": [
    {
     "data": {
      "text/plain": [
       "google-developers           31\n",
       "AndroidDevelopers           23\n",
       "google-developer-experts    11\n",
       "ribot-labs                   9\n",
       "sebs-top-tips                8\n",
       "sergii                       7\n",
       "hitherejoe                   7\n",
       "bherbst                      6\n",
       "duhroach                     5\n",
       "square-corner-blog           4\n",
       "azimolabs                    4\n",
       "shelajev                     4\n",
       "exploring-android            4\n",
       "amitshekhar                  4\n",
       "manuelvicnt                  4\n",
       "p.tournaris                  4\n",
       "crunching-rxandroid          4\n",
       "rocknnull                    3\n",
       "keepsafe-engineering         3\n",
       "building-for-android-tv      3\n",
       "Name: site_with_author, dtype: int64"
      ]
     },
     "execution_count": 34,
     "metadata": {},
     "output_type": "execute_result"
    }
   ],
   "source": [
    "adf.site_with_author.value_counts()[:20]"
   ]
  },
  {
   "cell_type": "code",
   "execution_count": 35,
   "metadata": {},
   "outputs": [
    {
     "name": "stderr",
     "output_type": "stream",
     "text": [
      "/anaconda/lib/python3.6/site-packages/pandas/core/indexing.py:517: SettingWithCopyWarning:\n",
      "\n",
      "\n",
      "A value is trying to be set on a copy of a slice from a DataFrame.\n",
      "Try using .loc[row_indexer,col_indexer] = value instead\n",
      "\n",
      "See the caveats in the documentation: http://pandas.pydata.org/pandas-docs/stable/indexing.html#indexing-view-versus-copy\n",
      "\n"
     ]
    }
   ],
   "source": [
    "adf.loc[mask_authors, ('site_with_author')] = adf.site + '/' + adf.site_with_author\n",
    "adf.loc[~mask_authors, ('site_with_author')] = adf.site"
   ]
  },
  {
   "cell_type": "code",
   "execution_count": 36,
   "metadata": {},
   "outputs": [
    {
     "data": {
      "text/plain": [
       "'http://www.bignerdranch.com/blog/implementing-swipe-to-refresh/'"
      ]
     },
     "execution_count": 36,
     "metadata": {},
     "output_type": "execute_result"
    }
   ],
   "source": [
    "adf[adf.site == 'www.bignerdranch.com'].iloc[3].link"
   ]
  },
  {
   "cell_type": "code",
   "execution_count": 37,
   "metadata": {},
   "outputs": [
    {
     "data": {
      "text/plain": [
       "blog.stylingandroid.com                197\n",
       "android-developers.blogspot.com         66\n",
       "medium.com/google-developers            31\n",
       "blog.danlew.net                         30\n",
       "www.bignerdranch.com                    25\n",
       "antonioleiva.com                        24\n",
       "plus.google.com/AndroidDevelopers       23\n",
       "hannesdorfmann.com                      22\n",
       "www.philosophicalhacker.com             22\n",
       "code.tutsplus.com                       21\n",
       "riggaroo.co.za                          18\n",
       "commonsware.com                         17\n",
       "www.novoda.com                          17\n",
       "frogermcs.github.io                     14\n",
       "blog.sqisland.com                       14\n",
       "hackernoon.com                          13\n",
       "developer.android.com                   13\n",
       "grokkingandroid.com                     13\n",
       "ptrprograms.blogspot.com                12\n",
       "ryanharter.com                          11\n",
       "medium.com/google-developer-experts     11\n",
       "android.jlelse.eu                       11\n",
       "www.doubleencore.com                    11\n",
       "www.androiddesignpatterns.com           11\n",
       "saulmm.github.io                        11\n",
       "blog.nimbledroid.com                    11\n",
       "www.thedroidsonroids.com                11\n",
       "jeroenmols.com                          10\n",
       "corner.squareup.com                     10\n",
       "medium.com/ribot-labs                    9\n",
       "artemzin.com                             9\n",
       "www.slideshare.net                       9\n",
       "realm.io                                 9\n",
       "wiresareobsolete.com                     8\n",
       "github.com                               8\n",
       "trickyandroid.com                        8\n",
       "blog.egorand.me                          8\n",
       "udinic.wordpress.com                     8\n",
       "medium.com/sebs-top-tips                 8\n",
       "android-developers.blogspot.de           8\n",
       "Name: site_with_author, dtype: int64"
      ]
     },
     "execution_count": 37,
     "metadata": {},
     "output_type": "execute_result"
    }
   ],
   "source": [
    "adf.site_with_author.value_counts()[:40]"
   ]
  },
  {
   "cell_type": "code",
   "execution_count": 38,
   "metadata": {},
   "outputs": [
    {
     "data": {
      "text/plain": [
       "263"
      ]
     },
     "execution_count": 38,
     "metadata": {},
     "output_type": "execute_result"
    }
   ],
   "source": [
    "adf.issue_num.max()"
   ]
  },
  {
   "cell_type": "code",
   "execution_count": 39,
   "metadata": {},
   "outputs": [
    {
     "data": {
      "text/plain": [
       "blog.stylingandroid.com                37\n",
       "www.philosophicalhacker.com            15\n",
       "medium.com/google-developers           13\n",
       "hackernoon.com                         13\n",
       "riggaroo.co.za                         13\n",
       "www.novoda.com                         12\n",
       "android.jlelse.eu                      11\n",
       "hannesdorfmann.com                      8\n",
       "blog.danlew.net                         7\n",
       "www.thedroidsonroids.com                7\n",
       "jeroenmols.com                          7\n",
       "commonsware.com                         7\n",
       "medium.com/google-developer-experts     6\n",
       "blog.mindorks.com                       6\n",
       "m.signalvnoise.com                      6\n",
       "www.raywenderlich.com                   5\n",
       "upday.github.io                         5\n",
       "code.tutsplus.com                       5\n",
       "blog.egorand.me                         5\n",
       "yalantis.com                            5\n",
       "tech.trello.com                         5\n",
       "www.andevcon.com                        4\n",
       "medium.com/manuelvicnt                  4\n",
       "medium.com/azimolabs                    4\n",
       "segunfamisa.com                         4\n",
       "Name: site_with_author, dtype: int64"
      ]
     },
     "execution_count": 39,
     "metadata": {},
     "output_type": "execute_result"
    }
   ],
   "source": [
    "adf[adf.issue_num > (adf.issue_num.max() - 52)].site_with_author.value_counts()[:25]"
   ]
  },
  {
   "cell_type": "code",
   "execution_count": 40,
   "metadata": {},
   "outputs": [
    {
     "data": {
      "text/plain": [
       "blog.stylingandroid.com              19\n",
       "www.philosophicalhacker.com          12\n",
       "android.jlelse.eu                    11\n",
       "hackernoon.com                       10\n",
       "commonsware.com                       6\n",
       "www.thedroidsonroids.com              6\n",
       "hannesdorfmann.com                    6\n",
       "blog.danlew.net                       6\n",
       "blog.mindorks.com                     5\n",
       "www.novoda.com                        5\n",
       "www.raywenderlich.com                 5\n",
       "medium.com/google-developers          4\n",
       "riggaroo.co.za                        4\n",
       "tech.trello.com                       4\n",
       "jeroenmols.com                        3\n",
       "medium.com/square-corner-blog         3\n",
       "yalantis.com                          3\n",
       "android-developers.googleblog.com     3\n",
       "medium.com/rafael_toledo              3\n",
       "medium.com/proandroiddev              3\n",
       "collectiveidea.com                    3\n",
       "medium.com/quiro91                    3\n",
       "m.signalvnoise.com                    3\n",
       "eng.uber.com                          3\n",
       "medium.com/JorgeCastilloPr            3\n",
       "Name: site_with_author, dtype: int64"
      ]
     },
     "execution_count": 40,
     "metadata": {},
     "output_type": "execute_result"
    }
   ],
   "source": [
    "adf[adf.year == 2017].site_with_author.value_counts()[:25]"
   ]
  },
  {
   "cell_type": "code",
   "execution_count": 41,
   "metadata": {},
   "outputs": [
    {
     "data": {
      "text/plain": [
       "blog.stylingandroid.com                36\n",
       "medium.com/google-developers           19\n",
       "riggaroo.co.za                         13\n",
       "android-developers.blogspot.com        10\n",
       "www.novoda.com                         10\n",
       "code.tutsplus.com                       9\n",
       "blog.nimbledroid.com                    9\n",
       "hannesdorfmann.com                      8\n",
       "jeroenmols.com                          7\n",
       "medium.com/sergii                       6\n",
       "www.bignerdranch.com                    6\n",
       "medium.com/google-developer-experts     6\n",
       "realm.io                                5\n",
       "medium.com/sebs-top-tips                5\n",
       "tomstechnicalblog.blogspot.com          5\n",
       "medium.com/duhroach                     5\n",
       "www.philosophicalhacker.com             5\n",
       "upday.github.io                         5\n",
       "wiresareobsolete.com                    4\n",
       "robots.thoughtbot.com                   4\n",
       "www.thedroidsonroids.com                4\n",
       "artemzin.com                            4\n",
       "medium.com/p.tournaris                  4\n",
       "commonsware.com                         4\n",
       "medium.com/amitshekhar                  4\n",
       "Name: site_with_author, dtype: int64"
      ]
     },
     "execution_count": 41,
     "metadata": {},
     "output_type": "execute_result"
    }
   ],
   "source": [
    "adf[adf.year == 2016].site_with_author.value_counts()[:25]"
   ]
  },
  {
   "cell_type": "code",
   "execution_count": 42,
   "metadata": {
    "collapsed": true
   },
   "outputs": [],
   "source": [
    "# blog-author map\n",
    "bam = {}\n",
    "bam['blog.stylingandroid.com'] = 'Mark Allison'\n",
    "bam['blog.danlew.net'] = 'Dan Lew'\n",
    "bam['antonioleiva.com'] = 'Antonio Leiva'\n",
    "bam['hannesdorfmann.com'] = 'Hannes Dorfmann'\n",
    "bam['frogermcs.github.io'] = 'Miroslaw Stanek'\n",
    "bam['ptrprograms.blogspot.com'] = 'Paul Trebilcox-Ruiz'\n",
    "#doubleencore?\n",
    "bam['commonsware.com'] = 'Mark Murphy'\n",
    "bam['ryanharter.com'] = 'Ryan Harter'\n",
    "bam['blog.sqisland.com'] = 'Chiu-Ki Chan'\n",
    "bam['saulmm.github.io'] = 'Saúl Molinero'\n",
    "bam['www.philosophicalhacker.com'] = 'Matt Dupree'\n",
    "bam['www.androiddesignpatterns.com'] = 'Alex Lockwood'\n",
    "bam['wiresareobsolete.com'] = 'Dave Smith'\n",
    "bam['medium.com/sebs-top-tips'] = 'Sebastiano Poggi'\n",
    "bam['udinic.wordpress.com'] = 'Udi Cohen'\n",
    "bam['riggaroo.co.za'] = 'Rebecca Franks'\n",
    "bam['chrisrisner.com'] = 'Chris Risner'\n",
    "bam['artemzin.com'] = 'Artem Zinnatullin'\n",
    "bam['trickyandroid.com'] = 'Pavel Dudka'\n",
    "bam['grokkingandroid.com'] = 'Wolfram Rittmeyer'\n",
    "bam['fernandocejas.com'] = 'Fernando Cejas'\n",
    "bam['tomstechnicalblog.blogspot.com'] = 'Thomas Nield'"
   ]
  },
  {
   "cell_type": "code",
   "execution_count": 43,
   "metadata": {},
   "outputs": [
    {
     "name": "stderr",
     "output_type": "stream",
     "text": [
      "/anaconda/lib/python3.6/site-packages/pandas/core/indexing.py:337: SettingWithCopyWarning:\n",
      "\n",
      "\n",
      "A value is trying to be set on a copy of a slice from a DataFrame.\n",
      "Try using .loc[row_indexer,col_indexer] = value instead\n",
      "\n",
      "See the caveats in the documentation: http://pandas.pydata.org/pandas-docs/stable/indexing.html#indexing-view-versus-copy\n",
      "\n",
      "/anaconda/lib/python3.6/site-packages/pandas/core/indexing.py:517: SettingWithCopyWarning:\n",
      "\n",
      "\n",
      "A value is trying to be set on a copy of a slice from a DataFrame.\n",
      "Try using .loc[row_indexer,col_indexer] = value instead\n",
      "\n",
      "See the caveats in the documentation: http://pandas.pydata.org/pandas-docs/stable/indexing.html#indexing-view-versus-copy\n",
      "\n"
     ]
    }
   ],
   "source": [
    "for key in bam:\n",
    "    adf.loc[adf.site == key, 'author'] = bam[key]"
   ]
  },
  {
   "cell_type": "code",
   "execution_count": 44,
   "metadata": {},
   "outputs": [
    {
     "data": {
      "text/plain": [
       "Mark Allison         197\n",
       "Dan Lew               30\n",
       "Antonio Leiva         24\n",
       "Matt Dupree           22\n",
       "Hannes Dorfmann       22\n",
       "Rebecca Franks        18\n",
       "Mark Murphy           17\n",
       "Miroslaw Stanek       14\n",
       "Chiu-Ki Chan          14\n",
       "Wolfram Rittmeyer     13\n",
       "Name: author, dtype: int64"
      ]
     },
     "execution_count": 44,
     "metadata": {},
     "output_type": "execute_result"
    }
   ],
   "source": [
    "adf.author.value_counts()[:10]"
   ]
  },
  {
   "cell_type": "code",
   "execution_count": 45,
   "metadata": {},
   "outputs": [
    {
     "data": {
      "text/plain": [
       "Mark Allison         36\n",
       "Rebecca Franks       13\n",
       "Hannes Dorfmann       8\n",
       "Thomas Nield          5\n",
       "Matt Dupree           5\n",
       "Dave Smith            4\n",
       "Artem Zinnatullin     4\n",
       "Mark Murphy           4\n",
       "Ryan Harter           3\n",
       "Chiu-Ki Chan          3\n",
       "Name: author, dtype: int64"
      ]
     },
     "execution_count": 45,
     "metadata": {},
     "output_type": "execute_result"
    }
   ],
   "source": [
    "adf[adf.year == 2016].author.value_counts()[:10]"
   ]
  },
  {
   "cell_type": "code",
   "execution_count": 46,
   "metadata": {},
   "outputs": [
    {
     "data": {
      "text/plain": [
       "Mark Allison         50\n",
       "Dan Lew              12\n",
       "Antonio Leiva        12\n",
       "Miroslaw Stanek      10\n",
       "Chiu-Ki Chan          8\n",
       "Saúl Molinero         7\n",
       "Hannes Dorfmann       7\n",
       "Matt Dupree           5\n",
       "Fernando Cejas        4\n",
       "Artem Zinnatullin     4\n",
       "Name: author, dtype: int64"
      ]
     },
     "execution_count": 46,
     "metadata": {},
     "output_type": "execute_result"
    }
   ],
   "source": [
    "adf[adf.year == 2015].author.value_counts()[:10]"
   ]
  },
  {
   "cell_type": "code",
   "execution_count": 47,
   "metadata": {},
   "outputs": [
    {
     "data": {
      "text/plain": [
       "Mark Allison           41\n",
       "Paul Trebilcox-Ruiz    11\n",
       "Dan Lew                10\n",
       "Antonio Leiva           6\n",
       "Ryan Harter             5\n",
       "Pavel Dudka             3\n",
       "Wolfram Rittmeyer       3\n",
       "Alex Lockwood           3\n",
       "Udi Cohen               3\n",
       "Mark Murphy             2\n",
       "Name: author, dtype: int64"
      ]
     },
     "execution_count": 47,
     "metadata": {},
     "output_type": "execute_result"
    }
   ],
   "source": [
    "adf[adf.year == 2014].author.value_counts()[:10]"
   ]
  },
  {
   "cell_type": "code",
   "execution_count": 48,
   "metadata": {},
   "outputs": [
    {
     "data": {
      "text/plain": [
       "Mark Allison         29\n",
       "Udi Cohen             4\n",
       "Alex Lockwood         3\n",
       "Antonio Leiva         2\n",
       "Wolfram Rittmeyer     2\n",
       "Ryan Harter           1\n",
       "Name: author, dtype: int64"
      ]
     },
     "execution_count": 48,
     "metadata": {},
     "output_type": "execute_result"
    }
   ],
   "source": [
    "adf[adf.year == 2013].author.value_counts()[:10]"
   ]
  },
  {
   "cell_type": "code",
   "execution_count": 49,
   "metadata": {},
   "outputs": [
    {
     "data": {
      "text/plain": [
       "Mark Allison         22\n",
       "Chris Risner          7\n",
       "Wolfram Rittmeyer     5\n",
       "Dave Smith            1\n",
       "Udi Cohen             1\n",
       "Mark Murphy           1\n",
       "Name: author, dtype: int64"
      ]
     },
     "execution_count": 49,
     "metadata": {},
     "output_type": "execute_result"
    }
   ],
   "source": [
    "adf[adf.year < 2013].author.value_counts()[:10]"
   ]
  },
  {
   "cell_type": "code",
   "execution_count": 50,
   "metadata": {},
   "outputs": [
    {
     "data": {
      "text/html": [
       "<div>\n",
       "<style>\n",
       "    .dataframe thead tr:only-child th {\n",
       "        text-align: right;\n",
       "    }\n",
       "\n",
       "    .dataframe thead th {\n",
       "        text-align: left;\n",
       "    }\n",
       "\n",
       "    .dataframe tbody tr th {\n",
       "        vertical-align: top;\n",
       "    }\n",
       "</style>\n",
       "<table border=\"1\" class=\"dataframe\">\n",
       "  <thead>\n",
       "    <tr style=\"text-align: right;\">\n",
       "      <th>author</th>\n",
       "      <th>Alex Lockwood</th>\n",
       "      <th>Antonio Leiva</th>\n",
       "      <th>Artem Zinnatullin</th>\n",
       "      <th>Chiu-Ki Chan</th>\n",
       "      <th>Chris Risner</th>\n",
       "      <th>Dan Lew</th>\n",
       "      <th>Dave Smith</th>\n",
       "      <th>Fernando Cejas</th>\n",
       "      <th>Hannes Dorfmann</th>\n",
       "      <th>Mark Allison</th>\n",
       "      <th>...</th>\n",
       "      <th>Matt Dupree</th>\n",
       "      <th>Miroslaw Stanek</th>\n",
       "      <th>Paul Trebilcox-Ruiz</th>\n",
       "      <th>Pavel Dudka</th>\n",
       "      <th>Rebecca Franks</th>\n",
       "      <th>Ryan Harter</th>\n",
       "      <th>Saúl Molinero</th>\n",
       "      <th>Thomas Nield</th>\n",
       "      <th>Udi Cohen</th>\n",
       "      <th>Wolfram Rittmeyer</th>\n",
       "    </tr>\n",
       "    <tr>\n",
       "      <th>year</th>\n",
       "      <th></th>\n",
       "      <th></th>\n",
       "      <th></th>\n",
       "      <th></th>\n",
       "      <th></th>\n",
       "      <th></th>\n",
       "      <th></th>\n",
       "      <th></th>\n",
       "      <th></th>\n",
       "      <th></th>\n",
       "      <th></th>\n",
       "      <th></th>\n",
       "      <th></th>\n",
       "      <th></th>\n",
       "      <th></th>\n",
       "      <th></th>\n",
       "      <th></th>\n",
       "      <th></th>\n",
       "      <th></th>\n",
       "      <th></th>\n",
       "      <th></th>\n",
       "    </tr>\n",
       "  </thead>\n",
       "  <tbody>\n",
       "    <tr>\n",
       "      <th>2011</th>\n",
       "      <td>0</td>\n",
       "      <td>0</td>\n",
       "      <td>0</td>\n",
       "      <td>0</td>\n",
       "      <td>0</td>\n",
       "      <td>0</td>\n",
       "      <td>0</td>\n",
       "      <td>0</td>\n",
       "      <td>0</td>\n",
       "      <td>1</td>\n",
       "      <td>...</td>\n",
       "      <td>0</td>\n",
       "      <td>0</td>\n",
       "      <td>0</td>\n",
       "      <td>0</td>\n",
       "      <td>0</td>\n",
       "      <td>0</td>\n",
       "      <td>0</td>\n",
       "      <td>0</td>\n",
       "      <td>0</td>\n",
       "      <td>0</td>\n",
       "    </tr>\n",
       "    <tr>\n",
       "      <th>2012</th>\n",
       "      <td>0</td>\n",
       "      <td>0</td>\n",
       "      <td>0</td>\n",
       "      <td>0</td>\n",
       "      <td>7</td>\n",
       "      <td>0</td>\n",
       "      <td>1</td>\n",
       "      <td>0</td>\n",
       "      <td>0</td>\n",
       "      <td>14</td>\n",
       "      <td>...</td>\n",
       "      <td>0</td>\n",
       "      <td>0</td>\n",
       "      <td>0</td>\n",
       "      <td>0</td>\n",
       "      <td>0</td>\n",
       "      <td>0</td>\n",
       "      <td>0</td>\n",
       "      <td>0</td>\n",
       "      <td>1</td>\n",
       "      <td>4</td>\n",
       "    </tr>\n",
       "    <tr>\n",
       "      <th>2013</th>\n",
       "      <td>3</td>\n",
       "      <td>2</td>\n",
       "      <td>0</td>\n",
       "      <td>0</td>\n",
       "      <td>0</td>\n",
       "      <td>0</td>\n",
       "      <td>0</td>\n",
       "      <td>0</td>\n",
       "      <td>0</td>\n",
       "      <td>24</td>\n",
       "      <td>...</td>\n",
       "      <td>0</td>\n",
       "      <td>0</td>\n",
       "      <td>0</td>\n",
       "      <td>0</td>\n",
       "      <td>0</td>\n",
       "      <td>1</td>\n",
       "      <td>0</td>\n",
       "      <td>0</td>\n",
       "      <td>4</td>\n",
       "      <td>2</td>\n",
       "    </tr>\n",
       "    <tr>\n",
       "      <th>2014</th>\n",
       "      <td>3</td>\n",
       "      <td>6</td>\n",
       "      <td>0</td>\n",
       "      <td>2</td>\n",
       "      <td>0</td>\n",
       "      <td>10</td>\n",
       "      <td>2</td>\n",
       "      <td>2</td>\n",
       "      <td>1</td>\n",
       "      <td>39</td>\n",
       "      <td>...</td>\n",
       "      <td>0</td>\n",
       "      <td>2</td>\n",
       "      <td>11</td>\n",
       "      <td>2</td>\n",
       "      <td>0</td>\n",
       "      <td>5</td>\n",
       "      <td>0</td>\n",
       "      <td>0</td>\n",
       "      <td>3</td>\n",
       "      <td>3</td>\n",
       "    </tr>\n",
       "    <tr>\n",
       "      <th>2015</th>\n",
       "      <td>3</td>\n",
       "      <td>12</td>\n",
       "      <td>4</td>\n",
       "      <td>8</td>\n",
       "      <td>0</td>\n",
       "      <td>12</td>\n",
       "      <td>1</td>\n",
       "      <td>4</td>\n",
       "      <td>7</td>\n",
       "      <td>49</td>\n",
       "      <td>...</td>\n",
       "      <td>4</td>\n",
       "      <td>10</td>\n",
       "      <td>1</td>\n",
       "      <td>3</td>\n",
       "      <td>1</td>\n",
       "      <td>2</td>\n",
       "      <td>7</td>\n",
       "      <td>1</td>\n",
       "      <td>0</td>\n",
       "      <td>2</td>\n",
       "    </tr>\n",
       "  </tbody>\n",
       "</table>\n",
       "<p>5 rows × 21 columns</p>\n",
       "</div>"
      ],
      "text/plain": [
       "author  Alex Lockwood  Antonio Leiva  Artem Zinnatullin  Chiu-Ki Chan  \\\n",
       "year                                                                    \n",
       "2011                0              0                  0             0   \n",
       "2012                0              0                  0             0   \n",
       "2013                3              2                  0             0   \n",
       "2014                3              6                  0             2   \n",
       "2015                3             12                  4             8   \n",
       "\n",
       "author  Chris Risner  Dan Lew  Dave Smith  Fernando Cejas  Hannes Dorfmann  \\\n",
       "year                                                                         \n",
       "2011               0        0           0               0                0   \n",
       "2012               7        0           1               0                0   \n",
       "2013               0        0           0               0                0   \n",
       "2014               0       10           2               2                1   \n",
       "2015               0       12           1               4                7   \n",
       "\n",
       "author  Mark Allison        ...          Matt Dupree  Miroslaw Stanek  \\\n",
       "year                        ...                                         \n",
       "2011               1        ...                    0                0   \n",
       "2012              14        ...                    0                0   \n",
       "2013              24        ...                    0                0   \n",
       "2014              39        ...                    0                2   \n",
       "2015              49        ...                    4               10   \n",
       "\n",
       "author  Paul Trebilcox-Ruiz  Pavel Dudka  Rebecca Franks  Ryan Harter  \\\n",
       "year                                                                    \n",
       "2011                      0            0               0            0   \n",
       "2012                      0            0               0            0   \n",
       "2013                      0            0               0            1   \n",
       "2014                     11            2               0            5   \n",
       "2015                      1            3               1            2   \n",
       "\n",
       "author  Saúl Molinero  Thomas Nield  Udi Cohen  Wolfram Rittmeyer  \n",
       "year                                                               \n",
       "2011                0             0          0                  0  \n",
       "2012                0             0          1                  4  \n",
       "2013                0             0          4                  2  \n",
       "2014                0             0          3                  3  \n",
       "2015                7             1          0                  2  \n",
       "\n",
       "[5 rows x 21 columns]"
      ]
     },
     "execution_count": 50,
     "metadata": {},
     "output_type": "execute_result"
    }
   ],
   "source": [
    "authors_by_year = pd.pivot_table(adf, index='year', columns='author', aggfunc=lambda x: len(x.unique()), fill_value=0).issue_num\n",
    "authors_by_year.head()"
   ]
  },
  {
   "cell_type": "code",
   "execution_count": 51,
   "metadata": {},
   "outputs": [
    {
     "data": {
      "application/vnd.plotly.v1+json": {
       "data": [
        {
         "name": "Alex Lockwood",
         "x": [
          2011,
          2012,
          2013,
          2014,
          2015,
          2016,
          2017
         ],
         "y": [
          0,
          0,
          3,
          3,
          3,
          2,
          0
         ]
        },
        {
         "name": "Antonio Leiva",
         "x": [
          2011,
          2012,
          2013,
          2014,
          2015,
          2016,
          2017
         ],
         "y": [
          0,
          0,
          2,
          6,
          12,
          2,
          2
         ]
        },
        {
         "name": "Chiu-Ki Chan",
         "x": [
          2011,
          2012,
          2013,
          2014,
          2015,
          2016,
          2017
         ],
         "y": [
          0,
          0,
          0,
          2,
          8,
          3,
          1
         ]
        },
        {
         "name": "Dan Lew",
         "x": [
          2011,
          2012,
          2013,
          2014,
          2015,
          2016,
          2017
         ],
         "y": [
          0,
          0,
          0,
          10,
          12,
          2,
          5
         ]
        },
        {
         "name": "Hannes Dorfmann",
         "x": [
          2011,
          2012,
          2013,
          2014,
          2015,
          2016,
          2017
         ],
         "y": [
          0,
          0,
          0,
          1,
          7,
          8,
          6
         ]
        },
        {
         "name": "Mark Allison",
         "x": [
          2011,
          2012,
          2013,
          2014,
          2015,
          2016,
          2017
         ],
         "y": [
          1,
          14,
          24,
          39,
          49,
          34,
          19
         ]
        },
        {
         "name": "Mark Murphy",
         "x": [
          2011,
          2012,
          2013,
          2014,
          2015,
          2016,
          2017
         ],
         "y": [
          0,
          1,
          0,
          2,
          4,
          4,
          6
         ]
        },
        {
         "name": "Matt Dupree",
         "x": [
          2011,
          2012,
          2013,
          2014,
          2015,
          2016,
          2017
         ],
         "y": [
          0,
          0,
          0,
          0,
          4,
          5,
          12
         ]
        },
        {
         "name": "Miroslaw Stanek",
         "x": [
          2011,
          2012,
          2013,
          2014,
          2015,
          2016,
          2017
         ],
         "y": [
          0,
          0,
          0,
          2,
          10,
          2,
          0
         ]
        },
        {
         "name": "Paul Trebilcox-Ruiz",
         "x": [
          2011,
          2012,
          2013,
          2014,
          2015,
          2016,
          2017
         ],
         "y": [
          0,
          0,
          0,
          11,
          1,
          0,
          0
         ]
        },
        {
         "name": "Rebecca Franks",
         "x": [
          2011,
          2012,
          2013,
          2014,
          2015,
          2016,
          2017
         ],
         "y": [
          0,
          0,
          0,
          0,
          1,
          12,
          4
         ]
        },
        {
         "name": "Ryan Harter",
         "x": [
          2011,
          2012,
          2013,
          2014,
          2015,
          2016,
          2017
         ],
         "y": [
          0,
          0,
          1,
          5,
          2,
          3,
          0
         ]
        },
        {
         "name": "Saúl Molinero",
         "x": [
          2011,
          2012,
          2013,
          2014,
          2015,
          2016,
          2017
         ],
         "y": [
          0,
          0,
          0,
          0,
          7,
          3,
          1
         ]
        },
        {
         "name": "Wolfram Rittmeyer",
         "x": [
          2011,
          2012,
          2013,
          2014,
          2015,
          2016,
          2017
         ],
         "y": [
          0,
          4,
          2,
          3,
          2,
          1,
          0
         ]
        }
       ],
       "layout": {
        "title": "Author Frequency by Year",
        "xaxis": {
         "title": "Year"
        },
        "yaxis": {
         "title": "Frequency"
        }
       }
      },
      "text/html": [
       "<div id=\"d4ef8ced-ae0c-4e65-9048-b15e912f9ca0\" style=\"height: 525px; width: 100%;\" class=\"plotly-graph-div\"></div><script type=\"text/javascript\">require([\"plotly\"], function(Plotly) { window.PLOTLYENV=window.PLOTLYENV || {};window.PLOTLYENV.BASE_URL=\"https://plot.ly\";Plotly.newPlot(\"d4ef8ced-ae0c-4e65-9048-b15e912f9ca0\", [{\"x\": [2011, 2012, 2013, 2014, 2015, 2016, 2017], \"y\": [0, 0, 3, 3, 3, 2, 0], \"name\": \"Alex Lockwood\"}, {\"x\": [2011, 2012, 2013, 2014, 2015, 2016, 2017], \"y\": [0, 0, 2, 6, 12, 2, 2], \"name\": \"Antonio Leiva\"}, {\"x\": [2011, 2012, 2013, 2014, 2015, 2016, 2017], \"y\": [0, 0, 0, 2, 8, 3, 1], \"name\": \"Chiu-Ki Chan\"}, {\"x\": [2011, 2012, 2013, 2014, 2015, 2016, 2017], \"y\": [0, 0, 0, 10, 12, 2, 5], \"name\": \"Dan Lew\"}, {\"x\": [2011, 2012, 2013, 2014, 2015, 2016, 2017], \"y\": [0, 0, 0, 1, 7, 8, 6], \"name\": \"Hannes Dorfmann\"}, {\"x\": [2011, 2012, 2013, 2014, 2015, 2016, 2017], \"y\": [1, 14, 24, 39, 49, 34, 19], \"name\": \"Mark Allison\"}, {\"x\": [2011, 2012, 2013, 2014, 2015, 2016, 2017], \"y\": [0, 1, 0, 2, 4, 4, 6], \"name\": \"Mark Murphy\"}, {\"x\": [2011, 2012, 2013, 2014, 2015, 2016, 2017], \"y\": [0, 0, 0, 0, 4, 5, 12], \"name\": \"Matt Dupree\"}, {\"x\": [2011, 2012, 2013, 2014, 2015, 2016, 2017], \"y\": [0, 0, 0, 2, 10, 2, 0], \"name\": \"Miroslaw Stanek\"}, {\"x\": [2011, 2012, 2013, 2014, 2015, 2016, 2017], \"y\": [0, 0, 0, 11, 1, 0, 0], \"name\": \"Paul Trebilcox-Ruiz\"}, {\"x\": [2011, 2012, 2013, 2014, 2015, 2016, 2017], \"y\": [0, 0, 0, 0, 1, 12, 4], \"name\": \"Rebecca Franks\"}, {\"x\": [2011, 2012, 2013, 2014, 2015, 2016, 2017], \"y\": [0, 0, 1, 5, 2, 3, 0], \"name\": \"Ryan Harter\"}, {\"x\": [2011, 2012, 2013, 2014, 2015, 2016, 2017], \"y\": [0, 0, 0, 0, 7, 3, 1], \"name\": \"Sa\\u00fal Molinero\"}, {\"x\": [2011, 2012, 2013, 2014, 2015, 2016, 2017], \"y\": [0, 4, 2, 3, 2, 1, 0], \"name\": \"Wolfram Rittmeyer\"}], {\"yaxis\": {\"title\": \"Frequency\"}, \"xaxis\": {\"title\": \"Year\"}, \"title\": \"Author Frequency by Year\"}, {\"showLink\": true, \"linkText\": \"Export to plot.ly\"})});</script>"
      ],
      "text/vnd.plotly.v1+html": [
       "<div id=\"d4ef8ced-ae0c-4e65-9048-b15e912f9ca0\" style=\"height: 525px; width: 100%;\" class=\"plotly-graph-div\"></div><script type=\"text/javascript\">require([\"plotly\"], function(Plotly) { window.PLOTLYENV=window.PLOTLYENV || {};window.PLOTLYENV.BASE_URL=\"https://plot.ly\";Plotly.newPlot(\"d4ef8ced-ae0c-4e65-9048-b15e912f9ca0\", [{\"x\": [2011, 2012, 2013, 2014, 2015, 2016, 2017], \"y\": [0, 0, 3, 3, 3, 2, 0], \"name\": \"Alex Lockwood\"}, {\"x\": [2011, 2012, 2013, 2014, 2015, 2016, 2017], \"y\": [0, 0, 2, 6, 12, 2, 2], \"name\": \"Antonio Leiva\"}, {\"x\": [2011, 2012, 2013, 2014, 2015, 2016, 2017], \"y\": [0, 0, 0, 2, 8, 3, 1], \"name\": \"Chiu-Ki Chan\"}, {\"x\": [2011, 2012, 2013, 2014, 2015, 2016, 2017], \"y\": [0, 0, 0, 10, 12, 2, 5], \"name\": \"Dan Lew\"}, {\"x\": [2011, 2012, 2013, 2014, 2015, 2016, 2017], \"y\": [0, 0, 0, 1, 7, 8, 6], \"name\": \"Hannes Dorfmann\"}, {\"x\": [2011, 2012, 2013, 2014, 2015, 2016, 2017], \"y\": [1, 14, 24, 39, 49, 34, 19], \"name\": \"Mark Allison\"}, {\"x\": [2011, 2012, 2013, 2014, 2015, 2016, 2017], \"y\": [0, 1, 0, 2, 4, 4, 6], \"name\": \"Mark Murphy\"}, {\"x\": [2011, 2012, 2013, 2014, 2015, 2016, 2017], \"y\": [0, 0, 0, 0, 4, 5, 12], \"name\": \"Matt Dupree\"}, {\"x\": [2011, 2012, 2013, 2014, 2015, 2016, 2017], \"y\": [0, 0, 0, 2, 10, 2, 0], \"name\": \"Miroslaw Stanek\"}, {\"x\": [2011, 2012, 2013, 2014, 2015, 2016, 2017], \"y\": [0, 0, 0, 11, 1, 0, 0], \"name\": \"Paul Trebilcox-Ruiz\"}, {\"x\": [2011, 2012, 2013, 2014, 2015, 2016, 2017], \"y\": [0, 0, 0, 0, 1, 12, 4], \"name\": \"Rebecca Franks\"}, {\"x\": [2011, 2012, 2013, 2014, 2015, 2016, 2017], \"y\": [0, 0, 1, 5, 2, 3, 0], \"name\": \"Ryan Harter\"}, {\"x\": [2011, 2012, 2013, 2014, 2015, 2016, 2017], \"y\": [0, 0, 0, 0, 7, 3, 1], \"name\": \"Sa\\u00fal Molinero\"}, {\"x\": [2011, 2012, 2013, 2014, 2015, 2016, 2017], \"y\": [0, 4, 2, 3, 2, 1, 0], \"name\": \"Wolfram Rittmeyer\"}], {\"yaxis\": {\"title\": \"Frequency\"}, \"xaxis\": {\"title\": \"Year\"}, \"title\": \"Author Frequency by Year\"}, {\"showLink\": true, \"linkText\": \"Export to plot.ly\"})});</script>"
      ]
     },
     "metadata": {},
     "output_type": "display_data"
    }
   ],
   "source": [
    "top_authors_by_year = authors_by_year.loc[:, authors_by_year.sum(0) >= 10]\n",
    "plotly.offline.iplot({\n",
    "    \"data\": [{\n",
    "        'x': top_authors_by_year.index,\n",
    "        'y': top_authors_by_year[col],\n",
    "        'name': col\n",
    "        }  for col in top_authors_by_year.columns],\n",
    "    \"layout\": Layout(yaxis=dict(title='Frequency'), xaxis=dict(title='Year'),\n",
    "        title='Author Frequency by Year')\n",
    "    })"
   ]
  },
  {
   "cell_type": "code",
   "execution_count": null,
   "metadata": {
    "collapsed": true
   },
   "outputs": [],
   "source": []
  }
 ],
 "metadata": {
  "kernelspec": {
   "display_name": "Python 3",
   "language": "python",
   "name": "python3"
  },
  "language_info": {
   "codemirror_mode": {
    "name": "ipython",
    "version": 3
   },
   "file_extension": ".py",
   "mimetype": "text/x-python",
   "name": "python",
   "nbconvert_exporter": "python",
   "pygments_lexer": "ipython3",
   "version": "3.6.1"
  }
 },
 "nbformat": 4,
 "nbformat_minor": 1
}
