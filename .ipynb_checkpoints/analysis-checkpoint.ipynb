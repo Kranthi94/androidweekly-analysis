{
 "cells": [
  {
   "cell_type": "markdown",
   "metadata": {},
   "source": [
    "# Android Weekly analysis\n",
    "\n",
    "Investigating the most popular blogs and authors over time."
   ]
  },
  {
   "cell_type": "code",
   "execution_count": 2,
   "metadata": {
    "collapsed": false
   },
   "outputs": [],
   "source": [
    "%matplotlib inline\n",
    "\n",
    "from bs4 import BeautifulSoup\n",
    "import urllib2\n",
    "import csv\n",
    "from os import listdir\n",
    "from os.path import isfile, join\n",
    "import pandas as pd\n",
    "import numpy as np\n",
    "\n",
    "import plotly.plotly as py\n",
    "import cufflinks as cf\n",
    "import pandas as pd\n",
    "import numpy as np\n",
    "\n",
    "BASE_URL = \"http://androidweekly.net/issues/issue-{}\""
   ]
  },
  {
   "cell_type": "markdown",
   "metadata": {},
   "source": [
    "## Data collection\n",
    "\n",
    "Dowload and parse each Android weekly post. \n",
    "1. `contentForIssue(num)` downloads the data for an issue\n",
    "2. `dataForIssue(content, issue_num)`, `dataForIssueBefore103(content, issue_num)`, and `dataForIssueBefore60(content, issue_num)` parse the html from different issues into an array of objects\n",
    "3. `writeData(data, fname)` writes the data for an issue to a csv for retrieval later"
   ]
  },
  {
   "cell_type": "code",
   "execution_count": 25,
   "metadata": {
    "collapsed": false
   },
   "outputs": [],
   "source": [
    "def contentForIssue(num):\n",
    "    url = BASE_URL.format(num)\n",
    "    print url\n",
    "    request = urllib2.Request(url)\n",
    "    request.add_header('Accept-Encoding', 'utf-8')\n",
    "    response = urllib2.urlopen(url)\n",
    "    soup = BeautifulSoup(response.read().decode('utf-8'), 'lxml')\n",
    "    content = soup.find('div', { 'class':'issue' })\n",
    "    return content"
   ]
  },
  {
   "cell_type": "code",
   "execution_count": 26,
   "metadata": {
    "collapsed": false
   },
   "outputs": [],
   "source": [
    "def dataForIssue(content, issue_num):\n",
    "    sections = content.find_all('td')\n",
    "    last_section_header = \"\"\n",
    "    data = []\n",
    "    section_count = 0\n",
    "    for section in sections:\n",
    "        if section.h2 or section.h3:\n",
    "            section_count += 1\n",
    "            if section.h2:\n",
    "                last_section_header = section.h2.text\n",
    "            else:\n",
    "                last_section_header = section.h3.text\n",
    "        if section.a and section.a.string:\n",
    "            item = {}\n",
    "            item['issue_num'] = issue_num\n",
    "            item['section'] = last_section_header.encode(\"utf-8\").strip()\n",
    "            item['title'] = section.a.text.encode(\"utf-8\").replace('\\n','').strip()\n",
    "            item['link'] = section.a.get('href').encode(\"utf-8\").strip()\n",
    "            item['site'] = section.span.text.replace('(','').replace(')', '').replace('\\n','').encode(\"utf-8\").strip()\n",
    "            item['description'] = section.p.text.replace('\\n','').encode(\"utf-8\").strip()\n",
    "            data.append(item)\n",
    "    print 'Found %d items in %s sections' % (len(data), section_count)\n",
    "    return data"
   ]
  },
  {
   "cell_type": "code",
   "execution_count": 27,
   "metadata": {
    "collapsed": true
   },
   "outputs": [],
   "source": [
    "def dataForIssueBefore103(content, issue_num):\n",
    "    sections = content.find_all(['h2', 'div', 'p'])\n",
    "    last_section_header = \"\"\n",
    "    data = []\n",
    "    section_count = 0\n",
    "    for section in sections:\n",
    "        if section.name == 'h2':\n",
    "            section_count += 1\n",
    "            last_section_header = section.text\n",
    "        elif section.name == 'div' and len(section.find_all('a')) > 1:\n",
    "            links = section.find_all('a');\n",
    "            item = {}\n",
    "            item['issue_num'] = issue_num\n",
    "            item['section'] = last_section_header.encode(\"utf-8\").strip()\n",
    "            item['title'] = links[1].string.encode(\"utf-8\").replace('\\n','').strip()\n",
    "            item['link'] = links[1].get('href').encode(\"utf-8\").strip()\n",
    "            item['site'] = section.span.text.replace('(','').replace(')', '').replace('\\n','').encode(\"utf-8\").strip()\n",
    "            item['description'] = section.p.text.replace('\\n','').encode(\"utf-8\").strip()\n",
    "            data.append(item)\n",
    "        elif section.name == 'p' and section.a and section.a.text:\n",
    "            item = {}\n",
    "            item['issue_num'] = issue_num\n",
    "            item['section'] = last_section_header.encode(\"utf-8\").strip()\n",
    "            item['title'] = section.a.string.encode(\"utf-8\").replace('\\n','').strip()\n",
    "            item['link'] = section.a.get('href').encode(\"utf-8\").strip()\n",
    "            if section.span:\n",
    "                item['site'] = section.span.text.replace('(','').replace(')', '').replace('\\n','').encode(\"utf-8\").strip()\n",
    "            else:\n",
    "                item['site'] = \"\"\n",
    "            if section.br and section.br.next_sibling:\n",
    "                item['description'] = section.br.next_sibling.replace('\\n','').encode(\"utf-8\").strip()\n",
    "            else:\n",
    "                item['description'] = \"\"\n",
    "            data.append(item)\n",
    "    print 'Found %d items in %s sections' % (len(data), section_count)\n",
    "    return data"
   ]
  },
  {
   "cell_type": "code",
   "execution_count": 28,
   "metadata": {
    "collapsed": true
   },
   "outputs": [],
   "source": [
    "def dataForIssueBefore60(content, issue_num):\n",
    "    return dataForIssueBefore103(content.div, issue_num)"
   ]
  },
  {
   "cell_type": "code",
   "execution_count": 29,
   "metadata": {
    "collapsed": false
   },
   "outputs": [],
   "source": [
    "def writeData(data, fname):\n",
    "    with open(fname, 'wb') as f:\n",
    "        w = csv.DictWriter(f, data[0].keys())\n",
    "        w.writeheader()\n",
    "        for datum in data:\n",
    "            w.writerow(datum)"
   ]
  },
  {
   "cell_type": "markdown",
   "metadata": {},
   "source": [
    "## Get all the data!\n",
    "\n",
    "With the above functions available, we can download all the Android Weekly posts"
   ]
  },
  {
   "cell_type": "code",
   "execution_count": 30,
   "metadata": {
    "collapsed": false
   },
   "outputs": [],
   "source": [
    "def getAllData(issueNums):\n",
    "    for i in issueNums:\n",
    "        content = contentForIssue(i)\n",
    "        data = None\n",
    "        if (i < 60):\n",
    "            data = dataForIssueBefore60(content, i) \n",
    "        elif (i < 103):\n",
    "            data = dataForIssueBefore103(content, i) \n",
    "        else:\n",
    "            data = dataForIssue(content, i)\n",
    "        writeData(data, 'issue_{}.csv'.format(i))"
   ]
  },
  {
   "cell_type": "code",
   "execution_count": 33,
   "metadata": {
    "collapsed": false
   },
   "outputs": [
    {
     "name": "stdout",
     "output_type": "stream",
     "text": [
      "http://androidweekly.net/issues/issue-216\n",
      "Found 26 items in 6 sections\n",
      "http://androidweekly.net/issues/issue-215\n",
      "Found 28 items in 7 sections\n",
      "http://androidweekly.net/issues/issue-214\n",
      "Found 21 items in 8 sections\n",
      "http://androidweekly.net/issues/issue-213\n",
      "Found 30 items in 7 sections\n",
      "http://androidweekly.net/issues/issue-212\n",
      "Found 23 items in 7 sections\n",
      "http://androidweekly.net/issues/issue-211\n",
      "Found 29 items in 9 sections\n",
      "http://androidweekly.net/issues/issue-210\n",
      "Found 28 items in 9 sections\n",
      "http://androidweekly.net/issues/issue-209\n",
      "Found 27 items in 10 sections\n",
      "http://androidweekly.net/issues/issue-208\n",
      "Found 25 items in 7 sections\n",
      "http://androidweekly.net/issues/issue-207\n",
      "Found 25 items in 8 sections\n",
      "http://androidweekly.net/issues/issue-206\n",
      "Found 25 items in 8 sections\n",
      "http://androidweekly.net/issues/issue-205\n",
      "Found 34 items in 8 sections\n",
      "http://androidweekly.net/issues/issue-204\n",
      "Found 34 items in 10 sections\n",
      "http://androidweekly.net/issues/issue-203\n",
      "Found 29 items in 7 sections\n",
      "http://androidweekly.net/issues/issue-202\n",
      "Found 29 items in 7 sections\n",
      "http://androidweekly.net/issues/issue-201\n",
      "Found 25 items in 8 sections\n",
      "http://androidweekly.net/issues/issue-200\n",
      "Found 31 items in 8 sections\n",
      "http://androidweekly.net/issues/issue-199\n",
      "Found 27 items in 6 sections\n",
      "http://androidweekly.net/issues/issue-198\n",
      "Found 30 items in 8 sections\n",
      "http://androidweekly.net/issues/issue-197\n",
      "Found 29 items in 6 sections\n",
      "http://androidweekly.net/issues/issue-196\n",
      "Found 26 items in 7 sections\n",
      "http://androidweekly.net/issues/issue-195\n",
      "Found 24 items in 8 sections\n",
      "http://androidweekly.net/issues/issue-194\n",
      "Found 25 items in 6 sections\n",
      "http://androidweekly.net/issues/issue-193\n",
      "Found 27 items in 7 sections\n",
      "http://androidweekly.net/issues/issue-192\n",
      "Found 24 items in 7 sections\n",
      "http://androidweekly.net/issues/issue-191\n",
      "Found 35 items in 7 sections\n",
      "http://androidweekly.net/issues/issue-190\n",
      "Found 24 items in 7 sections\n",
      "http://androidweekly.net/issues/issue-189\n",
      "Found 23 items in 7 sections\n",
      "http://androidweekly.net/issues/issue-188\n",
      "Found 21 items in 7 sections\n",
      "http://androidweekly.net/issues/issue-187\n",
      "Found 17 items in 6 sections\n",
      "http://androidweekly.net/issues/issue-186\n",
      "Found 24 items in 6 sections\n",
      "http://androidweekly.net/issues/issue-185\n",
      "Found 23 items in 5 sections\n",
      "http://androidweekly.net/issues/issue-184\n",
      "Found 25 items in 7 sections\n",
      "http://androidweekly.net/issues/issue-183\n",
      "Found 28 items in 6 sections\n",
      "http://androidweekly.net/issues/issue-182\n",
      "Found 25 items in 7 sections\n",
      "http://androidweekly.net/issues/issue-181\n",
      "Found 25 items in 7 sections\n",
      "http://androidweekly.net/issues/issue-180\n",
      "Found 27 items in 7 sections\n",
      "http://androidweekly.net/issues/issue-179\n",
      "Found 21 items in 6 sections\n",
      "http://androidweekly.net/issues/issue-178\n",
      "Found 29 items in 5 sections\n",
      "http://androidweekly.net/issues/issue-177\n",
      "Found 23 items in 6 sections\n",
      "http://androidweekly.net/issues/issue-176\n",
      "Found 27 items in 8 sections\n",
      "http://androidweekly.net/issues/issue-175\n",
      "Found 31 items in 10 sections\n",
      "http://androidweekly.net/issues/issue-174\n",
      "Found 25 items in 8 sections\n",
      "http://androidweekly.net/issues/issue-173\n",
      "Found 30 items in 9 sections\n",
      "http://androidweekly.net/issues/issue-172\n",
      "Found 26 items in 8 sections\n",
      "http://androidweekly.net/issues/issue-171\n",
      "Found 28 items in 9 sections\n",
      "http://androidweekly.net/issues/issue-170\n",
      "Found 31 items in 8 sections\n",
      "http://androidweekly.net/issues/issue-169\n",
      "Found 37 items in 9 sections\n",
      "http://androidweekly.net/issues/issue-168\n",
      "Found 34 items in 5 sections\n",
      "http://androidweekly.net/issues/issue-167\n",
      "Found 26 items in 8 sections\n",
      "http://androidweekly.net/issues/issue-166\n",
      "Found 27 items in 7 sections\n",
      "http://androidweekly.net/issues/issue-165\n",
      "Found 23 items in 6 sections\n",
      "http://androidweekly.net/issues/issue-164\n",
      "Found 27 items in 10 sections\n",
      "http://androidweekly.net/issues/issue-163\n",
      "Found 23 items in 9 sections\n",
      "http://androidweekly.net/issues/issue-162\n",
      "Found 20 items in 5 sections\n",
      "http://androidweekly.net/issues/issue-161\n",
      "Found 21 items in 7 sections\n",
      "http://androidweekly.net/issues/issue-160\n",
      "Found 22 items in 6 sections\n",
      "http://androidweekly.net/issues/issue-159\n",
      "Found 23 items in 8 sections\n",
      "http://androidweekly.net/issues/issue-158\n",
      "Found 20 items in 5 sections\n",
      "http://androidweekly.net/issues/issue-157\n",
      "Found 18 items in 6 sections\n",
      "http://androidweekly.net/issues/issue-156\n",
      "Found 24 items in 8 sections\n",
      "http://androidweekly.net/issues/issue-155\n",
      "Found 24 items in 7 sections\n",
      "http://androidweekly.net/issues/issue-154\n",
      "Found 20 items in 6 sections\n",
      "http://androidweekly.net/issues/issue-153\n",
      "Found 19 items in 7 sections\n",
      "http://androidweekly.net/issues/issue-152\n",
      "Found 20 items in 6 sections\n",
      "http://androidweekly.net/issues/issue-151\n",
      "Found 23 items in 8 sections\n",
      "http://androidweekly.net/issues/issue-150\n",
      "Found 19 items in 7 sections\n",
      "http://androidweekly.net/issues/issue-149\n",
      "Found 15 items in 6 sections\n",
      "http://androidweekly.net/issues/issue-148\n",
      "Found 23 items in 6 sections\n",
      "http://androidweekly.net/issues/issue-147\n",
      "Found 21 items in 6 sections\n",
      "http://androidweekly.net/issues/issue-146\n",
      "Found 21 items in 7 sections\n",
      "http://androidweekly.net/issues/issue-145\n",
      "Found 19 items in 8 sections\n",
      "http://androidweekly.net/issues/issue-144\n",
      "Found 21 items in 6 sections\n",
      "http://androidweekly.net/issues/issue-143\n",
      "Found 18 items in 5 sections\n",
      "http://androidweekly.net/issues/issue-142\n",
      "Found 18 items in 6 sections\n",
      "http://androidweekly.net/issues/issue-141\n",
      "Found 19 items in 6 sections\n",
      "http://androidweekly.net/issues/issue-140\n",
      "Found 26 items in 6 sections\n",
      "http://androidweekly.net/issues/issue-139\n",
      "Found 16 items in 6 sections\n",
      "http://androidweekly.net/issues/issue-137\n",
      "Found 21 items in 8 sections\n",
      "http://androidweekly.net/issues/issue-136\n",
      "Found 25 items in 6 sections\n",
      "http://androidweekly.net/issues/issue-135\n",
      "Found 21 items in 7 sections\n",
      "http://androidweekly.net/issues/issue-134\n",
      "Found 22 items in 5 sections\n",
      "http://androidweekly.net/issues/issue-133\n",
      "Found 23 items in 6 sections\n",
      "http://androidweekly.net/issues/issue-132\n",
      "Found 19 items in 6 sections\n",
      "http://androidweekly.net/issues/issue-131\n",
      "Found 25 items in 7 sections\n",
      "http://androidweekly.net/issues/issue-130\n",
      "Found 23 items in 6 sections\n",
      "http://androidweekly.net/issues/issue-129\n",
      "Found 25 items in 10 sections\n",
      "http://androidweekly.net/issues/issue-128\n",
      "Found 20 items in 5 sections\n",
      "http://androidweekly.net/issues/issue-127\n",
      "Found 23 items in 9 sections\n",
      "http://androidweekly.net/issues/issue-126\n",
      "Found 22 items in 8 sections\n",
      "http://androidweekly.net/issues/issue-125\n",
      "Found 29 items in 7 sections\n",
      "http://androidweekly.net/issues/issue-124\n",
      "Found 21 items in 7 sections\n",
      "http://androidweekly.net/issues/issue-123\n",
      "Found 20 items in 9 sections\n",
      "http://androidweekly.net/issues/issue-122\n",
      "Found 19 items in 7 sections\n",
      "http://androidweekly.net/issues/issue-121\n",
      "Found 22 items in 7 sections\n",
      "http://androidweekly.net/issues/issue-120\n",
      "Found 24 items in 9 sections\n",
      "http://androidweekly.net/issues/issue-119\n",
      "Found 19 items in 6 sections\n",
      "http://androidweekly.net/issues/issue-118\n",
      "Found 19 items in 7 sections\n",
      "http://androidweekly.net/issues/issue-117\n",
      "Found 22 items in 7 sections\n",
      "http://androidweekly.net/issues/issue-116\n",
      "Found 21 items in 7 sections\n",
      "http://androidweekly.net/issues/issue-115\n",
      "Found 23 items in 8 sections\n",
      "http://androidweekly.net/issues/issue-114\n",
      "Found 24 items in 7 sections\n",
      "http://androidweekly.net/issues/issue-113\n",
      "Found 22 items in 5 sections\n",
      "http://androidweekly.net/issues/issue-112\n",
      "Found 18 items in 5 sections\n",
      "http://androidweekly.net/issues/issue-111\n",
      "Found 21 items in 7 sections\n",
      "http://androidweekly.net/issues/issue-110\n",
      "Found 27 items in 8 sections\n",
      "http://androidweekly.net/issues/issue-109\n",
      "Found 24 items in 6 sections\n",
      "http://androidweekly.net/issues/issue-107\n",
      "Found 19 items in 8 sections\n",
      "http://androidweekly.net/issues/issue-106\n",
      "Found 24 items in 7 sections\n",
      "http://androidweekly.net/issues/issue-105\n",
      "Found 25 items in 8 sections\n",
      "http://androidweekly.net/issues/issue-104\n",
      "Found 19 items in 7 sections\n",
      "http://androidweekly.net/issues/issue-103\n",
      "Found 22 items in 7 sections\n",
      "http://androidweekly.net/issues/issue-102\n",
      "Found 24 items in 6 sections\n",
      "http://androidweekly.net/issues/issue-101\n",
      "Found 20 items in 4 sections\n",
      "http://androidweekly.net/issues/issue-100\n",
      "Found 18 items in 7 sections\n",
      "http://androidweekly.net/issues/issue-99\n",
      "Found 17 items in 9 sections\n",
      "http://androidweekly.net/issues/issue-98\n",
      "Found 15 items in 7 sections\n",
      "http://androidweekly.net/issues/issue-97\n",
      "Found 25 items in 9 sections\n",
      "http://androidweekly.net/issues/issue-96\n",
      "Found 19 items in 7 sections\n",
      "http://androidweekly.net/issues/issue-95\n",
      "Found 25 items in 5 sections\n",
      "http://androidweekly.net/issues/issue-94\n",
      "Found 27 items in 9 sections\n",
      "http://androidweekly.net/issues/issue-93\n",
      "Found 22 items in 6 sections\n",
      "http://androidweekly.net/issues/issue-92\n",
      "Found 22 items in 6 sections\n",
      "http://androidweekly.net/issues/issue-91\n",
      "Found 14 items in 4 sections\n",
      "http://androidweekly.net/issues/issue-90\n",
      "Found 13 items in 6 sections\n",
      "http://androidweekly.net/issues/issue-89\n",
      "Found 18 items in 7 sections\n",
      "http://androidweekly.net/issues/issue-88\n",
      "Found 20 items in 8 sections\n",
      "http://androidweekly.net/issues/issue-87\n",
      "Found 17 items in 6 sections\n",
      "http://androidweekly.net/issues/issue-86\n",
      "Found 20 items in 6 sections\n",
      "http://androidweekly.net/issues/issue-85\n",
      "Found 18 items in 6 sections\n",
      "http://androidweekly.net/issues/issue-84\n",
      "Found 14 items in 7 sections\n",
      "http://androidweekly.net/issues/issue-83\n",
      "Found 19 items in 6 sections\n",
      "http://androidweekly.net/issues/issue-82\n",
      "Found 17 items in 5 sections\n",
      "http://androidweekly.net/issues/issue-81\n",
      "Found 19 items in 6 sections\n",
      "http://androidweekly.net/issues/issue-80\n",
      "Found 15 items in 7 sections\n",
      "http://androidweekly.net/issues/issue-79\n",
      "Found 21 items in 7 sections\n",
      "http://androidweekly.net/issues/issue-78\n",
      "Found 22 items in 6 sections\n",
      "http://androidweekly.net/issues/issue-77\n",
      "Found 18 items in 6 sections\n",
      "http://androidweekly.net/issues/issue-76\n",
      "Found 18 items in 4 sections\n",
      "http://androidweekly.net/issues/issue-75\n",
      "Found 16 items in 5 sections\n",
      "http://androidweekly.net/issues/issue-74\n",
      "Found 12 items in 5 sections\n",
      "http://androidweekly.net/issues/issue-73\n",
      "Found 15 items in 8 sections\n",
      "http://androidweekly.net/issues/issue-72\n",
      "Found 13 items in 5 sections\n",
      "http://androidweekly.net/issues/issue-71\n",
      "Found 18 items in 6 sections\n",
      "http://androidweekly.net/issues/issue-70\n",
      "Found 12 items in 6 sections\n",
      "http://androidweekly.net/issues/issue-69\n",
      "Found 10 items in 4 sections\n",
      "http://androidweekly.net/issues/issue-68\n",
      "Found 16 items in 5 sections\n",
      "http://androidweekly.net/issues/issue-67\n",
      "Found 17 items in 4 sections\n",
      "http://androidweekly.net/issues/issue-66\n",
      "Found 15 items in 4 sections\n",
      "http://androidweekly.net/issues/issue-65\n",
      "Found 14 items in 3 sections\n",
      "http://androidweekly.net/issues/issue-64\n",
      "Found 14 items in 3 sections\n",
      "http://androidweekly.net/issues/issue-63\n",
      "Found 10 items in 4 sections\n",
      "http://androidweekly.net/issues/issue-62\n",
      "Found 13 items in 4 sections\n",
      "http://androidweekly.net/issues/issue-61\n",
      "Found 14 items in 5 sections\n",
      "http://androidweekly.net/issues/issue-60\n",
      "Found 12 items in 5 sections\n",
      "http://androidweekly.net/issues/issue-59\n",
      "Found 18 items in 6 sections\n",
      "http://androidweekly.net/issues/issue-58\n",
      "Found 18 items in 6 sections\n",
      "http://androidweekly.net/issues/issue-57\n",
      "Found 19 items in 5 sections\n",
      "http://androidweekly.net/issues/issue-56\n",
      "Found 15 items in 6 sections\n",
      "http://androidweekly.net/issues/issue-55\n",
      "Found 12 items in 5 sections\n",
      "http://androidweekly.net/issues/issue-54\n",
      "Found 14 items in 7 sections\n",
      "http://androidweekly.net/issues/issue-53\n",
      "Found 18 items in 5 sections\n",
      "http://androidweekly.net/issues/issue-52\n",
      "Found 16 items in 5 sections\n",
      "http://androidweekly.net/issues/issue-51\n",
      "Found 15 items in 6 sections\n",
      "http://androidweekly.net/issues/issue-50\n",
      "Found 16 items in 5 sections\n",
      "http://androidweekly.net/issues/issue-49\n",
      "Found 13 items in 4 sections\n",
      "http://androidweekly.net/issues/issue-48\n",
      "Found 16 items in 4 sections\n",
      "http://androidweekly.net/issues/issue-47\n",
      "Found 18 items in 4 sections\n",
      "http://androidweekly.net/issues/issue-46\n",
      "Found 14 items in 7 sections\n",
      "http://androidweekly.net/issues/issue-45\n",
      "Found 13 items in 5 sections\n",
      "http://androidweekly.net/issues/issue-44\n",
      "Found 11 items in 4 sections\n",
      "http://androidweekly.net/issues/issue-42\n",
      "Found 11 items in 5 sections\n",
      "http://androidweekly.net/issues/issue-41\n",
      "Found 11 items in 5 sections\n",
      "http://androidweekly.net/issues/issue-40\n",
      "Found 10 items in 5 sections\n",
      "http://androidweekly.net/issues/issue-39\n",
      "Found 10 items in 5 sections\n",
      "http://androidweekly.net/issues/issue-38\n",
      "Found 9 items in 5 sections\n",
      "http://androidweekly.net/issues/issue-37\n",
      "Found 10 items in 5 sections\n",
      "http://androidweekly.net/issues/issue-36\n",
      "Found 9 items in 4 sections\n",
      "http://androidweekly.net/issues/issue-35\n",
      "Found 9 items in 3 sections\n",
      "http://androidweekly.net/issues/issue-34\n",
      "Found 10 items in 5 sections\n",
      "http://androidweekly.net/issues/issue-33\n",
      "Found 9 items in 5 sections\n",
      "http://androidweekly.net/issues/issue-32\n",
      "Found 14 items in 5 sections\n",
      "http://androidweekly.net/issues/issue-31\n",
      "Found 9 items in 6 sections\n",
      "http://androidweekly.net/issues/issue-29\n",
      "Found 9 items in 3 sections\n",
      "http://androidweekly.net/issues/issue-28\n",
      "Found 10 items in 5 sections\n",
      "http://androidweekly.net/issues/issue-27\n",
      "Found 12 items in 5 sections\n",
      "http://androidweekly.net/issues/issue-26\n",
      "Found 10 items in 4 sections\n",
      "http://androidweekly.net/issues/issue-25\n",
      "Found 10 items in 5 sections\n",
      "http://androidweekly.net/issues/issue-24\n",
      "Found 10 items in 4 sections\n",
      "http://androidweekly.net/issues/issue-23\n",
      "Found 9 items in 5 sections\n",
      "http://androidweekly.net/issues/issue-22\n",
      "Found 10 items in 5 sections\n",
      "http://androidweekly.net/issues/issue-21\n",
      "Found 12 items in 6 sections\n",
      "http://androidweekly.net/issues/issue-20\n",
      "Found 8 items in 4 sections\n",
      "http://androidweekly.net/issues/issue-19\n",
      "Found 8 items in 5 sections\n",
      "http://androidweekly.net/issues/issue-18\n",
      "Found 10 items in 6 sections\n",
      "http://androidweekly.net/issues/issue-17\n",
      "Found 10 items in 6 sections\n",
      "http://androidweekly.net/issues/issue-16\n",
      "Found 8 items in 6 sections\n",
      "http://androidweekly.net/issues/issue-15\n",
      "Found 8 items in 5 sections\n",
      "http://androidweekly.net/issues/issue-14\n",
      "Found 9 items in 5 sections\n",
      "http://androidweekly.net/issues/issue-13\n",
      "Found 15 items in 5 sections\n",
      "http://androidweekly.net/issues/issue-12\n",
      "Found 8 items in 5 sections\n",
      "http://androidweekly.net/issues/issue-11\n",
      "Found 11 items in 5 sections\n",
      "http://androidweekly.net/issues/issue-10\n",
      "Found 9 items in 5 sections\n",
      "http://androidweekly.net/issues/issue-9\n",
      "Found 10 items in 5 sections\n",
      "http://androidweekly.net/issues/issue-8\n",
      "Found 7 items in 5 sections\n",
      "http://androidweekly.net/issues/issue-7\n",
      "Found 9 items in 5 sections\n",
      "http://androidweekly.net/issues/issue-6\n",
      "Found 10 items in 6 sections\n",
      "http://androidweekly.net/issues/issue-5\n",
      "Found 10 items in 5 sections\n",
      "http://androidweekly.net/issues/issue-4\n",
      "Found 9 items in 5 sections\n",
      "http://androidweekly.net/issues/issue-3\n",
      "Found 9 items in 5 sections\n",
      "http://androidweekly.net/issues/issue-2\n",
      "Found 9 items in 5 sections\n",
      "http://androidweekly.net/issues/issue-1\n",
      "Found 9 items in 5 sections\n"
     ]
    }
   ],
   "source": [
    "# 500 errors: 138, 108, 43\n",
    "# Skipped b/c unusual: 30\n",
    "issueNums = range(1, 217)\n",
    "issueNums.remove(138)\n",
    "issueNums.remove(108)\n",
    "issueNums.remove(43)\n",
    "issueNums.remove(30)\n",
    "getAllData(reversed(issueNums))"
   ]
  },
  {
   "cell_type": "markdown",
   "metadata": {},
   "source": [
    "## Load Data\n",
    "\n",
    "Loading the data from the csv files into memory makes it easy to resume work."
   ]
  },
  {
   "cell_type": "code",
   "execution_count": 3,
   "metadata": {
    "collapsed": false
   },
   "outputs": [
    {
     "data": {
      "text/html": [
       "<div>\n",
       "<table border=\"1\" class=\"dataframe\">\n",
       "  <thead>\n",
       "    <tr style=\"text-align: right;\">\n",
       "      <th></th>\n",
       "      <th>description</th>\n",
       "      <th>title</th>\n",
       "      <th>section</th>\n",
       "      <th>site</th>\n",
       "      <th>issue_num</th>\n",
       "      <th>link</th>\n",
       "    </tr>\n",
       "  </thead>\n",
       "  <tbody>\n",
       "    <tr>\n",
       "      <th>0</th>\n",
       "      <td>An Android Tutorial aimed for iOS Developers.</td>\n",
       "      <td>http://clayallsopp.posterous.com/building-an-a...</td>\n",
       "      <td>Articles and Tutorials</td>\n",
       "      <td>NaN</td>\n",
       "      <td>1</td>\n",
       "      <td>http://clayallsopp.posterous.com/building-an-a...</td>\n",
       "    </tr>\n",
       "    <tr>\n",
       "      <th>1</th>\n",
       "      <td>Selenium Webdriver is now available for your A...</td>\n",
       "      <td>http://android-developers.blogspot.com/2011/10...</td>\n",
       "      <td>Articles and Tutorials</td>\n",
       "      <td>NaN</td>\n",
       "      <td>1</td>\n",
       "      <td>http://android-developers.blogspot.com/2011/10...</td>\n",
       "    </tr>\n",
       "    <tr>\n",
       "      <th>2</th>\n",
       "      <td>For our dev rookies we got an Java tutorial wh...</td>\n",
       "      <td>http://mobile.tutsplus.com/tutorials/android/j...</td>\n",
       "      <td>Articles and Tutorials</td>\n",
       "      <td>NaN</td>\n",
       "      <td>1</td>\n",
       "      <td>http://mobile.tutsplus.com/tutorials/android/j...</td>\n",
       "    </tr>\n",
       "    <tr>\n",
       "      <th>3</th>\n",
       "      <td>The brandnew nexus with Android 4.0 aka Ice Cr...</td>\n",
       "      <td>http://www.google.com/nexus/</td>\n",
       "      <td>Headlines</td>\n",
       "      <td>NaN</td>\n",
       "      <td>1</td>\n",
       "      <td>http://www.google.com/nexus/</td>\n",
       "    </tr>\n",
       "    <tr>\n",
       "      <th>4</th>\n",
       "      <td>A very cool info graphic about the Rise of And...</td>\n",
       "      <td>http://bbgeeks.com/images/AndroidRise.png</td>\n",
       "      <td>Headlines</td>\n",
       "      <td>NaN</td>\n",
       "      <td>1</td>\n",
       "      <td>http://bbgeeks.com/images/AndroidRise.png</td>\n",
       "    </tr>\n",
       "  </tbody>\n",
       "</table>\n",
       "</div>"
      ],
      "text/plain": [
       "                                         description  \\\n",
       "0      An Android Tutorial aimed for iOS Developers.   \n",
       "1  Selenium Webdriver is now available for your A...   \n",
       "2  For our dev rookies we got an Java tutorial wh...   \n",
       "3  The brandnew nexus with Android 4.0 aka Ice Cr...   \n",
       "4  A very cool info graphic about the Rise of And...   \n",
       "\n",
       "                                               title                 section  \\\n",
       "0  http://clayallsopp.posterous.com/building-an-a...  Articles and Tutorials   \n",
       "1  http://android-developers.blogspot.com/2011/10...  Articles and Tutorials   \n",
       "2  http://mobile.tutsplus.com/tutorials/android/j...  Articles and Tutorials   \n",
       "3                       http://www.google.com/nexus/               Headlines   \n",
       "4          http://bbgeeks.com/images/AndroidRise.png               Headlines   \n",
       "\n",
       "  site  issue_num                                               link  \n",
       "0  NaN          1  http://clayallsopp.posterous.com/building-an-a...  \n",
       "1  NaN          1  http://android-developers.blogspot.com/2011/10...  \n",
       "2  NaN          1  http://mobile.tutsplus.com/tutorials/android/j...  \n",
       "3  NaN          1                       http://www.google.com/nexus/  \n",
       "4  NaN          1          http://bbgeeks.com/images/AndroidRise.png  "
      ]
     },
     "execution_count": 3,
     "metadata": {},
     "output_type": "execute_result"
    }
   ],
   "source": [
    "def loadDataFiles():\n",
    "    files = [f for f in listdir('data') if isfile(join('data', f)) and f.endswith('.csv')]\n",
    "    df = None\n",
    "    for fname in files:\n",
    "        if df is None:\n",
    "            df = pd.read_csv('data/' + fname)\n",
    "        else:\n",
    "            df = df.append(pd.read_csv('data/' + fname), ignore_index=True)\n",
    "    return df\n",
    "    \n",
    "df = loadDataFiles()\n",
    "df.head()"
   ]
  },
  {
   "cell_type": "code",
   "execution_count": 4,
   "metadata": {
    "collapsed": false
   },
   "outputs": [],
   "source": [
    "df.loc[df.issue_num >= 191, 'year'] = 2016\n",
    "df.loc[(df.issue_num < 191) & (df.issue_num >= 134), 'year'] = 2015\n",
    "df.loc[(df.issue_num < 134) & (df.issue_num >= 83), 'year'] = 2014\n",
    "df.loc[(df.issue_num < 83) & (df.issue_num >= 49), 'year'] = 2013\n",
    "df.loc[(df.issue_num < 49) & (df.issue_num >= 9), 'year'] = 2012\n",
    "df.loc[df.issue_num < 9, 'year'] = 2011\n",
    "df.year = df.year.astype(int)"
   ]
  },
  {
   "cell_type": "markdown",
   "metadata": {},
   "source": [
    "# Analysis\n",
    "\n",
    "#### These are the primary questions I want to answer:\n",
    "1. What are the most prolific blogs? Have those changed over time?\n",
    "2. Who are the most prolific bloggers? Have they changed over time?\n",
    "3. What are the most common topics of discussion? Have those changed over time?\n",
    "\n",
    "#### These are questions of secondary interest:\n",
    "1. What are the most popular library topics? Have those changed over time?\n",
    "2. Who are the most prolific library contributors? Have they changed over time?"
   ]
  },
  {
   "cell_type": "markdown",
   "metadata": {},
   "source": [
    "### The sections"
   ]
  },
  {
   "cell_type": "code",
   "execution_count": 28,
   "metadata": {
    "collapsed": false
   },
   "outputs": [
    {
     "data": {
      "text/plain": [
       "section\n",
       "Articles & Tutorials      1558\n",
       "Libraries & Code           709\n",
       "Jobs                       459\n",
       "Sponsored                  219\n",
       "News                       193\n",
       "Videos & Podcasts          192\n",
       "Tools                      168\n",
       "Design                     147\n",
       "Videos                     113\n",
       "Events                      49\n",
       "Specials                    44\n",
       "ARTICLES AND TUTORIALS      32\n",
       "App of the Week             28\n",
       "LIBRARIES AND CODE          27\n",
       "Screencasts                 22\n",
       "Name: issue_num, dtype: int64"
      ]
     },
     "execution_count": 28,
     "metadata": {},
     "output_type": "execute_result"
    }
   ],
   "source": [
    "df.groupby('section').count().sort_values(by='issue_num', ascending=False).issue_num[:15]"
   ]
  },
  {
   "cell_type": "markdown",
   "metadata": {},
   "source": [
    "## What are the most prolific blogs? Have those changed over time?\n",
    "\n",
    "To answer this, I will look at the most common sites in general. Then I will also split segment the data by year."
   ]
  },
  {
   "cell_type": "code",
   "execution_count": 5,
   "metadata": {
    "collapsed": false
   },
   "outputs": [
    {
     "data": {
      "text/plain": [
       "1590"
      ]
     },
     "execution_count": 5,
     "metadata": {},
     "output_type": "execute_result"
    }
   ],
   "source": [
    "adf = df[(df.section == 'Articles & Tutorials') | (df.section == 'ARTICLES AND TUTORIALS')]\n",
    "adf.issue_num.count()"
   ]
  },
  {
   "cell_type": "code",
   "execution_count": 51,
   "metadata": {
    "collapsed": false
   },
   "outputs": [
    {
     "data": {
      "text/plain": [
       "site\n",
       "medium.com                         176\n",
       "blog.stylingandroid.com            164\n",
       "plus.google.com                     90\n",
       "android-developers.blogspot.com     65\n",
       "speakerdeck.com                     29\n",
       "blog.danlew.net                     24\n",
       "www.bignerdranch.com                23\n",
       "antonioleiva.com                    22\n",
       "code.tutsplus.com                   17\n",
       "hannesdorfmann.com                  15\n",
       "frogermcs.github.io                 13\n",
       "ptrprograms.blogspot.com            12\n",
       "www.doubleencore.com                11\n",
       "commonsware.com                     11\n",
       "developer.android.com               11\n",
       "ryanharter.com                      11\n",
       "corner.squareup.com                 10\n",
       "blog.nimbledroid.com                10\n",
       "blog.sqisland.com                   10\n",
       "www.androiddesignpatterns.com        9\n",
       "www.slideshare.net                   9\n",
       "saulmm.github.io                     9\n",
       "www.philosophicalhacker.com          9\n",
       "udinic.wordpress.com                 8\n",
       "android-developers.blogspot.de       8\n",
       "vogella.de                           8\n",
       "realm.io                             8\n",
       "riggaroo.co.za                       8\n",
       "wiresareobsolete.com                 8\n",
       "www.grokkingandroid.com              7\n",
       "chrisrisner.com                      7\n",
       "trickyandroid.com                    7\n",
       "www.novoda.com                       7\n",
       "github.com                           7\n",
       "fernandocejas.com                    7\n",
       "Name: issue_num, dtype: int64"
      ]
     },
     "execution_count": 51,
     "metadata": {},
     "output_type": "execute_result"
    }
   ],
   "source": [
    "adf.groupby('site').count().sort_values(by='issue_num', ascending=False).issue_num[:35]"
   ]
  },
  {
   "cell_type": "markdown",
   "metadata": {},
   "source": [
    "#### Most popular blogs of 2016"
   ]
  },
  {
   "cell_type": "code",
   "execution_count": 18,
   "metadata": {
    "collapsed": false
   },
   "outputs": [
    {
     "data": {
      "text/plain": [
       "site\n",
       "medium.com                         83\n",
       "blog.stylingandroid.com            22\n",
       "android-developers.blogspot.com     9\n",
       "blog.nimbledroid.com                8\n",
       "riggaroo.co.za                      7\n",
       "hannesdorfmann.com                  7\n",
       "code.tutsplus.com                   6\n",
       "realm.io                            5\n",
       "speakerdeck.com                     5\n",
       "tomstechnicalblog.blogspot.com      5\n",
       "Name: issue_num, dtype: int64"
      ]
     },
     "execution_count": 18,
     "metadata": {},
     "output_type": "execute_result"
    }
   ],
   "source": [
    "adf[adf.year == 2016].groupby('site').count().sort_values(by='issue_num', ascending=False).issue_num[:10]"
   ]
  },
  {
   "cell_type": "markdown",
   "metadata": {},
   "source": [
    "#### Most popular blogs of 2015"
   ]
  },
  {
   "cell_type": "code",
   "execution_count": 19,
   "metadata": {
    "collapsed": false
   },
   "outputs": [
    {
     "data": {
      "text/plain": [
       "site\n",
       "medium.com                         83\n",
       "blog.stylingandroid.com            50\n",
       "plus.google.com                    34\n",
       "android-developers.blogspot.com    19\n",
       "www.bignerdranch.com               13\n",
       "blog.danlew.net                    12\n",
       "speakerdeck.com                    12\n",
       "antonioleiva.com                   12\n",
       "code.tutsplus.com                  11\n",
       "frogermcs.github.io                10\n",
       "Name: issue_num, dtype: int64"
      ]
     },
     "execution_count": 19,
     "metadata": {},
     "output_type": "execute_result"
    }
   ],
   "source": [
    "adf[adf.year == 2015].groupby('site').count().sort_values(by='issue_num', ascending=False).issue_num[:10]"
   ]
  },
  {
   "cell_type": "markdown",
   "metadata": {},
   "source": [
    "#### Most popular blogs of 2014"
   ]
  },
  {
   "cell_type": "code",
   "execution_count": 20,
   "metadata": {
    "collapsed": false
   },
   "outputs": [
    {
     "data": {
      "text/plain": [
       "site\n",
       "blog.stylingandroid.com            41\n",
       "plus.google.com                    35\n",
       "android-developers.blogspot.com    21\n",
       "ptrprograms.blogspot.com           11\n",
       "blog.danlew.net                    10\n",
       "speakerdeck.com                     9\n",
       "medium.com                          9\n",
       "antonioleiva.com                    6\n",
       "github.com                          5\n",
       "www.bignerdranch.com                5\n",
       "Name: issue_num, dtype: int64"
      ]
     },
     "execution_count": 20,
     "metadata": {},
     "output_type": "execute_result"
    }
   ],
   "source": [
    "adf[adf.year == 2014].groupby('site').count().sort_values(by='issue_num', ascending=False).issue_num[:10]"
   ]
  },
  {
   "cell_type": "markdown",
   "metadata": {},
   "source": [
    "#### Most popular blogs of 2013"
   ]
  },
  {
   "cell_type": "code",
   "execution_count": 21,
   "metadata": {
    "collapsed": false
   },
   "outputs": [
    {
     "data": {
      "text/plain": [
       "site\n",
       "blog.stylingandroid.com            29\n",
       "plus.google.com                    15\n",
       "android-developers.blogspot.com     8\n",
       "www.doubleencore.com                7\n",
       "www.kpbird.com                      4\n",
       "android-developers.blogspot.de      4\n",
       "udinic.wordpress.com                4\n",
       "gmariotti.blogspot.de               4\n",
       "speakerdeck.com                     3\n",
       "www.androiddesignpatterns.com       3\n",
       "Name: issue_num, dtype: int64"
      ]
     },
     "execution_count": 21,
     "metadata": {},
     "output_type": "execute_result"
    }
   ],
   "source": [
    "adf[adf.year == 2013].groupby('site').count().sort_values(by='issue_num', ascending=False).issue_num[:10]"
   ]
  },
  {
   "cell_type": "markdown",
   "metadata": {},
   "source": [
    "#### Most popular blogs before 2013"
   ]
  },
  {
   "cell_type": "code",
   "execution_count": 22,
   "metadata": {
    "collapsed": false
   },
   "outputs": [
    {
     "data": {
      "text/plain": [
       "site\n",
       "blog.stylingandroid.com            22\n",
       "vogella.de                          8\n",
       "android-developers.blogspot.com     8\n",
       "chrisrisner.com                     7\n",
       "grokkingandroid.com                 5\n",
       "plus.google.com                     4\n",
       "developer.android.com               4\n",
       "mobile.tutsplus.com                 3\n",
       "vogella.com                         3\n",
       "androiduipatterns.com               3\n",
       "Name: issue_num, dtype: int64"
      ]
     },
     "execution_count": 22,
     "metadata": {},
     "output_type": "execute_result"
    }
   ],
   "source": [
    "adf[adf.year < 2013].groupby('site').count().sort_values(by='issue_num', ascending=False).issue_num[:10]"
   ]
  },
  {
   "cell_type": "code",
   "execution_count": 80,
   "metadata": {
    "collapsed": false
   },
   "outputs": [
    {
     "data": {
      "text/html": [
       "<div>\n",
       "<table border=\"1\" class=\"dataframe\">\n",
       "  <thead>\n",
       "    <tr style=\"text-align: right;\">\n",
       "      <th>site</th>\n",
       "      <th>Working with XML on Android</th>\n",
       "      <th>abhan.github.io</th>\n",
       "      <th>acadgild.com</th>\n",
       "      <th>adelnizamutdinov.github.io</th>\n",
       "      <th>agiliq.com</th>\n",
       "      <th>air.mozilla.org</th>\n",
       "      <th>akarnokd.blogspot.com</th>\n",
       "      <th>akarnokd.blogspot.hu</th>\n",
       "      <th>akarnokd.blogspot.it</th>\n",
       "      <th>alexzh.com</th>\n",
       "      <th>...</th>\n",
       "      <th>www.willowtreeapps.com</th>\n",
       "      <th>www.yannicklemin.com</th>\n",
       "      <th>www.youtube.com</th>\n",
       "      <th>www.zdominguez.com</th>\n",
       "      <th>xrigau.wordpress.com</th>\n",
       "      <th>yakivmospan.wordpress.com</th>\n",
       "      <th>yalantis.com</th>\n",
       "      <th>yarikx.github.io</th>\n",
       "      <th>yvonne.idescout.com</th>\n",
       "      <th>zserge.com</th>\n",
       "    </tr>\n",
       "    <tr>\n",
       "      <th>year</th>\n",
       "      <th></th>\n",
       "      <th></th>\n",
       "      <th></th>\n",
       "      <th></th>\n",
       "      <th></th>\n",
       "      <th></th>\n",
       "      <th></th>\n",
       "      <th></th>\n",
       "      <th></th>\n",
       "      <th></th>\n",
       "      <th></th>\n",
       "      <th></th>\n",
       "      <th></th>\n",
       "      <th></th>\n",
       "      <th></th>\n",
       "      <th></th>\n",
       "      <th></th>\n",
       "      <th></th>\n",
       "      <th></th>\n",
       "      <th></th>\n",
       "      <th></th>\n",
       "    </tr>\n",
       "  </thead>\n",
       "  <tbody>\n",
       "    <tr>\n",
       "      <th>2011</th>\n",
       "      <td>1</td>\n",
       "      <td>0</td>\n",
       "      <td>0</td>\n",
       "      <td>0</td>\n",
       "      <td>0</td>\n",
       "      <td>0</td>\n",
       "      <td>0</td>\n",
       "      <td>0</td>\n",
       "      <td>0</td>\n",
       "      <td>0</td>\n",
       "      <td>...</td>\n",
       "      <td>0</td>\n",
       "      <td>0</td>\n",
       "      <td>0</td>\n",
       "      <td>0</td>\n",
       "      <td>0</td>\n",
       "      <td>0</td>\n",
       "      <td>0</td>\n",
       "      <td>0</td>\n",
       "      <td>0</td>\n",
       "      <td>0</td>\n",
       "    </tr>\n",
       "    <tr>\n",
       "      <th>2012</th>\n",
       "      <td>0</td>\n",
       "      <td>0</td>\n",
       "      <td>0</td>\n",
       "      <td>0</td>\n",
       "      <td>1</td>\n",
       "      <td>0</td>\n",
       "      <td>0</td>\n",
       "      <td>0</td>\n",
       "      <td>0</td>\n",
       "      <td>0</td>\n",
       "      <td>...</td>\n",
       "      <td>0</td>\n",
       "      <td>0</td>\n",
       "      <td>0</td>\n",
       "      <td>0</td>\n",
       "      <td>1</td>\n",
       "      <td>0</td>\n",
       "      <td>0</td>\n",
       "      <td>0</td>\n",
       "      <td>0</td>\n",
       "      <td>0</td>\n",
       "    </tr>\n",
       "    <tr>\n",
       "      <th>2013</th>\n",
       "      <td>0</td>\n",
       "      <td>1</td>\n",
       "      <td>0</td>\n",
       "      <td>0</td>\n",
       "      <td>0</td>\n",
       "      <td>1</td>\n",
       "      <td>0</td>\n",
       "      <td>0</td>\n",
       "      <td>0</td>\n",
       "      <td>0</td>\n",
       "      <td>...</td>\n",
       "      <td>0</td>\n",
       "      <td>0</td>\n",
       "      <td>1</td>\n",
       "      <td>0</td>\n",
       "      <td>0</td>\n",
       "      <td>0</td>\n",
       "      <td>0</td>\n",
       "      <td>0</td>\n",
       "      <td>0</td>\n",
       "      <td>0</td>\n",
       "    </tr>\n",
       "    <tr>\n",
       "      <th>2014</th>\n",
       "      <td>0</td>\n",
       "      <td>0</td>\n",
       "      <td>0</td>\n",
       "      <td>0</td>\n",
       "      <td>0</td>\n",
       "      <td>0</td>\n",
       "      <td>0</td>\n",
       "      <td>0</td>\n",
       "      <td>0</td>\n",
       "      <td>0</td>\n",
       "      <td>...</td>\n",
       "      <td>0</td>\n",
       "      <td>0</td>\n",
       "      <td>0</td>\n",
       "      <td>0</td>\n",
       "      <td>0</td>\n",
       "      <td>1</td>\n",
       "      <td>0</td>\n",
       "      <td>0</td>\n",
       "      <td>0</td>\n",
       "      <td>1</td>\n",
       "    </tr>\n",
       "    <tr>\n",
       "      <th>2015</th>\n",
       "      <td>0</td>\n",
       "      <td>0</td>\n",
       "      <td>1</td>\n",
       "      <td>0</td>\n",
       "      <td>0</td>\n",
       "      <td>0</td>\n",
       "      <td>1</td>\n",
       "      <td>1</td>\n",
       "      <td>0</td>\n",
       "      <td>1</td>\n",
       "      <td>...</td>\n",
       "      <td>1</td>\n",
       "      <td>1</td>\n",
       "      <td>0</td>\n",
       "      <td>0</td>\n",
       "      <td>0</td>\n",
       "      <td>0</td>\n",
       "      <td>2</td>\n",
       "      <td>1</td>\n",
       "      <td>1</td>\n",
       "      <td>0</td>\n",
       "    </tr>\n",
       "  </tbody>\n",
       "</table>\n",
       "<p>5 rows × 486 columns</p>\n",
       "</div>"
      ],
      "text/plain": [
       "site  Working with XML on Android  abhan.github.io  acadgild.com  \\\n",
       "year                                                               \n",
       "2011                            1                0             0   \n",
       "2012                            0                0             0   \n",
       "2013                            0                1             0   \n",
       "2014                            0                0             0   \n",
       "2015                            0                0             1   \n",
       "\n",
       "site  adelnizamutdinov.github.io  agiliq.com  air.mozilla.org  \\\n",
       "year                                                            \n",
       "2011                           0           0                0   \n",
       "2012                           0           1                0   \n",
       "2013                           0           0                1   \n",
       "2014                           0           0                0   \n",
       "2015                           0           0                0   \n",
       "\n",
       "site  akarnokd.blogspot.com  akarnokd.blogspot.hu  akarnokd.blogspot.it  \\\n",
       "year                                                                      \n",
       "2011                      0                     0                     0   \n",
       "2012                      0                     0                     0   \n",
       "2013                      0                     0                     0   \n",
       "2014                      0                     0                     0   \n",
       "2015                      1                     1                     0   \n",
       "\n",
       "site  alexzh.com     ...      www.willowtreeapps.com  www.yannicklemin.com  \\\n",
       "year                 ...                                                     \n",
       "2011           0     ...                           0                     0   \n",
       "2012           0     ...                           0                     0   \n",
       "2013           0     ...                           0                     0   \n",
       "2014           0     ...                           0                     0   \n",
       "2015           1     ...                           1                     1   \n",
       "\n",
       "site  www.youtube.com  www.zdominguez.com  xrigau.wordpress.com  \\\n",
       "year                                                              \n",
       "2011                0                   0                     0   \n",
       "2012                0                   0                     1   \n",
       "2013                1                   0                     0   \n",
       "2014                0                   0                     0   \n",
       "2015                0                   0                     0   \n",
       "\n",
       "site  yakivmospan.wordpress.com  yalantis.com  yarikx.github.io  \\\n",
       "year                                                              \n",
       "2011                          0             0                 0   \n",
       "2012                          0             0                 0   \n",
       "2013                          0             0                 0   \n",
       "2014                          1             0                 0   \n",
       "2015                          0             2                 1   \n",
       "\n",
       "site  yvonne.idescout.com  zserge.com  \n",
       "year                                   \n",
       "2011                    0           0  \n",
       "2012                    0           0  \n",
       "2013                    0           0  \n",
       "2014                    0           1  \n",
       "2015                    1           0  \n",
       "\n",
       "[5 rows x 486 columns]"
      ]
     },
     "execution_count": 80,
     "metadata": {},
     "output_type": "execute_result"
    }
   ],
   "source": [
    "blogs_by_year = pd.pivot_table(adf, index='year', columns='site', aggfunc=lambda x: len(x.unique()), fill_value=0).issue_num\n",
    "blogs_by_year.head()"
   ]
  },
  {
   "cell_type": "code",
   "execution_count": 81,
   "metadata": {
    "collapsed": false
   },
   "outputs": [
    {
     "data": {
      "text/plain": [
       "year\n",
       "2011     1\n",
       "2012    14\n",
       "2013    24\n",
       "2014    39\n",
       "2015    49\n",
       "2016    20\n",
       "Name: blog.stylingandroid.com, dtype: int64"
      ]
     },
     "execution_count": 81,
     "metadata": {},
     "output_type": "execute_result"
    }
   ],
   "source": [
    "blogs_by_year['blog.stylingandroid.com']"
   ]
  },
  {
   "cell_type": "code",
   "execution_count": 79,
   "metadata": {
    "collapsed": false
   },
   "outputs": [
    {
     "data": {
      "text/html": [
       "<div>\n",
       "<table border=\"1\" class=\"dataframe\">\n",
       "  <thead>\n",
       "    <tr style=\"text-align: right;\">\n",
       "      <th>site</th>\n",
       "      <th>android-developers.blogspot.com</th>\n",
       "      <th>android-developers.blogspot.de</th>\n",
       "      <th>antonioleiva.com</th>\n",
       "      <th>artemzin.com</th>\n",
       "      <th>blog.danlew.net</th>\n",
       "      <th>blog.karumi.com</th>\n",
       "      <th>blog.nimbledroid.com</th>\n",
       "      <th>blog.sqisland.com</th>\n",
       "      <th>blog.stylingandroid.com</th>\n",
       "      <th>chrisrisner.com</th>\n",
       "      <th>...</th>\n",
       "      <th>www.androiddesignpatterns.com</th>\n",
       "      <th>www.bignerdranch.com</th>\n",
       "      <th>www.donnfelker.com</th>\n",
       "      <th>www.doubleencore.com</th>\n",
       "      <th>www.grokkingandroid.com</th>\n",
       "      <th>www.infinum.co</th>\n",
       "      <th>www.novoda.com</th>\n",
       "      <th>www.philosophicalhacker.com</th>\n",
       "      <th>www.slideshare.net</th>\n",
       "      <th>www.technotalkative.com</th>\n",
       "    </tr>\n",
       "    <tr>\n",
       "      <th>year</th>\n",
       "      <th></th>\n",
       "      <th></th>\n",
       "      <th></th>\n",
       "      <th></th>\n",
       "      <th></th>\n",
       "      <th></th>\n",
       "      <th></th>\n",
       "      <th></th>\n",
       "      <th></th>\n",
       "      <th></th>\n",
       "      <th></th>\n",
       "      <th></th>\n",
       "      <th></th>\n",
       "      <th></th>\n",
       "      <th></th>\n",
       "      <th></th>\n",
       "      <th></th>\n",
       "      <th></th>\n",
       "      <th></th>\n",
       "      <th></th>\n",
       "      <th></th>\n",
       "    </tr>\n",
       "  </thead>\n",
       "  <tbody>\n",
       "    <tr>\n",
       "      <th>2011</th>\n",
       "      <td>1.0</td>\n",
       "      <td>NaN</td>\n",
       "      <td>NaN</td>\n",
       "      <td>NaN</td>\n",
       "      <td>NaN</td>\n",
       "      <td>NaN</td>\n",
       "      <td>NaN</td>\n",
       "      <td>NaN</td>\n",
       "      <td>1.0</td>\n",
       "      <td>NaN</td>\n",
       "      <td>...</td>\n",
       "      <td>NaN</td>\n",
       "      <td>NaN</td>\n",
       "      <td>NaN</td>\n",
       "      <td>NaN</td>\n",
       "      <td>NaN</td>\n",
       "      <td>NaN</td>\n",
       "      <td>NaN</td>\n",
       "      <td>NaN</td>\n",
       "      <td>NaN</td>\n",
       "      <td>NaN</td>\n",
       "    </tr>\n",
       "    <tr>\n",
       "      <th>2012</th>\n",
       "      <td>6.0</td>\n",
       "      <td>2.0</td>\n",
       "      <td>NaN</td>\n",
       "      <td>NaN</td>\n",
       "      <td>NaN</td>\n",
       "      <td>NaN</td>\n",
       "      <td>NaN</td>\n",
       "      <td>NaN</td>\n",
       "      <td>14.0</td>\n",
       "      <td>7.0</td>\n",
       "      <td>...</td>\n",
       "      <td>NaN</td>\n",
       "      <td>NaN</td>\n",
       "      <td>NaN</td>\n",
       "      <td>NaN</td>\n",
       "      <td>NaN</td>\n",
       "      <td>NaN</td>\n",
       "      <td>NaN</td>\n",
       "      <td>NaN</td>\n",
       "      <td>NaN</td>\n",
       "      <td>NaN</td>\n",
       "    </tr>\n",
       "    <tr>\n",
       "      <th>2013</th>\n",
       "      <td>6.0</td>\n",
       "      <td>3.0</td>\n",
       "      <td>2.0</td>\n",
       "      <td>NaN</td>\n",
       "      <td>NaN</td>\n",
       "      <td>NaN</td>\n",
       "      <td>NaN</td>\n",
       "      <td>NaN</td>\n",
       "      <td>24.0</td>\n",
       "      <td>NaN</td>\n",
       "      <td>...</td>\n",
       "      <td>3.0</td>\n",
       "      <td>NaN</td>\n",
       "      <td>NaN</td>\n",
       "      <td>6.0</td>\n",
       "      <td>1.0</td>\n",
       "      <td>NaN</td>\n",
       "      <td>NaN</td>\n",
       "      <td>NaN</td>\n",
       "      <td>1.0</td>\n",
       "      <td>NaN</td>\n",
       "    </tr>\n",
       "    <tr>\n",
       "      <th>2014</th>\n",
       "      <td>18.0</td>\n",
       "      <td>2.0</td>\n",
       "      <td>6.0</td>\n",
       "      <td>NaN</td>\n",
       "      <td>10.0</td>\n",
       "      <td>NaN</td>\n",
       "      <td>NaN</td>\n",
       "      <td>2.0</td>\n",
       "      <td>39.0</td>\n",
       "      <td>NaN</td>\n",
       "      <td>...</td>\n",
       "      <td>3.0</td>\n",
       "      <td>5.0</td>\n",
       "      <td>1.0</td>\n",
       "      <td>4.0</td>\n",
       "      <td>3.0</td>\n",
       "      <td>4.0</td>\n",
       "      <td>NaN</td>\n",
       "      <td>NaN</td>\n",
       "      <td>5.0</td>\n",
       "      <td>2.0</td>\n",
       "    </tr>\n",
       "    <tr>\n",
       "      <th>2015</th>\n",
       "      <td>16.0</td>\n",
       "      <td>NaN</td>\n",
       "      <td>12.0</td>\n",
       "      <td>4.0</td>\n",
       "      <td>12.0</td>\n",
       "      <td>2.0</td>\n",
       "      <td>2.0</td>\n",
       "      <td>8.0</td>\n",
       "      <td>49.0</td>\n",
       "      <td>NaN</td>\n",
       "      <td>...</td>\n",
       "      <td>3.0</td>\n",
       "      <td>11.0</td>\n",
       "      <td>3.0</td>\n",
       "      <td>NaN</td>\n",
       "      <td>2.0</td>\n",
       "      <td>1.0</td>\n",
       "      <td>2.0</td>\n",
       "      <td>4.0</td>\n",
       "      <td>2.0</td>\n",
       "      <td>3.0</td>\n",
       "    </tr>\n",
       "  </tbody>\n",
       "</table>\n",
       "<p>5 rows × 51 columns</p>\n",
       "</div>"
      ],
      "text/plain": [
       "site  android-developers.blogspot.com  android-developers.blogspot.de  \\\n",
       "year                                                                    \n",
       "2011                              1.0                             NaN   \n",
       "2012                              6.0                             2.0   \n",
       "2013                              6.0                             3.0   \n",
       "2014                             18.0                             2.0   \n",
       "2015                             16.0                             NaN   \n",
       "\n",
       "site  antonioleiva.com  artemzin.com  blog.danlew.net  blog.karumi.com  \\\n",
       "year                                                                     \n",
       "2011               NaN           NaN              NaN              NaN   \n",
       "2012               NaN           NaN              NaN              NaN   \n",
       "2013               2.0           NaN              NaN              NaN   \n",
       "2014               6.0           NaN             10.0              NaN   \n",
       "2015              12.0           4.0             12.0              2.0   \n",
       "\n",
       "site  blog.nimbledroid.com  blog.sqisland.com  blog.stylingandroid.com  \\\n",
       "year                                                                     \n",
       "2011                   NaN                NaN                      1.0   \n",
       "2012                   NaN                NaN                     14.0   \n",
       "2013                   NaN                NaN                     24.0   \n",
       "2014                   NaN                2.0                     39.0   \n",
       "2015                   2.0                8.0                     49.0   \n",
       "\n",
       "site  chrisrisner.com           ...             www.androiddesignpatterns.com  \\\n",
       "year                            ...                                             \n",
       "2011              NaN           ...                                       NaN   \n",
       "2012              7.0           ...                                       NaN   \n",
       "2013              NaN           ...                                       3.0   \n",
       "2014              NaN           ...                                       3.0   \n",
       "2015              NaN           ...                                       3.0   \n",
       "\n",
       "site  www.bignerdranch.com  www.donnfelker.com  www.doubleencore.com  \\\n",
       "year                                                                   \n",
       "2011                   NaN                 NaN                   NaN   \n",
       "2012                   NaN                 NaN                   NaN   \n",
       "2013                   NaN                 NaN                   6.0   \n",
       "2014                   5.0                 1.0                   4.0   \n",
       "2015                  11.0                 3.0                   NaN   \n",
       "\n",
       "site  www.grokkingandroid.com  www.infinum.co  www.novoda.com  \\\n",
       "year                                                            \n",
       "2011                      NaN             NaN             NaN   \n",
       "2012                      NaN             NaN             NaN   \n",
       "2013                      1.0             NaN             NaN   \n",
       "2014                      3.0             4.0             NaN   \n",
       "2015                      2.0             1.0             2.0   \n",
       "\n",
       "site  www.philosophicalhacker.com  www.slideshare.net  www.technotalkative.com  \n",
       "year                                                                            \n",
       "2011                          NaN                 NaN                      NaN  \n",
       "2012                          NaN                 NaN                      NaN  \n",
       "2013                          NaN                 1.0                      NaN  \n",
       "2014                          NaN                 5.0                      2.0  \n",
       "2015                          4.0                 2.0                      3.0  \n",
       "\n",
       "[5 rows x 51 columns]"
      ]
     },
     "execution_count": 79,
     "metadata": {},
     "output_type": "execute_result"
    }
   ],
   "source": [
    "top_blogs_by_year = blogs_by_year.loc[:, blogs_by_year.sum(0) >= 5]\n",
    "top_blogs_by_year.head()"
   ]
  },
  {
   "cell_type": "code",
   "execution_count": 55,
   "metadata": {
    "collapsed": false
   },
   "outputs": [
    {
     "name": "stderr",
     "output_type": "stream",
     "text": [
      "/Library/Frameworks/Python.framework/Versions/2.7/lib/python2.7/site-packages/ipykernel/__main__.py:1: UserWarning:\n",
      "\n",
      "Boolean Series key will be reindexed to match DataFrame index.\n",
      "\n"
     ]
    },
    {
     "ename": "IndexingError",
     "evalue": "Unalignable boolean Series key provided",
     "output_type": "error",
     "traceback": [
      "\u001b[0;31m---------------------------------------------------------------------------\u001b[0m",
      "\u001b[0;31mIndexingError\u001b[0m                             Traceback (most recent call last)",
      "\u001b[0;32m<ipython-input-55-cbd1b94ff433>\u001b[0m in \u001b[0;36m<module>\u001b[0;34m()\u001b[0m\n\u001b[0;32m----> 1\u001b[0;31m \u001b[0mtop_blogs_by_year\u001b[0m \u001b[0;34m=\u001b[0m \u001b[0mblogs_by_year\u001b[0m\u001b[0;34m[\u001b[0m\u001b[0mblogs_by_year\u001b[0m\u001b[0;34m.\u001b[0m\u001b[0msum\u001b[0m\u001b[0;34m(\u001b[0m\u001b[0;34m)\u001b[0m \u001b[0;34m>=\u001b[0m \u001b[0;36m5\u001b[0m\u001b[0;34m]\u001b[0m\u001b[0;34m\u001b[0m\u001b[0m\n\u001b[0m\u001b[1;32m      2\u001b[0m \u001b[0mtop_blogs_by_year\u001b[0m\u001b[0;34m.\u001b[0m\u001b[0mhead\u001b[0m\u001b[0;34m(\u001b[0m\u001b[0;34m)\u001b[0m\u001b[0;34m\u001b[0m\u001b[0m\n",
      "\u001b[0;32m/Library/Frameworks/Python.framework/Versions/2.7/lib/python2.7/site-packages/pandas/core/frame.pyc\u001b[0m in \u001b[0;36m__getitem__\u001b[0;34m(self, key)\u001b[0m\n\u001b[1;32m   1989\u001b[0m         \u001b[0;32mif\u001b[0m \u001b[0misinstance\u001b[0m\u001b[0;34m(\u001b[0m\u001b[0mkey\u001b[0m\u001b[0;34m,\u001b[0m \u001b[0;34m(\u001b[0m\u001b[0mSeries\u001b[0m\u001b[0;34m,\u001b[0m \u001b[0mnp\u001b[0m\u001b[0;34m.\u001b[0m\u001b[0mndarray\u001b[0m\u001b[0;34m,\u001b[0m \u001b[0mIndex\u001b[0m\u001b[0;34m,\u001b[0m \u001b[0mlist\u001b[0m\u001b[0;34m)\u001b[0m\u001b[0;34m)\u001b[0m\u001b[0;34m:\u001b[0m\u001b[0;34m\u001b[0m\u001b[0m\n\u001b[1;32m   1990\u001b[0m             \u001b[0;31m# either boolean or fancy integer index\u001b[0m\u001b[0;34m\u001b[0m\u001b[0;34m\u001b[0m\u001b[0m\n\u001b[0;32m-> 1991\u001b[0;31m             \u001b[0;32mreturn\u001b[0m \u001b[0mself\u001b[0m\u001b[0;34m.\u001b[0m\u001b[0m_getitem_array\u001b[0m\u001b[0;34m(\u001b[0m\u001b[0mkey\u001b[0m\u001b[0;34m)\u001b[0m\u001b[0;34m\u001b[0m\u001b[0m\n\u001b[0m\u001b[1;32m   1992\u001b[0m         \u001b[0;32melif\u001b[0m \u001b[0misinstance\u001b[0m\u001b[0;34m(\u001b[0m\u001b[0mkey\u001b[0m\u001b[0;34m,\u001b[0m \u001b[0mDataFrame\u001b[0m\u001b[0;34m)\u001b[0m\u001b[0;34m:\u001b[0m\u001b[0;34m\u001b[0m\u001b[0m\n\u001b[1;32m   1993\u001b[0m             \u001b[0;32mreturn\u001b[0m \u001b[0mself\u001b[0m\u001b[0;34m.\u001b[0m\u001b[0m_getitem_frame\u001b[0m\u001b[0;34m(\u001b[0m\u001b[0mkey\u001b[0m\u001b[0;34m)\u001b[0m\u001b[0;34m\u001b[0m\u001b[0m\n",
      "\u001b[0;32m/Library/Frameworks/Python.framework/Versions/2.7/lib/python2.7/site-packages/pandas/core/frame.pyc\u001b[0m in \u001b[0;36m_getitem_array\u001b[0;34m(self, key)\u001b[0m\n\u001b[1;32m   2029\u001b[0m             \u001b[0;31m# check_bool_indexer will throw exception if Series key cannot\u001b[0m\u001b[0;34m\u001b[0m\u001b[0;34m\u001b[0m\u001b[0m\n\u001b[1;32m   2030\u001b[0m             \u001b[0;31m# be reindexed to match DataFrame rows\u001b[0m\u001b[0;34m\u001b[0m\u001b[0;34m\u001b[0m\u001b[0m\n\u001b[0;32m-> 2031\u001b[0;31m             \u001b[0mkey\u001b[0m \u001b[0;34m=\u001b[0m \u001b[0mcheck_bool_indexer\u001b[0m\u001b[0;34m(\u001b[0m\u001b[0mself\u001b[0m\u001b[0;34m.\u001b[0m\u001b[0mindex\u001b[0m\u001b[0;34m,\u001b[0m \u001b[0mkey\u001b[0m\u001b[0;34m)\u001b[0m\u001b[0;34m\u001b[0m\u001b[0m\n\u001b[0m\u001b[1;32m   2032\u001b[0m             \u001b[0mindexer\u001b[0m \u001b[0;34m=\u001b[0m \u001b[0mkey\u001b[0m\u001b[0;34m.\u001b[0m\u001b[0mnonzero\u001b[0m\u001b[0;34m(\u001b[0m\u001b[0;34m)\u001b[0m\u001b[0;34m[\u001b[0m\u001b[0;36m0\u001b[0m\u001b[0;34m]\u001b[0m\u001b[0;34m\u001b[0m\u001b[0m\n\u001b[1;32m   2033\u001b[0m             \u001b[0;32mreturn\u001b[0m \u001b[0mself\u001b[0m\u001b[0;34m.\u001b[0m\u001b[0mtake\u001b[0m\u001b[0;34m(\u001b[0m\u001b[0mindexer\u001b[0m\u001b[0;34m,\u001b[0m \u001b[0maxis\u001b[0m\u001b[0;34m=\u001b[0m\u001b[0;36m0\u001b[0m\u001b[0;34m,\u001b[0m \u001b[0mconvert\u001b[0m\u001b[0;34m=\u001b[0m\u001b[0mFalse\u001b[0m\u001b[0;34m)\u001b[0m\u001b[0;34m\u001b[0m\u001b[0m\n",
      "\u001b[0;32m/Library/Frameworks/Python.framework/Versions/2.7/lib/python2.7/site-packages/pandas/core/indexing.pyc\u001b[0m in \u001b[0;36mcheck_bool_indexer\u001b[0;34m(ax, key)\u001b[0m\n\u001b[1;32m   1799\u001b[0m         \u001b[0mmask\u001b[0m \u001b[0;34m=\u001b[0m \u001b[0mcom\u001b[0m\u001b[0;34m.\u001b[0m\u001b[0misnull\u001b[0m\u001b[0;34m(\u001b[0m\u001b[0mresult\u001b[0m\u001b[0;34m.\u001b[0m\u001b[0m_values\u001b[0m\u001b[0;34m)\u001b[0m\u001b[0;34m\u001b[0m\u001b[0m\n\u001b[1;32m   1800\u001b[0m         \u001b[0;32mif\u001b[0m \u001b[0mmask\u001b[0m\u001b[0;34m.\u001b[0m\u001b[0many\u001b[0m\u001b[0;34m(\u001b[0m\u001b[0;34m)\u001b[0m\u001b[0;34m:\u001b[0m\u001b[0;34m\u001b[0m\u001b[0m\n\u001b[0;32m-> 1801\u001b[0;31m             \u001b[0;32mraise\u001b[0m \u001b[0mIndexingError\u001b[0m\u001b[0;34m(\u001b[0m\u001b[0;34m'Unalignable boolean Series key provided'\u001b[0m\u001b[0;34m)\u001b[0m\u001b[0;34m\u001b[0m\u001b[0m\n\u001b[0m\u001b[1;32m   1802\u001b[0m \u001b[0;34m\u001b[0m\u001b[0m\n\u001b[1;32m   1803\u001b[0m         \u001b[0mresult\u001b[0m \u001b[0;34m=\u001b[0m \u001b[0mresult\u001b[0m\u001b[0;34m.\u001b[0m\u001b[0mastype\u001b[0m\u001b[0;34m(\u001b[0m\u001b[0mbool\u001b[0m\u001b[0;34m)\u001b[0m\u001b[0;34m.\u001b[0m\u001b[0m_values\u001b[0m\u001b[0;34m\u001b[0m\u001b[0m\n",
      "\u001b[0;31mIndexingError\u001b[0m: Unalignable boolean Series key provided"
     ]
    }
   ],
   "source": [
    "top_blogs_by_year = blogs_by_year[blogs_by_year.sum() >= 5]\n",
    "top_blogs_by_year.head()"
   ]
  },
  {
   "cell_type": "code",
   "execution_count": null,
   "metadata": {
    "collapsed": true
   },
   "outputs": [],
   "source": []
  },
  {
   "cell_type": "code",
   "execution_count": 48,
   "metadata": {
    "collapsed": false
   },
   "outputs": [
    {
     "data": {
      "text/html": [
       "<iframe id=\"igraph\" scrolling=\"no\" style=\"border:none;\" seamless=\"seamless\" src=\"https://plot.ly/~jordanjoz/3.embed\" height=\"525px\" width=\"100%\"></iframe>"
      ],
      "text/plain": [
       "<plotly.tools.PlotlyDisplay object>"
      ]
     },
     "execution_count": 48,
     "metadata": {},
     "output_type": "execute_result"
    }
   ],
   "source": [
    "py.iplot([{\n",
    "    'x': blogs_by_year.index,\n",
    "    'y': blogs_by_year[col],\n",
    "    'name': col\n",
    "}  for col in blogs_by_year.columns])"
   ]
  },
  {
   "cell_type": "code",
   "execution_count": null,
   "metadata": {
    "collapsed": false
   },
   "outputs": [],
   "source": [
    "adf.groupby(['year', 'site']).count().head()"
   ]
  },
  {
   "cell_type": "code",
   "execution_count": null,
   "metadata": {
    "collapsed": false
   },
   "outputs": [],
   "source": [
    "adf.groupby(['year', 'site']).count().plot(subplots=True);"
   ]
  },
  {
   "cell_type": "code",
   "execution_count": 6,
   "metadata": {
    "collapsed": false
   },
   "outputs": [
    {
     "data": {
      "text/plain": [
       "<matplotlib.axes._subplots.AxesSubplot at 0x105451150>"
      ]
     },
     "execution_count": 6,
     "metadata": {},
     "output_type": "execute_result"
    },
    {
     "data": {
      "image/png": "[encoded data removed]",
      "text/plain": [
       "<matplotlib.figure.Figure at 0x1057e8190>"
      ]
     },
     "metadata": {},
     "output_type": "display_data"
    }
   ],
   "source": [
    "adf.groupby(['year', 'site']).year.count().plot()"
   ]
  },
  {
   "cell_type": "code",
   "execution_count": 98,
   "metadata": {
    "collapsed": false
   },
   "outputs": [
    {
     "data": {
      "text/plain": [
       "<matplotlib.axes._subplots.AxesSubplot at 0x1456b27d0>"
      ]
     },
     "execution_count": 98,
     "metadata": {},
     "output_type": "execute_result"
    },
    {
     "data": {
      "image/png": "[encoded data removed]",
      "text/plain": [
       "<matplotlib.figure.Figure at 0x145cbbc90>"
      ]
     },
     "metadata": {},
     "output_type": "display_data"
    }
   ],
   "source": [
    "adf.groupby(['year', 'site']).sum().plot()"
   ]
  },
  {
   "cell_type": "code",
   "execution_count": 85,
   "metadata": {
    "collapsed": false
   },
   "outputs": [
    {
     "name": "stderr",
     "output_type": "stream",
     "text": [
      "/Library/Frameworks/Python.framework/Versions/2.7/lib/python2.7/site-packages/matplotlib/axes/_base.py:2787: UserWarning: Attempting to set identical left==right results\n",
      "in singular transformations; automatically expanding.\n",
      "left=0.0, right=0.0\n",
      "  'left=%s, right=%s') % (left, right))\n",
      "/Library/Frameworks/Python.framework/Versions/2.7/lib/python2.7/site-packages/matplotlib/pyplot.py:516: RuntimeWarning: More than 20 figures have been opened. Figures created through the pyplot interface (`matplotlib.pyplot.figure`) are retained until explicitly closed and may consume too much memory. (To control this warning, see the rcParam `figure.max_open_warning`).\n",
      "  max_open_warning, RuntimeWarning)\n"
     ]
    },
    {
     "data": {
      "text/plain": [
       "year  site                              \n",
       "2011  Working with XML on Android           Axes(0.125,0.1;0.775x0.8)\n",
       "      android-developers.blogspot.com       Axes(0.125,0.1;0.775x0.8)\n",
       "      blog.stylingandroid.com               Axes(0.125,0.1;0.775x0.8)\n",
       "      brunocosta.com                        Axes(0.125,0.1;0.775x0.8)\n",
       "      codingjunkie.net                      Axes(0.125,0.1;0.775x0.8)\n",
       "      designbycode.tumblr.com/              Axes(0.125,0.1;0.775x0.8)\n",
       "      http://coding.smashingmagazine.com    Axes(0.125,0.1;0.775x0.8)\n",
       "      joshclemm.com                         Axes(0.125,0.1;0.775x0.8)\n",
       "      mobile.tutsplus.com                   Axes(0.125,0.1;0.775x0.8)\n",
       "      mobile.tutsplus.com/                  Axes(0.125,0.1;0.775x0.8)\n",
       "      nishantvnair.wordpress.com            Axes(0.125,0.1;0.775x0.8)\n",
       "      staticallytyped.wordpress.com         Axes(0.125,0.1;0.775x0.8)\n",
       "      vogella.de                            Axes(0.125,0.1;0.775x0.8)\n",
       "2012  agiliq.com                            Axes(0.125,0.1;0.775x0.8)\n",
       "      altdevblogaday.com                    Axes(0.125,0.1;0.775x0.8)\n",
       "      android-developers.blogspot.com       Axes(0.125,0.1;0.775x0.8)\n",
       "      android-developers.blogspot.de        Axes(0.125,0.1;0.775x0.8)\n",
       "      android.cyrilmottier.com              Axes(0.125,0.1;0.775x0.8)\n",
       "      android.ezinemark.com                 Axes(0.125,0.1;0.775x0.8)\n",
       "      androidcookbook.com                   Axes(0.125,0.1;0.775x0.8)\n",
       "      androidcookers.co.cc                  Axes(0.125,0.1;0.775x0.8)\n",
       "      androiddesign.info                    Axes(0.125,0.1;0.775x0.8)\n",
       "      androidkickstartr.com                 Axes(0.125,0.1;0.775x0.8)\n",
       "      androidpeople.com                     Axes(0.125,0.1;0.775x0.8)\n",
       "      androiduipatterns.com                 Axes(0.125,0.1;0.775x0.8)\n",
       "      androidzeitgeist.com                  Axes(0.125,0.1;0.775x0.8)\n",
       "      arpitonline.com                       Axes(0.125,0.1;0.775x0.8)\n",
       "      barebonescoder.com                    Axes(0.125,0.1;0.775x0.8)\n",
       "      blog.apkudo.com                       Axes(0.125,0.1;0.775x0.8)\n",
       "      blog.blundell-apps.com                Axes(0.125,0.1;0.775x0.8)\n",
       "                                                      ...            \n",
       "2016  spring.io                             Axes(0.125,0.1;0.775x0.8)\n",
       "      stackoverflow.com                     Axes(0.125,0.1;0.775x0.8)\n",
       "      stanfy.com                            Axes(0.125,0.1;0.775x0.8)\n",
       "      szagurskii.com                        Axes(0.125,0.1;0.775x0.8)\n",
       "      tir38.com                             Axes(0.125,0.1;0.775x0.8)\n",
       "      tomstechnicalblog.blogspot.com        Axes(0.125,0.1;0.775x0.8)\n",
       "      trickyandroid.com                     Axes(0.125,0.1;0.775x0.8)\n",
       "      upday.github.io                       Axes(0.125,0.1;0.775x0.8)\n",
       "      vishnurajeevan.com                    Axes(0.125,0.1;0.775x0.8)\n",
       "      wiresareobsolete.com                  Axes(0.125,0.1;0.775x0.8)\n",
       "      www.adavis.info                       Axes(0.125,0.1;0.775x0.8)\n",
       "      www.andevcon.com                      Axes(0.125,0.1;0.775x0.8)\n",
       "      www.bignerdranch.com                  Axes(0.125,0.1;0.775x0.8)\n",
       "      www.captechconsulting.com             Axes(0.125,0.1;0.775x0.8)\n",
       "      www.cirorizzo.net                     Axes(0.125,0.1;0.775x0.8)\n",
       "      www.developerphil.com                 Axes(0.125,0.1;0.775x0.8)\n",
       "      www.dmytrodanylyk.com                 Axes(0.125,0.1;0.775x0.8)\n",
       "      www.donnfelker.com                    Axes(0.125,0.1;0.775x0.8)\n",
       "      www.google.com                        Axes(0.125,0.1;0.775x0.8)\n",
       "      www.grokkingandroid.com               Axes(0.125,0.1;0.775x0.8)\n",
       "      www.littlerobots.nl                   Axes(0.125,0.1;0.775x0.8)\n",
       "      www.novoda.com                        Axes(0.125,0.1;0.775x0.8)\n",
       "      www.philosophicalhacker.com           Axes(0.125,0.1;0.775x0.8)\n",
       "      www.polidea.com                       Axes(0.125,0.1;0.775x0.8)\n",
       "      www.reddit.com                        Axes(0.125,0.1;0.775x0.8)\n",
       "      www.schibsted.pl                      Axes(0.125,0.1;0.775x0.8)\n",
       "      www.slideshare.net                    Axes(0.125,0.1;0.775x0.8)\n",
       "      www.thedroidsonroids.com              Axes(0.125,0.1;0.775x0.8)\n",
       "      www.tinmegali.com                     Axes(0.125,0.1;0.775x0.8)\n",
       "      www.zdominguez.com                    Axes(0.125,0.1;0.775x0.8)\n",
       "dtype: object"
      ]
     },
     "execution_count": 85,
     "metadata": {},
     "output_type": "execute_result"
    }
   ],
   "source": [
    "adf.groupby(['year', 'site']).plot(x='site', y='year')"
   ]
  },
  {
   "cell_type": "code",
   "execution_count": 66,
   "metadata": {
    "collapsed": false
   },
   "outputs": [
    {
     "data": {
      "text/html": [
       "<div>\n",
       "<table border=\"1\" class=\"dataframe\">\n",
       "  <thead>\n",
       "    <tr style=\"text-align: right;\">\n",
       "      <th></th>\n",
       "      <th>description</th>\n",
       "      <th>title</th>\n",
       "      <th>section</th>\n",
       "      <th>issue_num</th>\n",
       "      <th>link</th>\n",
       "      <th>year</th>\n",
       "    </tr>\n",
       "    <tr>\n",
       "      <th>site</th>\n",
       "      <th></th>\n",
       "      <th></th>\n",
       "      <th></th>\n",
       "      <th></th>\n",
       "      <th></th>\n",
       "      <th></th>\n",
       "    </tr>\n",
       "  </thead>\n",
       "  <tbody>\n",
       "    <tr>\n",
       "      <th>medium.com</th>\n",
       "      <td>176</td>\n",
       "      <td>176</td>\n",
       "      <td>176</td>\n",
       "      <td>176</td>\n",
       "      <td>176</td>\n",
       "      <td>176</td>\n",
       "    </tr>\n",
       "    <tr>\n",
       "      <th>blog.stylingandroid.com</th>\n",
       "      <td>156</td>\n",
       "      <td>164</td>\n",
       "      <td>164</td>\n",
       "      <td>164</td>\n",
       "      <td>164</td>\n",
       "      <td>164</td>\n",
       "    </tr>\n",
       "    <tr>\n",
       "      <th>plus.google.com</th>\n",
       "      <td>90</td>\n",
       "      <td>90</td>\n",
       "      <td>90</td>\n",
       "      <td>90</td>\n",
       "      <td>90</td>\n",
       "      <td>90</td>\n",
       "    </tr>\n",
       "    <tr>\n",
       "      <th>android-developers.blogspot.com</th>\n",
       "      <td>65</td>\n",
       "      <td>65</td>\n",
       "      <td>65</td>\n",
       "      <td>65</td>\n",
       "      <td>65</td>\n",
       "      <td>65</td>\n",
       "    </tr>\n",
       "    <tr>\n",
       "      <th>speakerdeck.com</th>\n",
       "      <td>29</td>\n",
       "      <td>29</td>\n",
       "      <td>29</td>\n",
       "      <td>29</td>\n",
       "      <td>29</td>\n",
       "      <td>29</td>\n",
       "    </tr>\n",
       "  </tbody>\n",
       "</table>\n",
       "</div>"
      ],
      "text/plain": [
       "                                 description  title  section  issue_num  link  \\\n",
       "site                                                                            \n",
       "medium.com                               176    176      176        176   176   \n",
       "blog.stylingandroid.com                  156    164      164        164   164   \n",
       "plus.google.com                           90     90       90         90    90   \n",
       "android-developers.blogspot.com           65     65       65         65    65   \n",
       "speakerdeck.com                           29     29       29         29    29   \n",
       "\n",
       "                                 year  \n",
       "site                                   \n",
       "medium.com                        176  \n",
       "blog.stylingandroid.com           164  \n",
       "plus.google.com                    90  \n",
       "android-developers.blogspot.com    65  \n",
       "speakerdeck.com                    29  "
      ]
     },
     "execution_count": 66,
     "metadata": {},
     "output_type": "execute_result"
    }
   ],
   "source": [
    "top_blogs = adf.groupby('site').count().sort_values(by='issue_num', ascending=False)[:35]\n",
    "top_blogs.head()"
   ]
  },
  {
   "cell_type": "code",
   "execution_count": 47,
   "metadata": {
    "collapsed": false
   },
   "outputs": [
    {
     "ename": "ValueError",
     "evalue": "could not convert string to float: zserge.com",
     "output_type": "error",
     "traceback": [
      "\u001b[0;31m---------------------------------------------------------------------------\u001b[0m",
      "\u001b[0;31mValueError\u001b[0m                                Traceback (most recent call last)",
      "\u001b[0;32m<ipython-input-47-8037930f7572>\u001b[0m in \u001b[0;36m<module>\u001b[0;34m()\u001b[0m\n\u001b[0;32m----> 1\u001b[0;31m \u001b[0mplt\u001b[0m\u001b[0;34m.\u001b[0m\u001b[0mplot\u001b[0m\u001b[0;34m(\u001b[0m\u001b[0madf\u001b[0m\u001b[0;34m.\u001b[0m\u001b[0mgroupby\u001b[0m\u001b[0;34m(\u001b[0m\u001b[0;34m[\u001b[0m\u001b[0;34m'site'\u001b[0m\u001b[0;34m]\u001b[0m\u001b[0;34m)\u001b[0m\u001b[0;34m.\u001b[0m\u001b[0mcount\u001b[0m\u001b[0;34m(\u001b[0m\u001b[0;34m)\u001b[0m\u001b[0;34m)\u001b[0m\u001b[0;34m\u001b[0m\u001b[0m\n\u001b[0m",
      "\u001b[0;32m/Library/Frameworks/Python.framework/Versions/2.7/lib/python2.7/site-packages/matplotlib/pyplot.pyc\u001b[0m in \u001b[0;36mplot\u001b[0;34m(*args, **kwargs)\u001b[0m\n\u001b[1;32m   3152\u001b[0m         \u001b[0max\u001b[0m\u001b[0;34m.\u001b[0m\u001b[0mhold\u001b[0m\u001b[0;34m(\u001b[0m\u001b[0mhold\u001b[0m\u001b[0;34m)\u001b[0m\u001b[0;34m\u001b[0m\u001b[0m\n\u001b[1;32m   3153\u001b[0m     \u001b[0;32mtry\u001b[0m\u001b[0;34m:\u001b[0m\u001b[0;34m\u001b[0m\u001b[0m\n\u001b[0;32m-> 3154\u001b[0;31m         \u001b[0mret\u001b[0m \u001b[0;34m=\u001b[0m \u001b[0max\u001b[0m\u001b[0;34m.\u001b[0m\u001b[0mplot\u001b[0m\u001b[0;34m(\u001b[0m\u001b[0;34m*\u001b[0m\u001b[0margs\u001b[0m\u001b[0;34m,\u001b[0m \u001b[0;34m**\u001b[0m\u001b[0mkwargs\u001b[0m\u001b[0;34m)\u001b[0m\u001b[0;34m\u001b[0m\u001b[0m\n\u001b[0m\u001b[1;32m   3155\u001b[0m     \u001b[0;32mfinally\u001b[0m\u001b[0;34m:\u001b[0m\u001b[0;34m\u001b[0m\u001b[0m\n\u001b[1;32m   3156\u001b[0m         \u001b[0max\u001b[0m\u001b[0;34m.\u001b[0m\u001b[0mhold\u001b[0m\u001b[0;34m(\u001b[0m\u001b[0mwashold\u001b[0m\u001b[0;34m)\u001b[0m\u001b[0;34m\u001b[0m\u001b[0m\n",
      "\u001b[0;32m/Library/Frameworks/Python.framework/Versions/2.7/lib/python2.7/site-packages/matplotlib/__init__.pyc\u001b[0m in \u001b[0;36minner\u001b[0;34m(ax, *args, **kwargs)\u001b[0m\n\u001b[1;32m   1810\u001b[0m                     warnings.warn(msg % (label_namer, func.__name__),\n\u001b[1;32m   1811\u001b[0m                                   RuntimeWarning, stacklevel=2)\n\u001b[0;32m-> 1812\u001b[0;31m             \u001b[0;32mreturn\u001b[0m \u001b[0mfunc\u001b[0m\u001b[0;34m(\u001b[0m\u001b[0max\u001b[0m\u001b[0;34m,\u001b[0m \u001b[0;34m*\u001b[0m\u001b[0margs\u001b[0m\u001b[0;34m,\u001b[0m \u001b[0;34m**\u001b[0m\u001b[0mkwargs\u001b[0m\u001b[0;34m)\u001b[0m\u001b[0;34m\u001b[0m\u001b[0m\n\u001b[0m\u001b[1;32m   1813\u001b[0m         \u001b[0mpre_doc\u001b[0m \u001b[0;34m=\u001b[0m \u001b[0minner\u001b[0m\u001b[0;34m.\u001b[0m\u001b[0m__doc__\u001b[0m\u001b[0;34m\u001b[0m\u001b[0m\n\u001b[1;32m   1814\u001b[0m         \u001b[0;32mif\u001b[0m \u001b[0mpre_doc\u001b[0m \u001b[0;32mis\u001b[0m \u001b[0mNone\u001b[0m\u001b[0;34m:\u001b[0m\u001b[0;34m\u001b[0m\u001b[0m\n",
      "\u001b[0;32m/Library/Frameworks/Python.framework/Versions/2.7/lib/python2.7/site-packages/matplotlib/axes/_axes.pyc\u001b[0m in \u001b[0;36mplot\u001b[0;34m(self, *args, **kwargs)\u001b[0m\n\u001b[1;32m   1423\u001b[0m \u001b[0;34m\u001b[0m\u001b[0m\n\u001b[1;32m   1424\u001b[0m         \u001b[0;32mfor\u001b[0m \u001b[0mline\u001b[0m \u001b[0;32min\u001b[0m \u001b[0mself\u001b[0m\u001b[0;34m.\u001b[0m\u001b[0m_get_lines\u001b[0m\u001b[0;34m(\u001b[0m\u001b[0;34m*\u001b[0m\u001b[0margs\u001b[0m\u001b[0;34m,\u001b[0m \u001b[0;34m**\u001b[0m\u001b[0mkwargs\u001b[0m\u001b[0;34m)\u001b[0m\u001b[0;34m:\u001b[0m\u001b[0;34m\u001b[0m\u001b[0m\n\u001b[0;32m-> 1425\u001b[0;31m             \u001b[0mself\u001b[0m\u001b[0;34m.\u001b[0m\u001b[0madd_line\u001b[0m\u001b[0;34m(\u001b[0m\u001b[0mline\u001b[0m\u001b[0;34m)\u001b[0m\u001b[0;34m\u001b[0m\u001b[0m\n\u001b[0m\u001b[1;32m   1426\u001b[0m             \u001b[0mlines\u001b[0m\u001b[0;34m.\u001b[0m\u001b[0mappend\u001b[0m\u001b[0;34m(\u001b[0m\u001b[0mline\u001b[0m\u001b[0;34m)\u001b[0m\u001b[0;34m\u001b[0m\u001b[0m\n\u001b[1;32m   1427\u001b[0m \u001b[0;34m\u001b[0m\u001b[0m\n",
      "\u001b[0;32m/Library/Frameworks/Python.framework/Versions/2.7/lib/python2.7/site-packages/matplotlib/axes/_base.pyc\u001b[0m in \u001b[0;36madd_line\u001b[0;34m(self, line)\u001b[0m\n\u001b[1;32m   1706\u001b[0m             \u001b[0mline\u001b[0m\u001b[0;34m.\u001b[0m\u001b[0mset_clip_path\u001b[0m\u001b[0;34m(\u001b[0m\u001b[0mself\u001b[0m\u001b[0;34m.\u001b[0m\u001b[0mpatch\u001b[0m\u001b[0;34m)\u001b[0m\u001b[0;34m\u001b[0m\u001b[0m\n\u001b[1;32m   1707\u001b[0m \u001b[0;34m\u001b[0m\u001b[0m\n\u001b[0;32m-> 1708\u001b[0;31m         \u001b[0mself\u001b[0m\u001b[0;34m.\u001b[0m\u001b[0m_update_line_limits\u001b[0m\u001b[0;34m(\u001b[0m\u001b[0mline\u001b[0m\u001b[0;34m)\u001b[0m\u001b[0;34m\u001b[0m\u001b[0m\n\u001b[0m\u001b[1;32m   1709\u001b[0m         \u001b[0;32mif\u001b[0m \u001b[0;32mnot\u001b[0m \u001b[0mline\u001b[0m\u001b[0;34m.\u001b[0m\u001b[0mget_label\u001b[0m\u001b[0;34m(\u001b[0m\u001b[0;34m)\u001b[0m\u001b[0;34m:\u001b[0m\u001b[0;34m\u001b[0m\u001b[0m\n\u001b[1;32m   1710\u001b[0m             \u001b[0mline\u001b[0m\u001b[0;34m.\u001b[0m\u001b[0mset_label\u001b[0m\u001b[0;34m(\u001b[0m\u001b[0;34m'_line%d'\u001b[0m \u001b[0;34m%\u001b[0m \u001b[0mlen\u001b[0m\u001b[0;34m(\u001b[0m\u001b[0mself\u001b[0m\u001b[0;34m.\u001b[0m\u001b[0mlines\u001b[0m\u001b[0;34m)\u001b[0m\u001b[0;34m)\u001b[0m\u001b[0;34m\u001b[0m\u001b[0m\n",
      "\u001b[0;32m/Library/Frameworks/Python.framework/Versions/2.7/lib/python2.7/site-packages/matplotlib/axes/_base.pyc\u001b[0m in \u001b[0;36m_update_line_limits\u001b[0;34m(self, line)\u001b[0m\n\u001b[1;32m   1728\u001b[0m         \u001b[0mFigures\u001b[0m \u001b[0mout\u001b[0m \u001b[0mthe\u001b[0m \u001b[0mdata\u001b[0m \u001b[0mlimit\u001b[0m \u001b[0mof\u001b[0m \u001b[0mthe\u001b[0m \u001b[0mgiven\u001b[0m \u001b[0mline\u001b[0m\u001b[0;34m,\u001b[0m \u001b[0mupdating\u001b[0m \u001b[0mself\u001b[0m\u001b[0;34m.\u001b[0m\u001b[0mdataLim\u001b[0m\u001b[0;34m.\u001b[0m\u001b[0;34m\u001b[0m\u001b[0m\n\u001b[1;32m   1729\u001b[0m         \"\"\"\n\u001b[0;32m-> 1730\u001b[0;31m         \u001b[0mpath\u001b[0m \u001b[0;34m=\u001b[0m \u001b[0mline\u001b[0m\u001b[0;34m.\u001b[0m\u001b[0mget_path\u001b[0m\u001b[0;34m(\u001b[0m\u001b[0;34m)\u001b[0m\u001b[0;34m\u001b[0m\u001b[0m\n\u001b[0m\u001b[1;32m   1731\u001b[0m         \u001b[0;32mif\u001b[0m \u001b[0mpath\u001b[0m\u001b[0;34m.\u001b[0m\u001b[0mvertices\u001b[0m\u001b[0;34m.\u001b[0m\u001b[0msize\u001b[0m \u001b[0;34m==\u001b[0m \u001b[0;36m0\u001b[0m\u001b[0;34m:\u001b[0m\u001b[0;34m\u001b[0m\u001b[0m\n\u001b[1;32m   1732\u001b[0m             \u001b[0;32mreturn\u001b[0m\u001b[0;34m\u001b[0m\u001b[0m\n",
      "\u001b[0;32m/Library/Frameworks/Python.framework/Versions/2.7/lib/python2.7/site-packages/matplotlib/lines.pyc\u001b[0m in \u001b[0;36mget_path\u001b[0;34m(self)\u001b[0m\n\u001b[1;32m    923\u001b[0m         \"\"\"\n\u001b[1;32m    924\u001b[0m         \u001b[0;32mif\u001b[0m \u001b[0mself\u001b[0m\u001b[0;34m.\u001b[0m\u001b[0m_invalidy\u001b[0m \u001b[0;32mor\u001b[0m \u001b[0mself\u001b[0m\u001b[0;34m.\u001b[0m\u001b[0m_invalidx\u001b[0m\u001b[0;34m:\u001b[0m\u001b[0;34m\u001b[0m\u001b[0m\n\u001b[0;32m--> 925\u001b[0;31m             \u001b[0mself\u001b[0m\u001b[0;34m.\u001b[0m\u001b[0mrecache\u001b[0m\u001b[0;34m(\u001b[0m\u001b[0;34m)\u001b[0m\u001b[0;34m\u001b[0m\u001b[0m\n\u001b[0m\u001b[1;32m    926\u001b[0m         \u001b[0;32mreturn\u001b[0m \u001b[0mself\u001b[0m\u001b[0;34m.\u001b[0m\u001b[0m_path\u001b[0m\u001b[0;34m\u001b[0m\u001b[0m\n\u001b[1;32m    927\u001b[0m \u001b[0;34m\u001b[0m\u001b[0m\n",
      "\u001b[0;32m/Library/Frameworks/Python.framework/Versions/2.7/lib/python2.7/site-packages/matplotlib/lines.pyc\u001b[0m in \u001b[0;36mrecache\u001b[0;34m(self, always)\u001b[0m\n\u001b[1;32m    610\u001b[0m                 \u001b[0mx\u001b[0m \u001b[0;34m=\u001b[0m \u001b[0mma\u001b[0m\u001b[0;34m.\u001b[0m\u001b[0masarray\u001b[0m\u001b[0;34m(\u001b[0m\u001b[0mxconv\u001b[0m\u001b[0;34m,\u001b[0m \u001b[0mnp\u001b[0m\u001b[0;34m.\u001b[0m\u001b[0mfloat_\u001b[0m\u001b[0;34m)\u001b[0m\u001b[0;34m.\u001b[0m\u001b[0mfilled\u001b[0m\u001b[0;34m(\u001b[0m\u001b[0mnp\u001b[0m\u001b[0;34m.\u001b[0m\u001b[0mnan\u001b[0m\u001b[0;34m)\u001b[0m\u001b[0;34m\u001b[0m\u001b[0m\n\u001b[1;32m    611\u001b[0m             \u001b[0;32melse\u001b[0m\u001b[0;34m:\u001b[0m\u001b[0;34m\u001b[0m\u001b[0m\n\u001b[0;32m--> 612\u001b[0;31m                 \u001b[0mx\u001b[0m \u001b[0;34m=\u001b[0m \u001b[0mnp\u001b[0m\u001b[0;34m.\u001b[0m\u001b[0masarray\u001b[0m\u001b[0;34m(\u001b[0m\u001b[0mxconv\u001b[0m\u001b[0;34m,\u001b[0m \u001b[0mnp\u001b[0m\u001b[0;34m.\u001b[0m\u001b[0mfloat_\u001b[0m\u001b[0;34m)\u001b[0m\u001b[0;34m\u001b[0m\u001b[0m\n\u001b[0m\u001b[1;32m    613\u001b[0m             \u001b[0mx\u001b[0m \u001b[0;34m=\u001b[0m \u001b[0mx\u001b[0m\u001b[0;34m.\u001b[0m\u001b[0mravel\u001b[0m\u001b[0;34m(\u001b[0m\u001b[0;34m)\u001b[0m\u001b[0;34m\u001b[0m\u001b[0m\n\u001b[1;32m    614\u001b[0m         \u001b[0;32melse\u001b[0m\u001b[0;34m:\u001b[0m\u001b[0;34m\u001b[0m\u001b[0m\n",
      "\u001b[0;32m/Library/Frameworks/Python.framework/Versions/2.7/lib/python2.7/site-packages/numpy/core/numeric.pyc\u001b[0m in \u001b[0;36masarray\u001b[0;34m(a, dtype, order)\u001b[0m\n\u001b[1;32m    480\u001b[0m \u001b[0;34m\u001b[0m\u001b[0m\n\u001b[1;32m    481\u001b[0m     \"\"\"\n\u001b[0;32m--> 482\u001b[0;31m     \u001b[0;32mreturn\u001b[0m \u001b[0marray\u001b[0m\u001b[0;34m(\u001b[0m\u001b[0ma\u001b[0m\u001b[0;34m,\u001b[0m \u001b[0mdtype\u001b[0m\u001b[0;34m,\u001b[0m \u001b[0mcopy\u001b[0m\u001b[0;34m=\u001b[0m\u001b[0mFalse\u001b[0m\u001b[0;34m,\u001b[0m \u001b[0morder\u001b[0m\u001b[0;34m=\u001b[0m\u001b[0morder\u001b[0m\u001b[0;34m)\u001b[0m\u001b[0;34m\u001b[0m\u001b[0m\n\u001b[0m\u001b[1;32m    483\u001b[0m \u001b[0;34m\u001b[0m\u001b[0m\n\u001b[1;32m    484\u001b[0m \u001b[0;32mdef\u001b[0m \u001b[0masanyarray\u001b[0m\u001b[0;34m(\u001b[0m\u001b[0ma\u001b[0m\u001b[0;34m,\u001b[0m \u001b[0mdtype\u001b[0m\u001b[0;34m=\u001b[0m\u001b[0mNone\u001b[0m\u001b[0;34m,\u001b[0m \u001b[0morder\u001b[0m\u001b[0;34m=\u001b[0m\u001b[0mNone\u001b[0m\u001b[0;34m)\u001b[0m\u001b[0;34m:\u001b[0m\u001b[0;34m\u001b[0m\u001b[0m\n",
      "\u001b[0;31mValueError\u001b[0m: could not convert string to float: zserge.com"
     ]
    }
   ],
   "source": [
    "plt.plot(adf.groupby(['year', 'site']).count())"
   ]
  },
  {
   "cell_type": "code",
   "execution_count": null,
   "metadata": {
    "collapsed": true
   },
   "outputs": [],
   "source": []
  },
  {
   "cell_type": "markdown",
   "metadata": {},
   "source": [
    "## Who are the most prolific bloggers? Have they changed over time?"
   ]
  },
  {
   "cell_type": "code",
   "execution_count": 158,
   "metadata": {
    "collapsed": false
   },
   "outputs": [],
   "source": [
    "mask_authors = (adf.site == 'medium.com') | (adf.site == 'plus.google.com') | (adf.site == 'speakerdeck.com')"
   ]
  },
  {
   "cell_type": "code",
   "execution_count": 159,
   "metadata": {
    "collapsed": false
   },
   "outputs": [],
   "source": [
    "adf.loc[mask_authors,('author')] = adf.link.str.split('/').str.get(3).str.replace('@','').str.replace('+','')"
   ]
  },
  {
   "cell_type": "code",
   "execution_count": 160,
   "metadata": {
    "collapsed": false
   },
   "outputs": [
    {
     "data": {
      "text/plain": [
       "160"
      ]
     },
     "execution_count": 160,
     "metadata": {},
     "output_type": "execute_result"
    }
   ],
   "source": [
    "adf.groupby('author').count().sort_values(by='issue_num', ascending=False).issue_num.count()"
   ]
  },
  {
   "cell_type": "code",
   "execution_count": 169,
   "metadata": {
    "collapsed": false
   },
   "outputs": [
    {
     "data": {
      "text/plain": [
       "87      https://speakerdeck.com/pareshmayani/lazy-andr...\n",
       "193     https://speakerdeck.com/stephanenicolas/blende...\n",
       "340     https://speakerdeck.com/malmstein/streaming-th...\n",
       "472     https://speakerdeck.com/cyrilmottier/deep-dive...\n",
       "474     https://speakerdeck.com/mathieu_calba/the-deat...\n",
       "498     https://speakerdeck.com/taylorling/ingredients...\n",
       "538     https://speakerdeck.com/mttkay/reactive-soundc...\n",
       "565     https://speakerdeck.com/abdyer/babbq5-automate...\n",
       "607     https://speakerdeck.com/dorvaryn/rxfy-all-the-...\n",
       "1120    https://speakerdeck.com/guardiola31337/elegant...\n",
       "1165    https://speakerdeck.com/hugovisser/connecting-...\n",
       "1508    https://speakerdeck.com/rock3r/tools-of-the-tr...\n",
       "1509    https://speakerdeck.com/udinic/speed-up-your-a...\n",
       "1510    https://speakerdeck.com/randomlytyping/android...\n",
       "1513    https://speakerdeck.com/jakewharton/simple-htt...\n",
       "1514    https://speakerdeck.com/devunwired/mastering-r...\n",
       "1516    https://speakerdeck.com/jacobtabak/data-bindin...\n",
       "1523    https://speakerdeck.com/dlew/using-styles-and-...\n",
       "1548    https://speakerdeck.com/asfalcone/android-deve...\n",
       "1675    https://speakerdeck.com/rallat/android-develop...\n",
       "1798          https://speakerdeck.com/passsy/get-reactive\n",
       "2307    https://speakerdeck.com/nhachicha/droidcon-sf-...\n",
       "2310    https://speakerdeck.com/rallat/androiddevlikea...\n",
       "2311    https://speakerdeck.com/dlew/common-rxjava-mis...\n",
       "2414     https://speakerdeck.com/dextor/to-65k-and-beyond\n",
       "2706    https://speakerdeck.com/jeroenmols/testing-mad...\n",
       "3641    https://speakerdeck.com/cyrilmottier/getting-a...\n",
       "3655    https://speakerdeck.com/jakewharton/android-ap...\n",
       "3656    https://speakerdeck.com/dlew/i-can-animate-and...\n",
       "Name: link, dtype: object"
      ]
     },
     "execution_count": 169,
     "metadata": {},
     "output_type": "execute_result"
    }
   ],
   "source": [
    "adf[adf.site == 'speakerdeck.com'].link"
   ]
  },
  {
   "cell_type": "code",
   "execution_count": 161,
   "metadata": {
    "collapsed": false
   },
   "outputs": [
    {
     "data": {
      "text/plain": [
       "author\n",
       "AndroidDevelopers           23\n",
       "google-developers           22\n",
       "ribot-labs                   9\n",
       "sebs-top-tips                8\n",
       "hitherejoe                   6\n",
       "google-developer-experts     5\n",
       "duhroach                     4\n",
       "shelajev                     4\n",
       "sergii                       4\n",
       "dlew                         3\n",
       "rotxed                       3\n",
       "KirillGrouchnikov            3\n",
       "_tiwiz                       3\n",
       "RomanNurik                   3\n",
       "CodingDoug                   3\n",
       "bherbst                      3\n",
       "building-for-android-tv      3\n",
       "crunching-rxandroid          3\n",
       "juanchosaravia               3\n",
       "CyrilMottier                 3\n",
       "Name: issue_num, dtype: int64"
      ]
     },
     "execution_count": 161,
     "metadata": {},
     "output_type": "execute_result"
    }
   ],
   "source": [
    "adf.groupby('author').count().sort_values(by='issue_num', ascending=False).issue_num[:20]"
   ]
  },
  {
   "cell_type": "code",
   "execution_count": 162,
   "metadata": {
    "collapsed": true
   },
   "outputs": [],
   "source": [
    "adf.loc[mask, ('site_with_author')] = adf.site + '/' + adf.author\n",
    "adf.loc[~mask, ('site_with_author')] = adf.site"
   ]
  },
  {
   "cell_type": "code",
   "execution_count": 163,
   "metadata": {
    "collapsed": false
   },
   "outputs": [
    {
     "data": {
      "text/plain": [
       "'http://www.bignerdranch.com/blog/implementing-swipe-to-refresh/'"
      ]
     },
     "execution_count": 163,
     "metadata": {},
     "output_type": "execute_result"
    }
   ],
   "source": [
    "adf[adf.site == 'www.bignerdranch.com'].iloc[3].link"
   ]
  },
  {
   "cell_type": "code",
   "execution_count": 164,
   "metadata": {
    "collapsed": false
   },
   "outputs": [
    {
     "data": {
      "text/plain": [
       "site_with_author\n",
       "blog.stylingandroid.com              164\n",
       "android-developers.blogspot.com       65\n",
       "blog.danlew.net                       24\n",
       "plus.google.com/AndroidDevelopers     23\n",
       "www.bignerdranch.com                  23\n",
       "medium.com/google-developers          22\n",
       "antonioleiva.com                      22\n",
       "code.tutsplus.com                     17\n",
       "hannesdorfmann.com                    15\n",
       "frogermcs.github.io                   13\n",
       "Name: issue_num, dtype: int64"
      ]
     },
     "execution_count": 164,
     "metadata": {},
     "output_type": "execute_result"
    }
   ],
   "source": [
    "adf.groupby('site_with_author').count().sort_values(by='issue_num', ascending=False).issue_num[:10]"
   ]
  },
  {
   "cell_type": "code",
   "execution_count": 165,
   "metadata": {
    "collapsed": false
   },
   "outputs": [
    {
     "data": {
      "text/plain": [
       "site_with_author\n",
       "blog.stylingandroid.com            22\n",
       "medium.com/google-developers       14\n",
       "android-developers.blogspot.com     9\n",
       "blog.nimbledroid.com                8\n",
       "hannesdorfmann.com                  7\n",
       "riggaroo.co.za                      7\n",
       "code.tutsplus.com                   6\n",
       "www.bignerdranch.com                5\n",
       "www.novoda.com                      5\n",
       "medium.com/sebs-top-tips            5\n",
       "tomstechnicalblog.blogspot.com      5\n",
       "realm.io                            5\n",
       "commonsware.com                     4\n",
       "medium.com/duhroach                 4\n",
       "medium.com/sergii                   4\n",
       "wiresareobsolete.com                4\n",
       "www.philosophicalhacker.com         4\n",
       "medium.com/CodingDoug               3\n",
       "medium.com/juanchosaravia           3\n",
       "jeroenmols.com                      3\n",
       "Name: issue_num, dtype: int64"
      ]
     },
     "execution_count": 165,
     "metadata": {},
     "output_type": "execute_result"
    }
   ],
   "source": [
    "adf[adf.year == 2016].groupby('site_with_author').count().sort_values(by='issue_num', ascending=False).issue_num[:20]"
   ]
  },
  {
   "cell_type": "code",
   "execution_count": 166,
   "metadata": {
    "collapsed": false
   },
   "outputs": [
    {
     "data": {
      "text/plain": [
       "site_or_author\n",
       "blog.stylingandroid.com            50\n",
       "android-developers.blogspot.com    19\n",
       "AndroidDevelopers                  14\n",
       "www.bignerdranch.com               13\n",
       "speakerdeck.com                    12\n",
       "antonioleiva.com                   12\n",
       "blog.danlew.net                    12\n",
       "code.tutsplus.com                  11\n",
       "frogermcs.github.io                10\n",
       "ribot-labs                          9\n",
       "Name: issue_num, dtype: int64"
      ]
     },
     "execution_count": 166,
     "metadata": {},
     "output_type": "execute_result"
    }
   ],
   "source": [
    "adf[adf.year == 2015].groupby('site_or_author').count().sort_values(by='issue_num', ascending=False).issue_num[:10]"
   ]
  },
  {
   "cell_type": "code",
   "execution_count": 129,
   "metadata": {
    "collapsed": false
   },
   "outputs": [
    {
     "data": {
      "text/plain": [
       "site_or_author\n",
       "blog.stylingandroid.com            41\n",
       "android-developers.blogspot.com    21\n",
       "ptrprograms.blogspot.com           11\n",
       "blog.danlew.net                    10\n",
       "speakerdeck.com                     9\n",
       "AndroidDevelopers                   7\n",
       "antonioleiva.com                    6\n",
       "www.slideshare.net                  5\n",
       "ryanharter.com                      5\n",
       "corner.squareup.com                 5\n",
       "Name: issue_num, dtype: int64"
      ]
     },
     "execution_count": 129,
     "metadata": {},
     "output_type": "execute_result"
    }
   ],
   "source": [
    "adf[adf.year == 2014].groupby('site_or_author').count().sort_values(by='issue_num', ascending=False).issue_num[:10]"
   ]
  },
  {
   "cell_type": "code",
   "execution_count": 130,
   "metadata": {
    "collapsed": false
   },
   "outputs": [
    {
     "data": {
      "text/plain": [
       "site_or_author\n",
       "blog.stylingandroid.com            29\n",
       "android-developers.blogspot.com     8\n",
       "www.doubleencore.com                7\n",
       "gmariotti.blogspot.de               4\n",
       "android-developers.blogspot.de      4\n",
       "udinic.wordpress.com                4\n",
       "www.kpbird.com                      4\n",
       "www.developerphil.com               3\n",
       "www.androiddesignpatterns.com       3\n",
       "developer.android.com               3\n",
       "Name: issue_num, dtype: int64"
      ]
     },
     "execution_count": 130,
     "metadata": {},
     "output_type": "execute_result"
    }
   ],
   "source": [
    "adf[adf.year == 2013].groupby('site_or_author').count().sort_values(by='issue_num', ascending=False).issue_num[:10]"
   ]
  },
  {
   "cell_type": "code",
   "execution_count": 131,
   "metadata": {
    "collapsed": false
   },
   "outputs": [
    {
     "data": {
      "text/plain": [
       "site_or_author\n",
       "blog.stylingandroid.com            22\n",
       "vogella.de                          8\n",
       "android-developers.blogspot.com     8\n",
       "chrisrisner.com                     7\n",
       "grokkingandroid.com                 5\n",
       "developer.android.com               4\n",
       "androiduipatterns.com               3\n",
       "vogella.com                         3\n",
       "mobile.tutsplus.com                 3\n",
       "curious-creature.org                3\n",
       "Name: issue_num, dtype: int64"
      ]
     },
     "execution_count": 131,
     "metadata": {},
     "output_type": "execute_result"
    }
   ],
   "source": [
    "adf[adf.year < 2013].groupby('site_or_author').count().sort_values(by='issue_num', ascending=False).issue_num[:10]"
   ]
  },
  {
   "cell_type": "code",
   "execution_count": null,
   "metadata": {
    "collapsed": true
   },
   "outputs": [],
   "source": []
  },
  {
   "cell_type": "code",
   "execution_count": null,
   "metadata": {
    "collapsed": true
   },
   "outputs": [],
   "source": []
  }
 ],
 "metadata": {
  "kernelspec": {
   "display_name": "Python 2",
   "language": "python",
   "name": "python2"
  },
  "language_info": {
   "codemirror_mode": {
    "name": "ipython",
    "version": 2
   },
   "file_extension": ".py",
   "mimetype": "text/x-python",
   "name": "python",
   "nbconvert_exporter": "python",
   "pygments_lexer": "ipython2",
   "version": "2.7.11"
  }
 },
 "nbformat": 4,
 "nbformat_minor": 0
}
