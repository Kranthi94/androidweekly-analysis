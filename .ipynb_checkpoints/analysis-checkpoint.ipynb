{
 "cells": [
  {
   "cell_type": "code",
   "execution_count": 1,
   "metadata": {
    "collapsed": false
   },
   "outputs": [],
   "source": [
    "from bs4 import BeautifulSoup\n",
    "import urllib2\n",
    "import csv\n",
    "\n",
    "BASE_URL = \"http://androidweekly.net/issues/issue-{}\""
   ]
  },
  {
   "cell_type": "code",
   "execution_count": 2,
   "metadata": {
    "collapsed": false
   },
   "outputs": [],
   "source": [
    "def contentForIssue(num):\n",
    "    url = BASE_URL.format(num)\n",
    "    print url\n",
    "    request = urllib2.Request(url)\n",
    "    request.add_header('Accept-Encoding', 'utf-8')\n",
    "    response = urllib2.urlopen(url)\n",
    "    soup = BeautifulSoup(response.read().decode('utf-8'), 'lxml')\n",
    "    content = soup.find('div', { 'class':'issue' })\n",
    "    return content"
   ]
  },
  {
   "cell_type": "code",
   "execution_count": 72,
   "metadata": {
    "collapsed": false
   },
   "outputs": [],
   "source": [
    "def dataForIssue(content, issue_num):\n",
    "    sections = content.find_all('td')\n",
    "    last_section_header = \"\"\n",
    "    data = []\n",
    "    section_count = 0\n",
    "    for section in sections:\n",
    "        if section.h2 or section.h3:\n",
    "            section_count += 1\n",
    "            if section.h2:\n",
    "                last_section_header = section.h2.text\n",
    "            else:\n",
    "                last_section_header = section.h3.text\n",
    "        if section.a and section.a.string:\n",
    "            item = {}\n",
    "            item['issue_num'] = issue_num\n",
    "            item['section'] = last_section_header.encode(\"utf-8\")\n",
    "            item['title'] = section.a.text.encode(\"utf-8\").replace('\\n','')\n",
    "            item['link'] = section.a.get('href').encode(\"utf-8\")\n",
    "            item['site'] = section.span.text.replace('(','').replace(')', '').replace('\\n','').encode(\"utf-8\")\n",
    "            item['description'] = section.p.text.replace('\\n','').encode(\"utf-8\")\n",
    "            data.append(item)\n",
    "    print 'Found %d items in %s sections' % (len(data), section_count)\n",
    "    return data"
   ]
  },
  {
   "cell_type": "code",
   "execution_count": 137,
   "metadata": {
    "collapsed": true
   },
   "outputs": [],
   "source": [
    "def dataForIssueBefore103(content, issue_num):\n",
    "    sections = content.find_all(['h2', 'div', 'p'])\n",
    "    last_section_header = \"\"\n",
    "    data = []\n",
    "    section_count = 0\n",
    "    for section in sections:\n",
    "        if section.name == 'h2':\n",
    "            section_count += 1\n",
    "            last_section_header = section.text\n",
    "        elif section.name == 'div' and len(section.find_all('a')) > 1:\n",
    "            links = section.find_all('a');\n",
    "            item = {}\n",
    "            item['issue_num'] = issue_num\n",
    "            item['section'] = last_section_header.encode(\"utf-8\")\n",
    "            item['title'] = links[1].string.encode(\"utf-8\").replace('\\n','')\n",
    "            item['link'] = links[1].get('href').encode(\"utf-8\")\n",
    "            item['site'] = section.span.text.replace('(','').replace(')', '').replace('\\n','').encode(\"utf-8\")\n",
    "            item['description'] = section.p.text.replace('\\n','').encode(\"utf-8\")\n",
    "            data.append(item)\n",
    "        elif section.name == 'p' and section.a and section.a.text:\n",
    "            item = {}\n",
    "            item['issue_num'] = issue_num\n",
    "            item['section'] = last_section_header.encode(\"utf-8\")\n",
    "            item['title'] = section.a.string.encode(\"utf-8\").replace('\\n','')\n",
    "            item['link'] = section.a.get('href').encode(\"utf-8\")\n",
    "            if section.span:\n",
    "                item['site'] = section.span.text.replace('(','').replace(')', '').replace('\\n','').encode(\"utf-8\")\n",
    "            else:\n",
    "                item['site'] = \"\"\n",
    "            if section.br and section.br.next_sibling:\n",
    "                item['description'] = section.br.next_sibling.replace('\\n','').encode(\"utf-8\")\n",
    "            else:\n",
    "                item['description'] = \"\"\n",
    "            data.append(item)\n",
    "    print 'Found %d items in %s sections' % (len(data), section_count)\n",
    "    return data"
   ]
  },
  {
   "cell_type": "code",
   "execution_count": 131,
   "metadata": {
    "collapsed": true
   },
   "outputs": [],
   "source": [
    "def dataForIssueBefore60(content, issue_num):\n",
    "    return dataForIssueBefore103(content.div, issue_num)"
   ]
  },
  {
   "cell_type": "code",
   "execution_count": 4,
   "metadata": {
    "collapsed": false
   },
   "outputs": [],
   "source": [
    "def writeData(data, fname):\n",
    "    with open(fname, 'wb') as f:\n",
    "        w = csv.DictWriter(f, data[0].keys())\n",
    "        w.writeheader()\n",
    "        for datum in data:\n",
    "            w.writerow(datum)"
   ]
  },
  {
   "cell_type": "code",
   "execution_count": 138,
   "metadata": {
    "collapsed": false
   },
   "outputs": [],
   "source": [
    "def getAllData(beginning, end):\n",
    "    for i in reversed(range(beginning, end)):\n",
    "        content = contentForIssue(i)\n",
    "        data = None\n",
    "        if (i < 60):\n",
    "            data = dataForIssueBefore60(content, i) \n",
    "        elif (i < 103):\n",
    "            data = dataForIssueBefore103(content, i) \n",
    "        else:\n",
    "            data = dataForIssue(content, i)\n",
    "        writeData(data, 'issue_{}.csv'.format(i))"
   ]
  },
  {
   "cell_type": "code",
   "execution_count": 139,
   "metadata": {
    "collapsed": false
   },
   "outputs": [
    {
     "name": "stdout",
     "output_type": "stream",
     "text": [
      "http://androidweekly.net/issues/issue-3\n",
      "Found 9 items in 5 sections\n",
      "http://androidweekly.net/issues/issue-2\n",
      "Found 9 items in 5 sections\n",
      "http://androidweekly.net/issues/issue-1\n",
      "Found 9 items in 5 sections\n"
     ]
    }
   ],
   "source": [
    "# 500 errors: 138, 108, 43\n",
    "# Skipped b/c unusual: 30\n",
    "getAllData(1, 4)"
   ]
  }
 ],
 "metadata": {
  "kernelspec": {
   "display_name": "Python 2",
   "language": "python",
   "name": "python2"
  },
  "language_info": {
   "codemirror_mode": {
    "name": "ipython",
    "version": 2
   },
   "file_extension": ".py",
   "mimetype": "text/x-python",
   "name": "python",
   "nbconvert_exporter": "python",
   "pygments_lexer": "ipython2",
   "version": "2.7.10"
  }
 },
 "nbformat": 4,
 "nbformat_minor": 0
}
