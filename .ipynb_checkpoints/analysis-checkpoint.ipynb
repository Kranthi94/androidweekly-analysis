{
 "cells": [
  {
   "cell_type": "code",
   "execution_count": 1,
   "metadata": {
    "collapsed": false
   },
   "outputs": [],
   "source": [
    "from bs4 import BeautifulSoup\n",
    "import urllib2\n",
    "import csv\n",
    "\n",
    "BASE_URL = \"http://androidweekly.net/issues/issue-{}\""
   ]
  },
  {
   "cell_type": "code",
   "execution_count": 2,
   "metadata": {
    "collapsed": false
   },
   "outputs": [],
   "source": [
    "def contentForIssue(num):\n",
    "    url = BASE_URL.format(num)\n",
    "    print url\n",
    "    request = urllib2.Request(url)\n",
    "    request.add_header('Accept-Encoding', 'utf-8')\n",
    "    response = urllib2.urlopen(url)\n",
    "    soup = BeautifulSoup(response.read().decode('utf-8'), 'lxml')\n",
    "    content = soup.find('div', { 'class':'issue' })\n",
    "    return content"
   ]
  },
  {
   "cell_type": "code",
   "execution_count": 16,
   "metadata": {
    "collapsed": false
   },
   "outputs": [],
   "source": [
    "def dataForIssue(content, issue_num):\n",
    "    sections = content.find_all('td')\n",
    "    last_section_header = \"\"\n",
    "    data = []\n",
    "    section_count = 0\n",
    "    for section in sections:\n",
    "        if section.h2:\n",
    "            section_count += 1\n",
    "            last_section_header = section.h2.string\n",
    "        if section.a and section.a.string:\n",
    "            item = {}\n",
    "            item['issue_num'] = issue_num\n",
    "            item['section'] = last_section_header.encode(\"utf-8\")\n",
    "            item['title'] = section.a.string.encode(\"utf-8\").replace('\\n','')\n",
    "            item['link'] = section.a.get('href').encode(\"utf-8\")\n",
    "            item['site'] = section.span.string.replace('(','').replace(')', '').replace('\\n','').encode(\"utf-8\")\n",
    "            item['description'] = section.p.string.replace('\\n','').encode(\"utf-8\")\n",
    "            data.append(item)\n",
    "    print 'Found %d items in %s sections' % (len(data), section_count)\n",
    "    return data"
   ]
  },
  {
   "cell_type": "code",
   "execution_count": 4,
   "metadata": {
    "collapsed": false
   },
   "outputs": [],
   "source": [
    "def writeData(data, fname):\n",
    "    with open(fname, 'wb') as f:\n",
    "        w = csv.DictWriter(f, data[0].keys())\n",
    "        w.writeheader()\n",
    "        for datum in data:\n",
    "            w.writerow(datum)"
   ]
  },
  {
   "cell_type": "code",
   "execution_count": 5,
   "metadata": {
    "collapsed": false
   },
   "outputs": [],
   "source": [
    "def getAllData(beginning, end):\n",
    "    allData = []\n",
    "    for i in reversed(range(beginning, end)):\n",
    "        content = contentForIssue(i)\n",
    "        data = dataForIssue(content, i)\n",
    "        allData += data\n",
    "        writeData(allData, 'issue_{}.csv'.format(i))\n",
    "    writeData(allData, 'all_data.csv')"
   ]
  },
  {
   "cell_type": "code",
   "execution_count": 17,
   "metadata": {
    "collapsed": false
   },
   "outputs": [
    {
     "name": "stdout",
     "output_type": "stream",
     "text": [
      "<td align=\"left\" style=\"font-family: Arial, sans-serif; vertical-align: top;font-size: 14px; text-align: left; width:80%;\" valign=\"top\" width=\"80%\">\n",
      "<a class=\"article-headline\" href=\"http://www.thedroidsonroids.com/blog/android/meaningful-motion-with-shared-element-transition-and-circular-reveal-animation/\" style=\"color:#0099CC; text-decoration: none; font-weight: bold;\">\n",
      "Meaningful Motion with Transitions and Circular Reveal\n",
      "</a>\n",
      "<span class=\"main-url\" style=\"color: #333333; font-size: 10px;\">\n",
      "(www.thedroidsonroids.com)\n",
      "</span>\n",
      "<p style=\"margin:0; line-height: 1.5em; font-size: 12px;\">\n",
      "Mariusz Brona shows you a cool transition by using the combination of circular reveal animation, fade animation and shared element transition.\n",
      "</p>\n",
      "</td>\n",
      "test\n",
      "<p style=\"margin:0; line-height: 1.5em; font-size: 12px;\">\n",
      "Mariusz Brona shows you a cool transition by using the combination of circular reveal animation, fade animation and shared element transition.\n",
      "</p>\n",
      "\n",
      "Mariusz Brona shows you a cool transition by using the combination of circular reveal animation, fade animation and shared element transition.\n",
      "\n",
      "<td align=\"left\" style=\"font-family: Arial, sans-serif; vertical-align: top;font-size: 14px; text-align: left;\" valign=\"top\">\n",
      "<a class=\"article-headline\" href=\"http://michaelevans.org/blog/2016/02/17/using-dagger-1-and-kotlin/\" style=\"color:#0099CC; text-decoration: none; font-weight: bold;\">\n",
      "Using Dagger 1 and Kotlin \n",
      "</a>\n",
      "<span class=\"main-url\" style=\"color: #333333; font-size: 10px;\">\n",
      "(michaelevans.org)\n",
      "</span>\n",
      "<p style=\"margin:0; line-height: 1.5em; font-size: 12px;\">\n",
      "Michael Evans shows how to make Dagger 1 work with Kotlin.\n",
      "</p>\n",
      "</td>\n",
      "test\n",
      "<p style=\"margin:0; line-height: 1.5em; font-size: 12px;\">\n",
      "Michael Evans shows how to make Dagger 1 work with Kotlin.\n",
      "</p>\n",
      "\n",
      "Michael Evans shows how to make Dagger 1 work with Kotlin.\n",
      "\n",
      "<td align=\"left\" style=\"font-family: Arial, sans-serif; vertical-align: top;font-size: 14px; text-align: left;\" valign=\"top\">\n",
      "<a class=\"article-headline\" href=\"http://fernandocejas.com/2016/02/20/how-to-use-optional-on-android-and-java/\" style=\"color:#0099CC; text-decoration: none; font-weight: bold;\">\n",
      "How to use Optional values on Java and Android \n",
      "</a>\n",
      "<span class=\"main-url\" style=\"color: #333333; font-size: 10px;\">\n",
      "(fernandocejas.com)\n",
      "</span>\n",
      "<p style=\"margin:0; line-height: 1.5em; font-size: 12px;\">\n",
      "Fernando Cejas explains what Optional<t> is, exposes a few use case scenarios, compare different alternatives and finally, shows you how to effectively make use of the Optional<t> API on Android.\n",
      "</t></t></p>\n",
      "</td>\n",
      "test\n",
      "<p style=\"margin:0; line-height: 1.5em; font-size: 12px;\">\n",
      "Fernando Cejas explains what Optional<t> is, exposes a few use case scenarios, compare different alternatives and finally, shows you how to effectively make use of the Optional<t> API on Android.\n",
      "</t></t></p>\n",
      "\n",
      "Fernando Cejas explains what Optional is, exposes a few use case scenarios, compare different alternatives and finally, shows you how to effectively make use of the Optional API on Android.\n",
      "\n"
     ]
    },
    {
     "ename": "AttributeError",
     "evalue": "'NoneType' object has no attribute 'replace'",
     "output_type": "error",
     "traceback": [
      "\u001b[0;31m---------------------------------------------------------------------------\u001b[0m",
      "\u001b[0;31mAttributeError\u001b[0m                            Traceback (most recent call last)",
      "\u001b[0;32m<ipython-input-17-cf5bfef0c271>\u001b[0m in \u001b[0;36m<module>\u001b[0;34m()\u001b[0m\n\u001b[1;32m      1\u001b[0m \u001b[0;31m#content = contentForIssue(193)\u001b[0m\u001b[0;34m\u001b[0m\u001b[0;34m\u001b[0m\u001b[0m\n\u001b[0;32m----> 2\u001b[0;31m \u001b[0mdata\u001b[0m \u001b[0;34m=\u001b[0m \u001b[0mdataForIssue\u001b[0m\u001b[0;34m(\u001b[0m\u001b[0mcontent\u001b[0m\u001b[0;34m,\u001b[0m \u001b[0;36m193\u001b[0m\u001b[0;34m)\u001b[0m\u001b[0;34m\u001b[0m\u001b[0m\n\u001b[0m",
      "\u001b[0;32m<ipython-input-16-72b496a26913>\u001b[0m in \u001b[0;36mdataForIssue\u001b[0;34m(content, issue_num)\u001b[0m\n\u001b[1;32m     19\u001b[0m             \u001b[0mitem\u001b[0m\u001b[0;34m[\u001b[0m\u001b[0;34m'link'\u001b[0m\u001b[0;34m]\u001b[0m \u001b[0;34m=\u001b[0m \u001b[0msection\u001b[0m\u001b[0;34m.\u001b[0m\u001b[0ma\u001b[0m\u001b[0;34m.\u001b[0m\u001b[0mget\u001b[0m\u001b[0;34m(\u001b[0m\u001b[0;34m'href'\u001b[0m\u001b[0;34m)\u001b[0m\u001b[0;34m.\u001b[0m\u001b[0mencode\u001b[0m\u001b[0;34m(\u001b[0m\u001b[0;34m\"utf-8\"\u001b[0m\u001b[0;34m)\u001b[0m\u001b[0;34m\u001b[0m\u001b[0m\n\u001b[1;32m     20\u001b[0m             \u001b[0mitem\u001b[0m\u001b[0;34m[\u001b[0m\u001b[0;34m'site'\u001b[0m\u001b[0;34m]\u001b[0m \u001b[0;34m=\u001b[0m \u001b[0msection\u001b[0m\u001b[0;34m.\u001b[0m\u001b[0mspan\u001b[0m\u001b[0;34m.\u001b[0m\u001b[0mstring\u001b[0m\u001b[0;34m.\u001b[0m\u001b[0mreplace\u001b[0m\u001b[0;34m(\u001b[0m\u001b[0;34m'('\u001b[0m\u001b[0;34m,\u001b[0m\u001b[0;34m''\u001b[0m\u001b[0;34m)\u001b[0m\u001b[0;34m.\u001b[0m\u001b[0mreplace\u001b[0m\u001b[0;34m(\u001b[0m\u001b[0;34m')'\u001b[0m\u001b[0;34m,\u001b[0m \u001b[0;34m''\u001b[0m\u001b[0;34m)\u001b[0m\u001b[0;34m.\u001b[0m\u001b[0mreplace\u001b[0m\u001b[0;34m(\u001b[0m\u001b[0;34m'\\n'\u001b[0m\u001b[0;34m,\u001b[0m\u001b[0;34m''\u001b[0m\u001b[0;34m)\u001b[0m\u001b[0;34m.\u001b[0m\u001b[0mencode\u001b[0m\u001b[0;34m(\u001b[0m\u001b[0;34m\"utf-8\"\u001b[0m\u001b[0;34m)\u001b[0m\u001b[0;34m\u001b[0m\u001b[0m\n\u001b[0;32m---> 21\u001b[0;31m             \u001b[0mitem\u001b[0m\u001b[0;34m[\u001b[0m\u001b[0;34m'description'\u001b[0m\u001b[0;34m]\u001b[0m \u001b[0;34m=\u001b[0m \u001b[0msection\u001b[0m\u001b[0;34m.\u001b[0m\u001b[0mp\u001b[0m\u001b[0;34m.\u001b[0m\u001b[0mstring\u001b[0m\u001b[0;34m.\u001b[0m\u001b[0mreplace\u001b[0m\u001b[0;34m(\u001b[0m\u001b[0;34m'\\n'\u001b[0m\u001b[0;34m,\u001b[0m\u001b[0;34m''\u001b[0m\u001b[0;34m)\u001b[0m\u001b[0;34m.\u001b[0m\u001b[0mencode\u001b[0m\u001b[0;34m(\u001b[0m\u001b[0;34m\"utf-8\"\u001b[0m\u001b[0;34m)\u001b[0m\u001b[0;34m\u001b[0m\u001b[0m\n\u001b[0m\u001b[1;32m     22\u001b[0m             \u001b[0mdata\u001b[0m\u001b[0;34m.\u001b[0m\u001b[0mappend\u001b[0m\u001b[0;34m(\u001b[0m\u001b[0mitem\u001b[0m\u001b[0;34m)\u001b[0m\u001b[0;34m\u001b[0m\u001b[0m\n\u001b[1;32m     23\u001b[0m     \u001b[0;32mprint\u001b[0m \u001b[0;34m'Found %d items in %s sections'\u001b[0m \u001b[0;34m%\u001b[0m \u001b[0;34m(\u001b[0m\u001b[0mlen\u001b[0m\u001b[0;34m(\u001b[0m\u001b[0mdata\u001b[0m\u001b[0;34m)\u001b[0m\u001b[0;34m,\u001b[0m \u001b[0msection_count\u001b[0m\u001b[0;34m)\u001b[0m\u001b[0;34m\u001b[0m\u001b[0m\n",
      "\u001b[0;31mAttributeError\u001b[0m: 'NoneType' object has no attribute 'replace'"
     ]
    }
   ],
   "source": [
    "#content = contentForIssue(193)\n",
    "data = dataForIssue(content, 193)"
   ]
  },
  {
   "cell_type": "code",
   "execution_count": 146,
   "metadata": {
    "collapsed": false
   },
   "outputs": [
    {
     "name": "stdout",
     "output_type": "stream",
     "text": [
      "http://androidweekly.net/issues/issue-215\n",
      "Found 28 items in 7 sections\n",
      "http://androidweekly.net/issues/issue-214\n",
      "Found 21 items in 8 sections\n",
      "http://androidweekly.net/issues/issue-213\n",
      "Found 30 items in 7 sections\n",
      "http://androidweekly.net/issues/issue-212\n",
      "Found 23 items in 7 sections\n",
      "http://androidweekly.net/issues/issue-211\n",
      "Found 29 items in 9 sections\n",
      "http://androidweekly.net/issues/issue-210\n",
      "Found 28 items in 9 sections\n",
      "http://androidweekly.net/issues/issue-209\n",
      "Found 27 items in 10 sections\n",
      "http://androidweekly.net/issues/issue-208\n",
      "Found 25 items in 7 sections\n",
      "http://androidweekly.net/issues/issue-207\n",
      "Found 25 items in 8 sections\n",
      "http://androidweekly.net/issues/issue-206\n",
      "Found 25 items in 8 sections\n",
      "http://androidweekly.net/issues/issue-205\n",
      "Found 34 items in 8 sections\n",
      "http://androidweekly.net/issues/issue-204\n",
      "Found 34 items in 10 sections\n",
      "http://androidweekly.net/issues/issue-203\n",
      "Found 29 items in 7 sections\n",
      "http://androidweekly.net/issues/issue-202\n",
      "Found 29 items in 7 sections\n",
      "http://androidweekly.net/issues/issue-201\n",
      "Found 25 items in 8 sections\n",
      "http://androidweekly.net/issues/issue-200\n",
      "Found 31 items in 8 sections\n",
      "http://androidweekly.net/issues/issue-199\n",
      "Found 27 items in 6 sections\n",
      "http://androidweekly.net/issues/issue-198\n",
      "Found 30 items in 8 sections\n",
      "http://androidweekly.net/issues/issue-197\n",
      "Found 29 items in 6 sections\n",
      "http://androidweekly.net/issues/issue-196\n",
      "Found 26 items in 7 sections\n",
      "http://androidweekly.net/issues/issue-195\n",
      "Found 24 items in 8 sections\n",
      "http://androidweekly.net/issues/issue-194\n",
      "Found 25 items in 6 sections\n",
      "http://androidweekly.net/issues/issue-193\n"
     ]
    },
    {
     "ename": "AttributeError",
     "evalue": "'NoneType' object has no attribute 'replace'",
     "output_type": "error",
     "traceback": [
      "\u001b[0;31m---------------------------------------------------------------------------\u001b[0m",
      "\u001b[0;31mAttributeError\u001b[0m                            Traceback (most recent call last)",
      "\u001b[0;32m<ipython-input-146-cab3bad82bc2>\u001b[0m in \u001b[0;36m<module>\u001b[0;34m()\u001b[0m\n\u001b[0;32m----> 1\u001b[0;31m \u001b[0mgetAllData\u001b[0m\u001b[0;34m(\u001b[0m\u001b[0;36m1\u001b[0m\u001b[0;34m,\u001b[0m \u001b[0;36m216\u001b[0m\u001b[0;34m)\u001b[0m\u001b[0;34m\u001b[0m\u001b[0m\n\u001b[0m",
      "\u001b[0;32m<ipython-input-145-73ef0452049b>\u001b[0m in \u001b[0;36mgetAllData\u001b[0;34m(beginning, end)\u001b[0m\n\u001b[1;32m      3\u001b[0m     \u001b[0;32mfor\u001b[0m \u001b[0mi\u001b[0m \u001b[0;32min\u001b[0m \u001b[0mreversed\u001b[0m\u001b[0;34m(\u001b[0m\u001b[0mrange\u001b[0m\u001b[0;34m(\u001b[0m\u001b[0mbeginning\u001b[0m\u001b[0;34m,\u001b[0m \u001b[0mend\u001b[0m\u001b[0;34m)\u001b[0m\u001b[0;34m)\u001b[0m\u001b[0;34m:\u001b[0m\u001b[0;34m\u001b[0m\u001b[0m\n\u001b[1;32m      4\u001b[0m         \u001b[0mcontent\u001b[0m \u001b[0;34m=\u001b[0m \u001b[0mcontentForIssue\u001b[0m\u001b[0;34m(\u001b[0m\u001b[0mi\u001b[0m\u001b[0;34m)\u001b[0m\u001b[0;34m\u001b[0m\u001b[0m\n\u001b[0;32m----> 5\u001b[0;31m         \u001b[0mdata\u001b[0m \u001b[0;34m=\u001b[0m \u001b[0mdataForIssue\u001b[0m\u001b[0;34m(\u001b[0m\u001b[0mcontent\u001b[0m\u001b[0;34m,\u001b[0m \u001b[0mi\u001b[0m\u001b[0;34m)\u001b[0m\u001b[0;34m\u001b[0m\u001b[0m\n\u001b[0m\u001b[1;32m      6\u001b[0m         \u001b[0mallData\u001b[0m \u001b[0;34m+=\u001b[0m \u001b[0mdata\u001b[0m\u001b[0;34m\u001b[0m\u001b[0m\n\u001b[1;32m      7\u001b[0m         \u001b[0mwriteData\u001b[0m\u001b[0;34m(\u001b[0m\u001b[0mallData\u001b[0m\u001b[0;34m,\u001b[0m \u001b[0;34m'issue_{}.csv'\u001b[0m\u001b[0;34m.\u001b[0m\u001b[0mformat\u001b[0m\u001b[0;34m(\u001b[0m\u001b[0mi\u001b[0m\u001b[0;34m)\u001b[0m\u001b[0;34m)\u001b[0m\u001b[0;34m\u001b[0m\u001b[0m\n",
      "\u001b[0;32m<ipython-input-131-1e692f2e50bf>\u001b[0m in \u001b[0;36mdataForIssue\u001b[0;34m(content, issue_num)\u001b[0m\n\u001b[1;32m     15\u001b[0m             \u001b[0mitem\u001b[0m\u001b[0;34m[\u001b[0m\u001b[0;34m'link'\u001b[0m\u001b[0;34m]\u001b[0m \u001b[0;34m=\u001b[0m \u001b[0msection\u001b[0m\u001b[0;34m.\u001b[0m\u001b[0ma\u001b[0m\u001b[0;34m.\u001b[0m\u001b[0mget\u001b[0m\u001b[0;34m(\u001b[0m\u001b[0;34m'href'\u001b[0m\u001b[0;34m)\u001b[0m\u001b[0;34m.\u001b[0m\u001b[0mencode\u001b[0m\u001b[0;34m(\u001b[0m\u001b[0;34m\"utf-8\"\u001b[0m\u001b[0;34m)\u001b[0m\u001b[0;34m\u001b[0m\u001b[0m\n\u001b[1;32m     16\u001b[0m             \u001b[0mitem\u001b[0m\u001b[0;34m[\u001b[0m\u001b[0;34m'site'\u001b[0m\u001b[0;34m]\u001b[0m \u001b[0;34m=\u001b[0m \u001b[0msection\u001b[0m\u001b[0;34m.\u001b[0m\u001b[0mspan\u001b[0m\u001b[0;34m.\u001b[0m\u001b[0mstring\u001b[0m\u001b[0;34m.\u001b[0m\u001b[0mreplace\u001b[0m\u001b[0;34m(\u001b[0m\u001b[0;34m'('\u001b[0m\u001b[0;34m,\u001b[0m\u001b[0;34m''\u001b[0m\u001b[0;34m)\u001b[0m\u001b[0;34m.\u001b[0m\u001b[0mreplace\u001b[0m\u001b[0;34m(\u001b[0m\u001b[0;34m')'\u001b[0m\u001b[0;34m,\u001b[0m \u001b[0;34m''\u001b[0m\u001b[0;34m)\u001b[0m\u001b[0;34m.\u001b[0m\u001b[0mreplace\u001b[0m\u001b[0;34m(\u001b[0m\u001b[0;34m'\\n'\u001b[0m\u001b[0;34m,\u001b[0m\u001b[0;34m''\u001b[0m\u001b[0;34m)\u001b[0m\u001b[0;34m.\u001b[0m\u001b[0mencode\u001b[0m\u001b[0;34m(\u001b[0m\u001b[0;34m\"utf-8\"\u001b[0m\u001b[0;34m)\u001b[0m\u001b[0;34m\u001b[0m\u001b[0m\n\u001b[0;32m---> 17\u001b[0;31m             \u001b[0mitem\u001b[0m\u001b[0;34m[\u001b[0m\u001b[0;34m'description'\u001b[0m\u001b[0;34m]\u001b[0m \u001b[0;34m=\u001b[0m \u001b[0msection\u001b[0m\u001b[0;34m.\u001b[0m\u001b[0mp\u001b[0m\u001b[0;34m.\u001b[0m\u001b[0mstring\u001b[0m\u001b[0;34m.\u001b[0m\u001b[0mreplace\u001b[0m\u001b[0;34m(\u001b[0m\u001b[0;34m'\\n'\u001b[0m\u001b[0;34m,\u001b[0m\u001b[0;34m''\u001b[0m\u001b[0;34m)\u001b[0m\u001b[0;34m.\u001b[0m\u001b[0mencode\u001b[0m\u001b[0;34m(\u001b[0m\u001b[0;34m\"utf-8\"\u001b[0m\u001b[0;34m)\u001b[0m\u001b[0;34m\u001b[0m\u001b[0m\n\u001b[0m\u001b[1;32m     18\u001b[0m             \u001b[0mdata\u001b[0m\u001b[0;34m.\u001b[0m\u001b[0mappend\u001b[0m\u001b[0;34m(\u001b[0m\u001b[0mitem\u001b[0m\u001b[0;34m)\u001b[0m\u001b[0;34m\u001b[0m\u001b[0m\n\u001b[1;32m     19\u001b[0m     \u001b[0;32mprint\u001b[0m \u001b[0;34m'Found %d items in %s sections'\u001b[0m \u001b[0;34m%\u001b[0m \u001b[0;34m(\u001b[0m\u001b[0mlen\u001b[0m\u001b[0;34m(\u001b[0m\u001b[0mdata\u001b[0m\u001b[0;34m)\u001b[0m\u001b[0;34m,\u001b[0m \u001b[0msection_count\u001b[0m\u001b[0;34m)\u001b[0m\u001b[0;34m\u001b[0m\u001b[0m\n",
      "\u001b[0;31mAttributeError\u001b[0m: 'NoneType' object has no attribute 'replace'"
     ]
    }
   ],
   "source": [
    "getAllData(1, 194)"
   ]
  },
  {
   "cell_type": "code",
   "execution_count": 138,
   "metadata": {
    "collapsed": false
   },
   "outputs": [
    {
     "ename": "NameError",
     "evalue": "name 'allData' is not defined",
     "output_type": "error",
     "traceback": [
      "\u001b[0;31m---------------------------------------------------------------------------\u001b[0m",
      "\u001b[0;31mNameError\u001b[0m                                 Traceback (most recent call last)",
      "\u001b[0;32m<ipython-input-138-2f75e39d11e6>\u001b[0m in \u001b[0;36m<module>\u001b[0;34m()\u001b[0m\n\u001b[0;32m----> 1\u001b[0;31m \u001b[0mallData\u001b[0m\u001b[0;34m[\u001b[0m\u001b[0;36m0\u001b[0m\u001b[0;34m]\u001b[0m\u001b[0;34m\u001b[0m\u001b[0m\n\u001b[0m",
      "\u001b[0;31mNameError\u001b[0m: name 'allData' is not defined"
     ]
    }
   ],
   "source": [
    "allData[0]"
   ]
  },
  {
   "cell_type": "code",
   "execution_count": null,
   "metadata": {
    "collapsed": true
   },
   "outputs": [],
   "source": []
  }
 ],
 "metadata": {
  "kernelspec": {
   "display_name": "Python 2",
   "language": "python",
   "name": "python2"
  },
  "language_info": {
   "codemirror_mode": {
    "name": "ipython",
    "version": 2
   },
   "file_extension": ".py",
   "mimetype": "text/x-python",
   "name": "python",
   "nbconvert_exporter": "python",
   "pygments_lexer": "ipython2",
   "version": "2.7.10"
  }
 },
 "nbformat": 4,
 "nbformat_minor": 0
}
