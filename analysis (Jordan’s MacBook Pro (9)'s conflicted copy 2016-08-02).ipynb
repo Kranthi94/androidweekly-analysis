{
 "cells": [
  {
   "cell_type": "code",
   "execution_count": 1,
   "metadata": {
    "collapsed": true
   },
   "outputs": [],
   "source": [
    "from bs4 import BeautifulSoup\n",
    "from urllib2 import urlopen\n",
    "\n",
    "BASE_URL = \"http://androidweekly.net/issues/issue-215\"\n",
    "\n",
    "def get_category_links(section_url):\n",
    "    html = urlopen(section_url).read()\n",
    "    soup = BeautifulSoup(html, \"lxml\")\n",
    "    boccat = soup.find(\"dl\", \"boccat\")\n",
    "    category_links = [BASE_URL + dd.a[\"href\"] for dd in boccat.findAll(\"dd\")]\n",
    "    return category_links"
   ]
  },
  {
   "cell_type": "code",
   "execution_count": 2,
   "metadata": {
    "collapsed": false
   },
   "outputs": [],
   "source": [
    "html = urlopen(BASE_URL).read()\n",
    "soup = BeautifulSoup(html, \"lxml\")"
   ]
  },
  {
   "cell_type": "code",
   "execution_count": null,
   "metadata": {
    "collapsed": true
   },
   "outputs": [],
   "source": []
  },
  {
   "cell_type": "code",
   "execution_count": 3,
   "metadata": {
    "collapsed": false
   },
   "outputs": [],
   "source": [
    "content = soup.find('div', { 'class':'issue' })"
   ]
  },
  {
   "cell_type": "code",
   "execution_count": 5,
   "metadata": {
    "collapsed": false
   },
   "outputs": [
    {
     "name": "stdout",
     "output_type": "stream",
     "text": [
      "<a href=\"http://wiresareobsolete.com/2016/07/constraintlayout-part-1/\">\n",
      "<img alt=\"link image\" src=\"http://androidweekly.net/system/images/5792d5/5987f6f93ef3002a96/square_Bildschirmfoto_2016-07-24_um_18.42.16.png\" style=\"border: 1px solid #333333;height: auto;line-height: 100%;outline: none;text-decoration: none;display: inline;\"/>\n",
      "</a>\n",
      "http://wiresareobsolete.com/2016/07/constraintlayout-part-1/\n",
      "<a class=\"article-headline\" href=\"http://wiresareobsolete.com/2016/07/constraintlayout-part-1/\" style=\"color:#0099CC; text-decoration: none; font-weight: bold;\">\n",
      "ConstraintLayout, Inside and Out: Part 1\n",
      "</a>\n",
      "http://wiresareobsolete.com/2016/07/constraintlayout-part-1/\n",
      "<a class=\"article-headline\" href=\"http://blog.karumi.com/how-not-to-become-a-public-enemy-part-1/\" style=\"color:#0099CC; text-decoration: none; font-weight: bold;\">\n",
      "How not to become a public enemy - Part 1 \n",
      "</a>\n",
      "http://blog.karumi.com/how-not-to-become-a-public-enemy-part-1/\n",
      "<a class=\"article-headline\" href=\"http://szagurskii.com/blog/how-to-load-heavy-libraries-on-splash-screen/\" style=\"color:#0099CC; text-decoration: none; font-weight: bold;\">\n",
      "How to Load Heavy Libraries on Splash Screen\n",
      "</a>\n",
      "http://szagurskii.com/blog/how-to-load-heavy-libraries-on-splash-screen/\n",
      "<a class=\"article-headline\" href=\"http://android-developers.blogspot.com/2016/07/connecting-your-app-to-wi-fi-device.html\" style=\"color:#0099CC; text-decoration: none; font-weight: bold;\">\n",
      "Connecting your App to a Wi-Fi Device \n",
      "</a>\n",
      "http://android-developers.blogspot.com/2016/07/connecting-your-app-to-wi-fi-device.html\n",
      "<a class=\"article-headline\" href=\"https://medium.com/robinhood-engineering/hello-ticker-20eaf6e51689#.d7nw27cle\" style=\"color:#0099CC; text-decoration: none; font-weight: bold;\">\n",
      "Hello, Ticker \n",
      "</a>\n",
      "https://medium.com/robinhood-engineering/hello-ticker-20eaf6e51689#.d7nw27cle\n",
      "<a href=\"https://www.bignerdranch.com/blog/diving-into-doze-mode-for-developers/\">\n",
      "<img alt=\"link image\" src=\"http://androidweekly.net/system/images/5792d5/cf87f6f93ef3002aa5/square_Bildschirmfoto_2016-07-24_um_18.34.08.png\" style=\"border: 1px solid #333333;height: auto;line-height: 100%;outline: none;text-decoration: none;display: inline;\"/>\n",
      "</a>\n",
      "https://www.bignerdranch.com/blog/diving-into-doze-mode-for-developers/\n",
      "<a class=\"article-headline\" href=\"https://www.bignerdranch.com/blog/diving-into-doze-mode-for-developers/\" style=\"color:#0099CC; text-decoration: none; font-weight: bold;\">\n",
      "Diving into Doze Mode for Developers\n",
      "</a>\n",
      "https://www.bignerdranch.com/blog/diving-into-doze-mode-for-developers/\n",
      "<a class=\"article-headline\" href=\"https://upday.github.io/blog/mvvm_rx_common_mistakes/\" style=\"color:#0099CC; text-decoration: none; font-weight: bold;\">\n",
      "MVVM + RxJava: Common Mistakes\n",
      "</a>\n",
      "https://upday.github.io/blog/mvvm_rx_common_mistakes/\n",
      "<a class=\"article-headline\" href=\"https://medium.com/@_tiwiz/is-your-app-aware-6c831098310#.prq8v80oz\" style=\"color:#0099CC; text-decoration: none; font-weight: bold;\">\n",
      "Is your app Aware?\n",
      "</a>\n",
      "https://medium.com/@_tiwiz/is-your-app-aware-6c831098310#.prq8v80oz\n",
      "<a class=\"article-headline\" href=\"http://hannesdorfmann.com/android/evolution-of-the-repository-pattern\" style=\"color:#0099CC; text-decoration: none; font-weight: bold;\">\n",
      "The evolution of the repository pattern\n",
      "</a>\n",
      "http://hannesdorfmann.com/android/evolution-of-the-repository-pattern\n",
      "<a class=\"article-headline\" href=\"https://medium.com/fuzz/getting-the-most-out-of-crashlytics-380afb703876#.m8h2fvtfd\" style=\"color:#0099CC; text-decoration: none; font-weight: bold;\">\n",
      "Getting the most out of Crashlytics\n",
      "</a>\n",
      "https://medium.com/fuzz/getting-the-most-out-of-crashlytics-380afb703876#.m8h2fvtfd\n",
      "<a class=\"article-headline\" href=\"http://www.littlerobots.nl/blog/Note-to-self-RxJava-SyncOnSubscribe/\" style=\"color:#0099CC; text-decoration: none; font-weight: bold;\">\n",
      "RxJava SyncOnSubscribe\n",
      "</a>\n",
      "http://www.littlerobots.nl/blog/Note-to-self-RxJava-SyncOnSubscribe/\n",
      "<a class=\"article-headline\" href=\"http://blog.danlew.net/2016/07/19/a-deep-dive-into-android-view-constructors/\" style=\"color:#0099CC; text-decoration: none; font-weight: bold;\">\n",
      "A deep dive into Android View constructors\n",
      "</a>\n",
      "http://blog.danlew.net/2016/07/19/a-deep-dive-into-android-view-constructors/\n",
      "<a class=\"article-headline\" href=\"https://medium.com/azimolabs/dagger-2-on-production-reducing-methods-count-5a13ff671e30#.gqtzeiza7\" style=\"color:#0099CC; text-decoration: none; font-weight: bold;\">\n",
      "Dagger 2 on production — reducing methods count\n",
      "</a>\n",
      "https://medium.com/azimolabs/dagger-2-on-production-reducing-methods-count-5a13ff671e30#.gqtzeiza7\n",
      "<a class=\"article-headline\" href=\"https://upday.github.io/blog/reactive_mindset_burgers/\" style=\"color:#0099CC; text-decoration: none; font-weight: bold;\">\n",
      "Building a Reactive Mindset\n",
      "</a>\n",
      "https://upday.github.io/blog/reactive_mindset_burgers/\n",
      "<a class=\"article-headline\" href=\"https://blog.stylingandroid.com/constraintlayout-part-8/\" style=\"color:#0099CC; text-decoration: none; font-weight: bold;\">\n",
      "ConstraintLayout – Part 8\n",
      "</a>\n",
      "https://blog.stylingandroid.com/constraintlayout-part-8/\n",
      "<a class=\"article-headline\" href=\"http://stackoverflow.com/documentation/rx-java/2341/backpressure#t=201607222027088359387\" style=\"color:#0099CC; text-decoration: none; font-weight: bold;\">\n",
      "Backpressure\n",
      "</a>\n",
      "http://stackoverflow.com/documentation/rx-java/2341/backpressure#t=201607222027088359387\n",
      "<a href=\"https://hired.com/?utm_source=newsletter&amp;utm_medium=androidweekly&amp;utm_term=cat-tech-android&amp;utm_campaign=q2-16&amp;utm_location=us&amp;utm_content=betterstack\">\n",
      "<img alt=\"link image\" src=\"http://androidweekly.net/system/images/5794c7/b287f6f93ef3003a43/square_square_hired-androidweekly-85-85-3.png\" style=\"border: 1px solid #333333;height: auto;line-height: 100%;outline: none;text-decoration: none;display: inline;\"/>\n",
      "</a>\n",
      "https://hired.com/?utm_source=newsletter&utm_medium=androidweekly&utm_term=cat-tech-android&utm_campaign=q2-16&utm_location=us&utm_content=betterstack\n",
      "<a class=\"article-headline\" href=\"https://hired.com/?utm_source=newsletter&amp;utm_medium=androidweekly&amp;utm_term=cat-tech-android&amp;utm_campaign=q2-16&amp;utm_location=us&amp;utm_content=betterstack\" style=\"color:#0099CC; text-decoration: none; font-weight: bold;\">\n",
      "Work on a Better Stack! \n",
      "</a>\n",
      "https://hired.com/?utm_source=newsletter&utm_medium=androidweekly&utm_term=cat-tech-android&utm_campaign=q2-16&utm_location=us&utm_content=betterstack\n",
      "<a class=\"article-headline\" href=\"http://bit.ly/2allfuC\" style=\"color:#0099CC; text-decoration: none; font-weight: bold;\">\n",
      "Software Engineer – Android\n",
      "</a>\n",
      "http://bit.ly/2allfuC\n",
      "<a class=\"article-headline\" href=\"https://workingatbooking.com/passions-hacked/\" style=\"color:#0099CC; text-decoration: none; font-weight: bold;\">\n",
      "Passions Hacked - Booking.com's open hackathon\n",
      "</a>\n",
      "https://workingatbooking.com/passions-hacked/\n",
      "<a class=\"article-headline\" href=\"https://boards.greenhouse.io/runkeeper/jobs/200526\" style=\"color:#0099CC; text-decoration: none; font-weight: bold;\">\n",
      "Principal Android Developer\n",
      "</a>\n",
      "https://boards.greenhouse.io/runkeeper/jobs/200526\n",
      "<a href=\"https://github.com/robinhood/ticker\">\n",
      "<img alt=\"link image\" src=\"http://androidweekly.net/system/images/5792d5/2b87f6f93ef3002a8c/square_Bildschirmfoto_2016-07-24_um_18.38.03.png\" style=\"border: 1px solid #333333;height: auto;line-height: 100%;outline: none;text-decoration: none;display: inline;\"/>\n",
      "</a>\n",
      "https://github.com/robinhood/ticker\n",
      "<a class=\"article-headline\" href=\"https://github.com/robinhood/ticker\" style=\"color:#0099CC; text-decoration: none; font-weight: bold;\">\n",
      "Ticker\n",
      "</a>\n",
      "https://github.com/robinhood/ticker\n",
      "<a class=\"article-headline\" href=\"https://github.com/MaksTuev/ferro\" style=\"color:#0099CC; text-decoration: none; font-weight: bold;\">\n",
      "Ferro\n",
      "</a>\n",
      "https://github.com/MaksTuev/ferro\n",
      "<a class=\"article-headline\" href=\"http://android-developers.blogspot.com/2016/07/improvements-for-smaller-app-downloads.html\" style=\"color:#0099CC; text-decoration: none; font-weight: bold;\">\n",
      "Improvements for smaller app downloads on Google Play\n",
      "</a>\n",
      "http://android-developers.blogspot.com/2016/07/improvements-for-smaller-app-downloads.html\n",
      "<a class=\"article-headline\" href=\"http://android-developers.blogspot.com/2016/07/final-developer-preview.html\" style=\"color:#0099CC; text-decoration: none; font-weight: bold;\">\n",
      "Final Developer Preview before Android 7.0 Nougat\n",
      "</a>\n",
      "http://android-developers.blogspot.com/2016/07/final-developer-preview.html\n",
      "<a href=\"https://www.youtube.com/watch?v=2ZQ1D003g14&amp;feature=youtu.be\">\n",
      "<img alt=\"link image\" src=\"http://androidweekly.net/system/images/5792ce/a487f6f93ef3002a1e/square_Bildschirmfoto_2016-07-24_um_18.43.07.png\" style=\"border: 1px solid #333333;height: auto;line-height: 100%;outline: none;text-decoration: none;display: inline;\"/>\n",
      "</a>\n",
      "https://www.youtube.com/watch?v=2ZQ1D003g14&feature=youtu.be\n",
      "<a class=\"article-headline\" href=\"https://www.youtube.com/watch?v=2ZQ1D003g14&amp;feature=youtu.be\" style=\"color:#0099CC; text-decoration: none; font-weight: bold;\">\n",
      "Bundled Notifications\n",
      "</a>\n",
      "https://www.youtube.com/watch?v=2ZQ1D003g14&feature=youtu.be\n",
      "<a class=\"article-headline\" href=\"http://fragmentedpodcast.com/episodes/049/\" style=\"color:#0099CC; text-decoration: none; font-weight: bold;\">\n",
      "Translating an app for different languages with Dan Lew\n",
      "</a>\n",
      "http://fragmentedpodcast.com/episodes/049/\n",
      "<a class=\"article-headline\" href=\"https://www.youtube.com/watch?v=tnj2uoTwevg&amp;feature=youtu.be\" style=\"color:#0099CC; text-decoration: none; font-weight: bold;\">\n",
      "Reducing Mobile Data Usage in your Android Apps\n",
      "</a>\n",
      "https://www.youtube.com/watch?v=tnj2uoTwevg&feature=youtu.be\n",
      "<a class=\"article-headline\" href=\"http://www.app-camp.eu/\" style=\"color:#0099CC; text-decoration: none; font-weight: bold;\">\n",
      "Apply Now For the Space App Camp\n",
      "</a>\n",
      "http://www.app-camp.eu/\n"
     ]
    }
   ],
   "source": [
    "links = content.find_all('a')\n",
    "for link in links:\n",
    "    print link\n",
    "    address = link.get('href')\n",
    "    print link.get('href')"
   ]
  },
  {
   "cell_type": "code",
   "execution_count": null,
   "metadata": {
    "collapsed": true
   },
   "outputs": [],
   "source": []
  }
 ],
 "metadata": {
  "kernelspec": {
   "display_name": "Python 2",
   "language": "python",
   "name": "python2"
  },
  "language_info": {
   "codemirror_mode": {
    "name": "ipython",
    "version": 2
   },
   "file_extension": ".py",
   "mimetype": "text/x-python",
   "name": "python",
   "nbconvert_exporter": "python",
   "pygments_lexer": "ipython2",
   "version": "2.7.11"
  }
 },
 "nbformat": 4,
 "nbformat_minor": 0
}
