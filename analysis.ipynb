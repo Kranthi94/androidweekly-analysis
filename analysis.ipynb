{
 "cells": [
  {
   "cell_type": "markdown",
   "metadata": {},
   "source": [
    "# Android Weekly analysis\n",
    "\n",
    "Investigating the most popular blogs and authors over time."
   ]
  },
  {
   "cell_type": "code",
   "execution_count": 3,
   "metadata": {
    "collapsed": false
   },
   "outputs": [],
   "source": [
    "from bs4 import BeautifulSoup\n",
    "import urllib2\n",
    "import csv\n",
    "from os import listdir\n",
    "from os.path import isfile, join\n",
    "import pandas as pd\n",
    "\n",
    "BASE_URL = \"http://androidweekly.net/issues/issue-{}\""
   ]
  },
  {
   "cell_type": "markdown",
   "metadata": {},
   "source": [
    "## Data collection\n",
    "\n",
    "Dowload and parse each Android weekly post. \n",
    "1. `contentForIssue(num)` downloads the data for an issue\n",
    "2. `dataForIssue(content, issue_num)`, `dataForIssueBefore103(content, issue_num)`, and `dataForIssueBefore60(content, issue_num)` parse the html from different issues into an array of objects\n",
    "3. `writeData(data, fname)` writes the data for an issue to a csv for retrieval later"
   ]
  },
  {
   "cell_type": "code",
   "execution_count": 25,
   "metadata": {
    "collapsed": false
   },
   "outputs": [],
   "source": [
    "def contentForIssue(num):\n",
    "    url = BASE_URL.format(num)\n",
    "    print url\n",
    "    request = urllib2.Request(url)\n",
    "    request.add_header('Accept-Encoding', 'utf-8')\n",
    "    response = urllib2.urlopen(url)\n",
    "    soup = BeautifulSoup(response.read().decode('utf-8'), 'lxml')\n",
    "    content = soup.find('div', { 'class':'issue' })\n",
    "    return content"
   ]
  },
  {
   "cell_type": "code",
   "execution_count": 26,
   "metadata": {
    "collapsed": false
   },
   "outputs": [],
   "source": [
    "def dataForIssue(content, issue_num):\n",
    "    sections = content.find_all('td')\n",
    "    last_section_header = \"\"\n",
    "    data = []\n",
    "    section_count = 0\n",
    "    for section in sections:\n",
    "        if section.h2 or section.h3:\n",
    "            section_count += 1\n",
    "            if section.h2:\n",
    "                last_section_header = section.h2.text\n",
    "            else:\n",
    "                last_section_header = section.h3.text\n",
    "        if section.a and section.a.string:\n",
    "            item = {}\n",
    "            item['issue_num'] = issue_num\n",
    "            item['section'] = last_section_header.encode(\"utf-8\").strip()\n",
    "            item['title'] = section.a.text.encode(\"utf-8\").replace('\\n','').strip()\n",
    "            item['link'] = section.a.get('href').encode(\"utf-8\").strip()\n",
    "            item['site'] = section.span.text.replace('(','').replace(')', '').replace('\\n','').encode(\"utf-8\").strip()\n",
    "            item['description'] = section.p.text.replace('\\n','').encode(\"utf-8\").strip()\n",
    "            data.append(item)\n",
    "    print 'Found %d items in %s sections' % (len(data), section_count)\n",
    "    return data"
   ]
  },
  {
   "cell_type": "code",
   "execution_count": 27,
   "metadata": {
    "collapsed": true
   },
   "outputs": [],
   "source": [
    "def dataForIssueBefore103(content, issue_num):\n",
    "    sections = content.find_all(['h2', 'div', 'p'])\n",
    "    last_section_header = \"\"\n",
    "    data = []\n",
    "    section_count = 0\n",
    "    for section in sections:\n",
    "        if section.name == 'h2':\n",
    "            section_count += 1\n",
    "            last_section_header = section.text\n",
    "        elif section.name == 'div' and len(section.find_all('a')) > 1:\n",
    "            links = section.find_all('a');\n",
    "            item = {}\n",
    "            item['issue_num'] = issue_num\n",
    "            item['section'] = last_section_header.encode(\"utf-8\").strip()\n",
    "            item['title'] = links[1].string.encode(\"utf-8\").replace('\\n','').strip()\n",
    "            item['link'] = links[1].get('href').encode(\"utf-8\").strip()\n",
    "            item['site'] = section.span.text.replace('(','').replace(')', '').replace('\\n','').encode(\"utf-8\").strip()\n",
    "            item['description'] = section.p.text.replace('\\n','').encode(\"utf-8\").strip()\n",
    "            data.append(item)\n",
    "        elif section.name == 'p' and section.a and section.a.text:\n",
    "            item = {}\n",
    "            item['issue_num'] = issue_num\n",
    "            item['section'] = last_section_header.encode(\"utf-8\").strip()\n",
    "            item['title'] = section.a.string.encode(\"utf-8\").replace('\\n','').strip()\n",
    "            item['link'] = section.a.get('href').encode(\"utf-8\").strip()\n",
    "            if section.span:\n",
    "                item['site'] = section.span.text.replace('(','').replace(')', '').replace('\\n','').encode(\"utf-8\").strip()\n",
    "            else:\n",
    "                item['site'] = \"\"\n",
    "            if section.br and section.br.next_sibling:\n",
    "                item['description'] = section.br.next_sibling.replace('\\n','').encode(\"utf-8\").strip()\n",
    "            else:\n",
    "                item['description'] = \"\"\n",
    "            data.append(item)\n",
    "    print 'Found %d items in %s sections' % (len(data), section_count)\n",
    "    return data"
   ]
  },
  {
   "cell_type": "code",
   "execution_count": 28,
   "metadata": {
    "collapsed": true
   },
   "outputs": [],
   "source": [
    "def dataForIssueBefore60(content, issue_num):\n",
    "    return dataForIssueBefore103(content.div, issue_num)"
   ]
  },
  {
   "cell_type": "code",
   "execution_count": 29,
   "metadata": {
    "collapsed": false
   },
   "outputs": [],
   "source": [
    "def writeData(data, fname):\n",
    "    with open(fname, 'wb') as f:\n",
    "        w = csv.DictWriter(f, data[0].keys())\n",
    "        w.writeheader()\n",
    "        for datum in data:\n",
    "            w.writerow(datum)"
   ]
  },
  {
   "cell_type": "markdown",
   "metadata": {},
   "source": [
    "## Get all the data!\n",
    "\n",
    "With the above functions available, we can download all the Android Weekly posts"
   ]
  },
  {
   "cell_type": "code",
   "execution_count": 30,
   "metadata": {
    "collapsed": false
   },
   "outputs": [],
   "source": [
    "def getAllData(issueNums):\n",
    "    for i in issueNums:\n",
    "        content = contentForIssue(i)\n",
    "        data = None\n",
    "        if (i < 60):\n",
    "            data = dataForIssueBefore60(content, i) \n",
    "        elif (i < 103):\n",
    "            data = dataForIssueBefore103(content, i) \n",
    "        else:\n",
    "            data = dataForIssue(content, i)\n",
    "        writeData(data, 'issue_{}.csv'.format(i))"
   ]
  },
  {
   "cell_type": "code",
   "execution_count": 33,
   "metadata": {
    "collapsed": false
   },
   "outputs": [
    {
     "name": "stdout",
     "output_type": "stream",
     "text": [
      "http://androidweekly.net/issues/issue-216\n",
      "Found 26 items in 6 sections\n",
      "http://androidweekly.net/issues/issue-215\n",
      "Found 28 items in 7 sections\n",
      "http://androidweekly.net/issues/issue-214\n",
      "Found 21 items in 8 sections\n",
      "http://androidweekly.net/issues/issue-213\n",
      "Found 30 items in 7 sections\n",
      "http://androidweekly.net/issues/issue-212\n",
      "Found 23 items in 7 sections\n",
      "http://androidweekly.net/issues/issue-211\n",
      "Found 29 items in 9 sections\n",
      "http://androidweekly.net/issues/issue-210\n",
      "Found 28 items in 9 sections\n",
      "http://androidweekly.net/issues/issue-209\n",
      "Found 27 items in 10 sections\n",
      "http://androidweekly.net/issues/issue-208\n",
      "Found 25 items in 7 sections\n",
      "http://androidweekly.net/issues/issue-207\n",
      "Found 25 items in 8 sections\n",
      "http://androidweekly.net/issues/issue-206\n",
      "Found 25 items in 8 sections\n",
      "http://androidweekly.net/issues/issue-205\n",
      "Found 34 items in 8 sections\n",
      "http://androidweekly.net/issues/issue-204\n",
      "Found 34 items in 10 sections\n",
      "http://androidweekly.net/issues/issue-203\n",
      "Found 29 items in 7 sections\n",
      "http://androidweekly.net/issues/issue-202\n",
      "Found 29 items in 7 sections\n",
      "http://androidweekly.net/issues/issue-201\n",
      "Found 25 items in 8 sections\n",
      "http://androidweekly.net/issues/issue-200\n",
      "Found 31 items in 8 sections\n",
      "http://androidweekly.net/issues/issue-199\n",
      "Found 27 items in 6 sections\n",
      "http://androidweekly.net/issues/issue-198\n",
      "Found 30 items in 8 sections\n",
      "http://androidweekly.net/issues/issue-197\n",
      "Found 29 items in 6 sections\n",
      "http://androidweekly.net/issues/issue-196\n",
      "Found 26 items in 7 sections\n",
      "http://androidweekly.net/issues/issue-195\n",
      "Found 24 items in 8 sections\n",
      "http://androidweekly.net/issues/issue-194\n",
      "Found 25 items in 6 sections\n",
      "http://androidweekly.net/issues/issue-193\n",
      "Found 27 items in 7 sections\n",
      "http://androidweekly.net/issues/issue-192\n",
      "Found 24 items in 7 sections\n",
      "http://androidweekly.net/issues/issue-191\n",
      "Found 35 items in 7 sections\n",
      "http://androidweekly.net/issues/issue-190\n",
      "Found 24 items in 7 sections\n",
      "http://androidweekly.net/issues/issue-189\n",
      "Found 23 items in 7 sections\n",
      "http://androidweekly.net/issues/issue-188\n",
      "Found 21 items in 7 sections\n",
      "http://androidweekly.net/issues/issue-187\n",
      "Found 17 items in 6 sections\n",
      "http://androidweekly.net/issues/issue-186\n",
      "Found 24 items in 6 sections\n",
      "http://androidweekly.net/issues/issue-185\n",
      "Found 23 items in 5 sections\n",
      "http://androidweekly.net/issues/issue-184\n",
      "Found 25 items in 7 sections\n",
      "http://androidweekly.net/issues/issue-183\n",
      "Found 28 items in 6 sections\n",
      "http://androidweekly.net/issues/issue-182\n",
      "Found 25 items in 7 sections\n",
      "http://androidweekly.net/issues/issue-181\n",
      "Found 25 items in 7 sections\n",
      "http://androidweekly.net/issues/issue-180\n",
      "Found 27 items in 7 sections\n",
      "http://androidweekly.net/issues/issue-179\n",
      "Found 21 items in 6 sections\n",
      "http://androidweekly.net/issues/issue-178\n",
      "Found 29 items in 5 sections\n",
      "http://androidweekly.net/issues/issue-177\n",
      "Found 23 items in 6 sections\n",
      "http://androidweekly.net/issues/issue-176\n",
      "Found 27 items in 8 sections\n",
      "http://androidweekly.net/issues/issue-175\n",
      "Found 31 items in 10 sections\n",
      "http://androidweekly.net/issues/issue-174\n",
      "Found 25 items in 8 sections\n",
      "http://androidweekly.net/issues/issue-173\n",
      "Found 30 items in 9 sections\n",
      "http://androidweekly.net/issues/issue-172\n",
      "Found 26 items in 8 sections\n",
      "http://androidweekly.net/issues/issue-171\n",
      "Found 28 items in 9 sections\n",
      "http://androidweekly.net/issues/issue-170\n",
      "Found 31 items in 8 sections\n",
      "http://androidweekly.net/issues/issue-169\n",
      "Found 37 items in 9 sections\n",
      "http://androidweekly.net/issues/issue-168\n",
      "Found 34 items in 5 sections\n",
      "http://androidweekly.net/issues/issue-167\n",
      "Found 26 items in 8 sections\n",
      "http://androidweekly.net/issues/issue-166\n",
      "Found 27 items in 7 sections\n",
      "http://androidweekly.net/issues/issue-165\n",
      "Found 23 items in 6 sections\n",
      "http://androidweekly.net/issues/issue-164\n",
      "Found 27 items in 10 sections\n",
      "http://androidweekly.net/issues/issue-163\n",
      "Found 23 items in 9 sections\n",
      "http://androidweekly.net/issues/issue-162\n",
      "Found 20 items in 5 sections\n",
      "http://androidweekly.net/issues/issue-161\n",
      "Found 21 items in 7 sections\n",
      "http://androidweekly.net/issues/issue-160\n",
      "Found 22 items in 6 sections\n",
      "http://androidweekly.net/issues/issue-159\n",
      "Found 23 items in 8 sections\n",
      "http://androidweekly.net/issues/issue-158\n",
      "Found 20 items in 5 sections\n",
      "http://androidweekly.net/issues/issue-157\n",
      "Found 18 items in 6 sections\n",
      "http://androidweekly.net/issues/issue-156\n",
      "Found 24 items in 8 sections\n",
      "http://androidweekly.net/issues/issue-155\n",
      "Found 24 items in 7 sections\n",
      "http://androidweekly.net/issues/issue-154\n",
      "Found 20 items in 6 sections\n",
      "http://androidweekly.net/issues/issue-153\n",
      "Found 19 items in 7 sections\n",
      "http://androidweekly.net/issues/issue-152\n",
      "Found 20 items in 6 sections\n",
      "http://androidweekly.net/issues/issue-151\n",
      "Found 23 items in 8 sections\n",
      "http://androidweekly.net/issues/issue-150\n",
      "Found 19 items in 7 sections\n",
      "http://androidweekly.net/issues/issue-149\n",
      "Found 15 items in 6 sections\n",
      "http://androidweekly.net/issues/issue-148\n",
      "Found 23 items in 6 sections\n",
      "http://androidweekly.net/issues/issue-147\n",
      "Found 21 items in 6 sections\n",
      "http://androidweekly.net/issues/issue-146\n",
      "Found 21 items in 7 sections\n",
      "http://androidweekly.net/issues/issue-145\n",
      "Found 19 items in 8 sections\n",
      "http://androidweekly.net/issues/issue-144\n",
      "Found 21 items in 6 sections\n",
      "http://androidweekly.net/issues/issue-143\n",
      "Found 18 items in 5 sections\n",
      "http://androidweekly.net/issues/issue-142\n",
      "Found 18 items in 6 sections\n",
      "http://androidweekly.net/issues/issue-141\n",
      "Found 19 items in 6 sections\n",
      "http://androidweekly.net/issues/issue-140\n",
      "Found 26 items in 6 sections\n",
      "http://androidweekly.net/issues/issue-139\n",
      "Found 16 items in 6 sections\n",
      "http://androidweekly.net/issues/issue-137\n",
      "Found 21 items in 8 sections\n",
      "http://androidweekly.net/issues/issue-136\n",
      "Found 25 items in 6 sections\n",
      "http://androidweekly.net/issues/issue-135\n",
      "Found 21 items in 7 sections\n",
      "http://androidweekly.net/issues/issue-134\n",
      "Found 22 items in 5 sections\n",
      "http://androidweekly.net/issues/issue-133\n",
      "Found 23 items in 6 sections\n",
      "http://androidweekly.net/issues/issue-132\n",
      "Found 19 items in 6 sections\n",
      "http://androidweekly.net/issues/issue-131\n",
      "Found 25 items in 7 sections\n",
      "http://androidweekly.net/issues/issue-130\n",
      "Found 23 items in 6 sections\n",
      "http://androidweekly.net/issues/issue-129\n",
      "Found 25 items in 10 sections\n",
      "http://androidweekly.net/issues/issue-128\n",
      "Found 20 items in 5 sections\n",
      "http://androidweekly.net/issues/issue-127\n",
      "Found 23 items in 9 sections\n",
      "http://androidweekly.net/issues/issue-126\n",
      "Found 22 items in 8 sections\n",
      "http://androidweekly.net/issues/issue-125\n",
      "Found 29 items in 7 sections\n",
      "http://androidweekly.net/issues/issue-124\n",
      "Found 21 items in 7 sections\n",
      "http://androidweekly.net/issues/issue-123\n",
      "Found 20 items in 9 sections\n",
      "http://androidweekly.net/issues/issue-122\n",
      "Found 19 items in 7 sections\n",
      "http://androidweekly.net/issues/issue-121\n",
      "Found 22 items in 7 sections\n",
      "http://androidweekly.net/issues/issue-120\n",
      "Found 24 items in 9 sections\n",
      "http://androidweekly.net/issues/issue-119\n",
      "Found 19 items in 6 sections\n",
      "http://androidweekly.net/issues/issue-118\n",
      "Found 19 items in 7 sections\n",
      "http://androidweekly.net/issues/issue-117\n",
      "Found 22 items in 7 sections\n",
      "http://androidweekly.net/issues/issue-116\n",
      "Found 21 items in 7 sections\n",
      "http://androidweekly.net/issues/issue-115\n",
      "Found 23 items in 8 sections\n",
      "http://androidweekly.net/issues/issue-114\n",
      "Found 24 items in 7 sections\n",
      "http://androidweekly.net/issues/issue-113\n",
      "Found 22 items in 5 sections\n",
      "http://androidweekly.net/issues/issue-112\n",
      "Found 18 items in 5 sections\n",
      "http://androidweekly.net/issues/issue-111\n",
      "Found 21 items in 7 sections\n",
      "http://androidweekly.net/issues/issue-110\n",
      "Found 27 items in 8 sections\n",
      "http://androidweekly.net/issues/issue-109\n",
      "Found 24 items in 6 sections\n",
      "http://androidweekly.net/issues/issue-107\n",
      "Found 19 items in 8 sections\n",
      "http://androidweekly.net/issues/issue-106\n",
      "Found 24 items in 7 sections\n",
      "http://androidweekly.net/issues/issue-105\n",
      "Found 25 items in 8 sections\n",
      "http://androidweekly.net/issues/issue-104\n",
      "Found 19 items in 7 sections\n",
      "http://androidweekly.net/issues/issue-103\n",
      "Found 22 items in 7 sections\n",
      "http://androidweekly.net/issues/issue-102\n",
      "Found 24 items in 6 sections\n",
      "http://androidweekly.net/issues/issue-101\n",
      "Found 20 items in 4 sections\n",
      "http://androidweekly.net/issues/issue-100\n",
      "Found 18 items in 7 sections\n",
      "http://androidweekly.net/issues/issue-99\n",
      "Found 17 items in 9 sections\n",
      "http://androidweekly.net/issues/issue-98\n",
      "Found 15 items in 7 sections\n",
      "http://androidweekly.net/issues/issue-97\n",
      "Found 25 items in 9 sections\n",
      "http://androidweekly.net/issues/issue-96\n",
      "Found 19 items in 7 sections\n",
      "http://androidweekly.net/issues/issue-95\n",
      "Found 25 items in 5 sections\n",
      "http://androidweekly.net/issues/issue-94\n",
      "Found 27 items in 9 sections\n",
      "http://androidweekly.net/issues/issue-93\n",
      "Found 22 items in 6 sections\n",
      "http://androidweekly.net/issues/issue-92\n",
      "Found 22 items in 6 sections\n",
      "http://androidweekly.net/issues/issue-91\n",
      "Found 14 items in 4 sections\n",
      "http://androidweekly.net/issues/issue-90\n",
      "Found 13 items in 6 sections\n",
      "http://androidweekly.net/issues/issue-89\n",
      "Found 18 items in 7 sections\n",
      "http://androidweekly.net/issues/issue-88\n",
      "Found 20 items in 8 sections\n",
      "http://androidweekly.net/issues/issue-87\n",
      "Found 17 items in 6 sections\n",
      "http://androidweekly.net/issues/issue-86\n",
      "Found 20 items in 6 sections\n",
      "http://androidweekly.net/issues/issue-85\n",
      "Found 18 items in 6 sections\n",
      "http://androidweekly.net/issues/issue-84\n",
      "Found 14 items in 7 sections\n",
      "http://androidweekly.net/issues/issue-83\n",
      "Found 19 items in 6 sections\n",
      "http://androidweekly.net/issues/issue-82\n",
      "Found 17 items in 5 sections\n",
      "http://androidweekly.net/issues/issue-81\n",
      "Found 19 items in 6 sections\n",
      "http://androidweekly.net/issues/issue-80\n",
      "Found 15 items in 7 sections\n",
      "http://androidweekly.net/issues/issue-79\n",
      "Found 21 items in 7 sections\n",
      "http://androidweekly.net/issues/issue-78\n",
      "Found 22 items in 6 sections\n",
      "http://androidweekly.net/issues/issue-77\n",
      "Found 18 items in 6 sections\n",
      "http://androidweekly.net/issues/issue-76\n",
      "Found 18 items in 4 sections\n",
      "http://androidweekly.net/issues/issue-75\n",
      "Found 16 items in 5 sections\n",
      "http://androidweekly.net/issues/issue-74\n",
      "Found 12 items in 5 sections\n",
      "http://androidweekly.net/issues/issue-73\n",
      "Found 15 items in 8 sections\n",
      "http://androidweekly.net/issues/issue-72\n",
      "Found 13 items in 5 sections\n",
      "http://androidweekly.net/issues/issue-71\n",
      "Found 18 items in 6 sections\n",
      "http://androidweekly.net/issues/issue-70\n",
      "Found 12 items in 6 sections\n",
      "http://androidweekly.net/issues/issue-69\n",
      "Found 10 items in 4 sections\n",
      "http://androidweekly.net/issues/issue-68\n",
      "Found 16 items in 5 sections\n",
      "http://androidweekly.net/issues/issue-67\n",
      "Found 17 items in 4 sections\n",
      "http://androidweekly.net/issues/issue-66\n",
      "Found 15 items in 4 sections\n",
      "http://androidweekly.net/issues/issue-65\n",
      "Found 14 items in 3 sections\n",
      "http://androidweekly.net/issues/issue-64\n",
      "Found 14 items in 3 sections\n",
      "http://androidweekly.net/issues/issue-63\n",
      "Found 10 items in 4 sections\n",
      "http://androidweekly.net/issues/issue-62\n",
      "Found 13 items in 4 sections\n",
      "http://androidweekly.net/issues/issue-61\n",
      "Found 14 items in 5 sections\n",
      "http://androidweekly.net/issues/issue-60\n",
      "Found 12 items in 5 sections\n",
      "http://androidweekly.net/issues/issue-59\n",
      "Found 18 items in 6 sections\n",
      "http://androidweekly.net/issues/issue-58\n",
      "Found 18 items in 6 sections\n",
      "http://androidweekly.net/issues/issue-57\n",
      "Found 19 items in 5 sections\n",
      "http://androidweekly.net/issues/issue-56\n",
      "Found 15 items in 6 sections\n",
      "http://androidweekly.net/issues/issue-55\n",
      "Found 12 items in 5 sections\n",
      "http://androidweekly.net/issues/issue-54\n",
      "Found 14 items in 7 sections\n",
      "http://androidweekly.net/issues/issue-53\n",
      "Found 18 items in 5 sections\n",
      "http://androidweekly.net/issues/issue-52\n",
      "Found 16 items in 5 sections\n",
      "http://androidweekly.net/issues/issue-51\n",
      "Found 15 items in 6 sections\n",
      "http://androidweekly.net/issues/issue-50\n",
      "Found 16 items in 5 sections\n",
      "http://androidweekly.net/issues/issue-49\n",
      "Found 13 items in 4 sections\n",
      "http://androidweekly.net/issues/issue-48\n",
      "Found 16 items in 4 sections\n",
      "http://androidweekly.net/issues/issue-47\n",
      "Found 18 items in 4 sections\n",
      "http://androidweekly.net/issues/issue-46\n",
      "Found 14 items in 7 sections\n",
      "http://androidweekly.net/issues/issue-45\n",
      "Found 13 items in 5 sections\n",
      "http://androidweekly.net/issues/issue-44\n",
      "Found 11 items in 4 sections\n",
      "http://androidweekly.net/issues/issue-42\n",
      "Found 11 items in 5 sections\n",
      "http://androidweekly.net/issues/issue-41\n",
      "Found 11 items in 5 sections\n",
      "http://androidweekly.net/issues/issue-40\n",
      "Found 10 items in 5 sections\n",
      "http://androidweekly.net/issues/issue-39\n",
      "Found 10 items in 5 sections\n",
      "http://androidweekly.net/issues/issue-38\n",
      "Found 9 items in 5 sections\n",
      "http://androidweekly.net/issues/issue-37\n",
      "Found 10 items in 5 sections\n",
      "http://androidweekly.net/issues/issue-36\n",
      "Found 9 items in 4 sections\n",
      "http://androidweekly.net/issues/issue-35\n",
      "Found 9 items in 3 sections\n",
      "http://androidweekly.net/issues/issue-34\n",
      "Found 10 items in 5 sections\n",
      "http://androidweekly.net/issues/issue-33\n",
      "Found 9 items in 5 sections\n",
      "http://androidweekly.net/issues/issue-32\n",
      "Found 14 items in 5 sections\n",
      "http://androidweekly.net/issues/issue-31\n",
      "Found 9 items in 6 sections\n",
      "http://androidweekly.net/issues/issue-29\n",
      "Found 9 items in 3 sections\n",
      "http://androidweekly.net/issues/issue-28\n",
      "Found 10 items in 5 sections\n",
      "http://androidweekly.net/issues/issue-27\n",
      "Found 12 items in 5 sections\n",
      "http://androidweekly.net/issues/issue-26\n",
      "Found 10 items in 4 sections\n",
      "http://androidweekly.net/issues/issue-25\n",
      "Found 10 items in 5 sections\n",
      "http://androidweekly.net/issues/issue-24\n",
      "Found 10 items in 4 sections\n",
      "http://androidweekly.net/issues/issue-23\n",
      "Found 9 items in 5 sections\n",
      "http://androidweekly.net/issues/issue-22\n",
      "Found 10 items in 5 sections\n",
      "http://androidweekly.net/issues/issue-21\n",
      "Found 12 items in 6 sections\n",
      "http://androidweekly.net/issues/issue-20\n",
      "Found 8 items in 4 sections\n",
      "http://androidweekly.net/issues/issue-19\n",
      "Found 8 items in 5 sections\n",
      "http://androidweekly.net/issues/issue-18\n",
      "Found 10 items in 6 sections\n",
      "http://androidweekly.net/issues/issue-17\n",
      "Found 10 items in 6 sections\n",
      "http://androidweekly.net/issues/issue-16\n",
      "Found 8 items in 6 sections\n",
      "http://androidweekly.net/issues/issue-15\n",
      "Found 8 items in 5 sections\n",
      "http://androidweekly.net/issues/issue-14\n",
      "Found 9 items in 5 sections\n",
      "http://androidweekly.net/issues/issue-13\n",
      "Found 15 items in 5 sections\n",
      "http://androidweekly.net/issues/issue-12\n",
      "Found 8 items in 5 sections\n",
      "http://androidweekly.net/issues/issue-11\n",
      "Found 11 items in 5 sections\n",
      "http://androidweekly.net/issues/issue-10\n",
      "Found 9 items in 5 sections\n",
      "http://androidweekly.net/issues/issue-9\n",
      "Found 10 items in 5 sections\n",
      "http://androidweekly.net/issues/issue-8\n",
      "Found 7 items in 5 sections\n",
      "http://androidweekly.net/issues/issue-7\n",
      "Found 9 items in 5 sections\n",
      "http://androidweekly.net/issues/issue-6\n",
      "Found 10 items in 6 sections\n",
      "http://androidweekly.net/issues/issue-5\n",
      "Found 10 items in 5 sections\n",
      "http://androidweekly.net/issues/issue-4\n",
      "Found 9 items in 5 sections\n",
      "http://androidweekly.net/issues/issue-3\n",
      "Found 9 items in 5 sections\n",
      "http://androidweekly.net/issues/issue-2\n",
      "Found 9 items in 5 sections\n",
      "http://androidweekly.net/issues/issue-1\n",
      "Found 9 items in 5 sections\n"
     ]
    }
   ],
   "source": [
    "# 500 errors: 138, 108, 43\n",
    "# Skipped b/c unusual: 30\n",
    "issueNums = range(1, 217)\n",
    "issueNums.remove(138)\n",
    "issueNums.remove(108)\n",
    "issueNums.remove(43)\n",
    "issueNums.remove(30)\n",
    "getAllData(reversed(issueNums))"
   ]
  },
  {
   "cell_type": "markdown",
   "metadata": {},
   "source": [
    "## Load Data\n",
    "\n",
    "Loading the data from the csv files into memory makes it easy to resume work."
   ]
  },
  {
   "cell_type": "code",
   "execution_count": 27,
   "metadata": {
    "collapsed": false
   },
   "outputs": [
    {
     "data": {
      "text/html": [
       "<div>\n",
       "<table border=\"1\" class=\"dataframe\">\n",
       "  <thead>\n",
       "    <tr style=\"text-align: right;\">\n",
       "      <th></th>\n",
       "      <th>description</th>\n",
       "      <th>title</th>\n",
       "      <th>section</th>\n",
       "      <th>site</th>\n",
       "      <th>issue_num</th>\n",
       "      <th>link</th>\n",
       "    </tr>\n",
       "  </thead>\n",
       "  <tbody>\n",
       "    <tr>\n",
       "      <th>0</th>\n",
       "      <td>An Android Tutorial aimed for iOS Developers.</td>\n",
       "      <td>http://clayallsopp.posterous.com/building-an-a...</td>\n",
       "      <td>Articles and Tutorials</td>\n",
       "      <td>NaN</td>\n",
       "      <td>1</td>\n",
       "      <td>http://clayallsopp.posterous.com/building-an-a...</td>\n",
       "    </tr>\n",
       "    <tr>\n",
       "      <th>1</th>\n",
       "      <td>Selenium Webdriver is now available for your A...</td>\n",
       "      <td>http://android-developers.blogspot.com/2011/10...</td>\n",
       "      <td>Articles and Tutorials</td>\n",
       "      <td>NaN</td>\n",
       "      <td>1</td>\n",
       "      <td>http://android-developers.blogspot.com/2011/10...</td>\n",
       "    </tr>\n",
       "    <tr>\n",
       "      <th>2</th>\n",
       "      <td>For our dev rookies we got an Java tutorial wh...</td>\n",
       "      <td>http://mobile.tutsplus.com/tutorials/android/j...</td>\n",
       "      <td>Articles and Tutorials</td>\n",
       "      <td>NaN</td>\n",
       "      <td>1</td>\n",
       "      <td>http://mobile.tutsplus.com/tutorials/android/j...</td>\n",
       "    </tr>\n",
       "    <tr>\n",
       "      <th>3</th>\n",
       "      <td>The brandnew nexus with Android 4.0 aka Ice Cr...</td>\n",
       "      <td>http://www.google.com/nexus/</td>\n",
       "      <td>Headlines</td>\n",
       "      <td>NaN</td>\n",
       "      <td>1</td>\n",
       "      <td>http://www.google.com/nexus/</td>\n",
       "    </tr>\n",
       "    <tr>\n",
       "      <th>4</th>\n",
       "      <td>A very cool info graphic about the Rise of And...</td>\n",
       "      <td>http://bbgeeks.com/images/AndroidRise.png</td>\n",
       "      <td>Headlines</td>\n",
       "      <td>NaN</td>\n",
       "      <td>1</td>\n",
       "      <td>http://bbgeeks.com/images/AndroidRise.png</td>\n",
       "    </tr>\n",
       "  </tbody>\n",
       "</table>\n",
       "</div>"
      ],
      "text/plain": [
       "                                         description  \\\n",
       "0      An Android Tutorial aimed for iOS Developers.   \n",
       "1  Selenium Webdriver is now available for your A...   \n",
       "2  For our dev rookies we got an Java tutorial wh...   \n",
       "3  The brandnew nexus with Android 4.0 aka Ice Cr...   \n",
       "4  A very cool info graphic about the Rise of And...   \n",
       "\n",
       "                                               title                 section  \\\n",
       "0  http://clayallsopp.posterous.com/building-an-a...  Articles and Tutorials   \n",
       "1  http://android-developers.blogspot.com/2011/10...  Articles and Tutorials   \n",
       "2  http://mobile.tutsplus.com/tutorials/android/j...  Articles and Tutorials   \n",
       "3                       http://www.google.com/nexus/               Headlines   \n",
       "4          http://bbgeeks.com/images/AndroidRise.png               Headlines   \n",
       "\n",
       "  site  issue_num                                               link  \n",
       "0  NaN          1  http://clayallsopp.posterous.com/building-an-a...  \n",
       "1  NaN          1  http://android-developers.blogspot.com/2011/10...  \n",
       "2  NaN          1  http://mobile.tutsplus.com/tutorials/android/j...  \n",
       "3  NaN          1                       http://www.google.com/nexus/  \n",
       "4  NaN          1          http://bbgeeks.com/images/AndroidRise.png  "
      ]
     },
     "execution_count": 27,
     "metadata": {},
     "output_type": "execute_result"
    }
   ],
   "source": [
    "def loadDataFiles():\n",
    "    files = [f for f in listdir('data') if isfile(join('data', f)) and f.endswith('.csv')]\n",
    "    df = None\n",
    "    for fname in files:\n",
    "        if df is None:\n",
    "            df = pd.read_csv('data/' + fname)\n",
    "        else:\n",
    "            df = df.append(pd.read_csv('data/' + fname), ignore_index=True)\n",
    "    return df\n",
    "    \n",
    "df = loadDataFiles()\n",
    "df.head()"
   ]
  },
  {
   "cell_type": "markdown",
   "metadata": {},
   "source": [
    "# Analysis\n",
    "\n",
    "#### These are the primary questions I want to answer:\n",
    "1. What are the most prolific blogs? Have those changed over time?\n",
    "2. Who are the most prolific bloggers? Have they changed over time?\n",
    "3. What are the most common topics of discussion? Have those changed over time?\n",
    "\n",
    "#### These are questions of secondary interest:\n",
    "1. What are the most popular library topics? Have those changed over time?\n",
    "2. Who are the most prolific library contributors? Have they changed over time?"
   ]
  },
  {
   "cell_type": "markdown",
   "metadata": {},
   "source": [
    "### The sections"
   ]
  },
  {
   "cell_type": "code",
   "execution_count": 28,
   "metadata": {
    "collapsed": false
   },
   "outputs": [
    {
     "data": {
      "text/plain": [
       "section\n",
       "Articles & Tutorials      1558\n",
       "Libraries & Code           709\n",
       "Jobs                       459\n",
       "Sponsored                  219\n",
       "News                       193\n",
       "Videos & Podcasts          192\n",
       "Tools                      168\n",
       "Design                     147\n",
       "Videos                     113\n",
       "Events                      49\n",
       "Specials                    44\n",
       "ARTICLES AND TUTORIALS      32\n",
       "App of the Week             28\n",
       "LIBRARIES AND CODE          27\n",
       "Screencasts                 22\n",
       "Name: issue_num, dtype: int64"
      ]
     },
     "execution_count": 28,
     "metadata": {},
     "output_type": "execute_result"
    }
   ],
   "source": [
    "df.groupby('section').count().sort_values(by='issue_num', ascending=False).issue_num[:15]"
   ]
  },
  {
   "cell_type": "markdown",
   "metadata": {},
   "source": [
    "## What are the most prolific blogs? Have those changed over time?\n",
    "\n",
    "To answer this, I will look at the most common sites in general. Then I will also split segment the data by year."
   ]
  },
  {
   "cell_type": "code",
   "execution_count": 72,
   "metadata": {
    "collapsed": false
   },
   "outputs": [
    {
     "data": {
      "text/plain": [
       "1590"
      ]
     },
     "execution_count": 72,
     "metadata": {},
     "output_type": "execute_result"
    }
   ],
   "source": [
    "adf = df[(df.section == 'Articles & Tutorials') | (df.section == 'ARTICLES AND TUTORIALS')]\n",
    "adf.issue_num.count()"
   ]
  },
  {
   "cell_type": "code",
   "execution_count": 38,
   "metadata": {
    "collapsed": false
   },
   "outputs": [
    {
     "data": {
      "text/plain": [
       "site\n",
       "medium.com                         176\n",
       "blog.stylingandroid.com            164\n",
       "plus.google.com                     90\n",
       "android-developers.blogspot.com     65\n",
       "speakerdeck.com                     29\n",
       "blog.danlew.net                     24\n",
       "www.bignerdranch.com                23\n",
       "antonioleiva.com                    22\n",
       "code.tutsplus.com                   17\n",
       "hannesdorfmann.com                  15\n",
       "frogermcs.github.io                 13\n",
       "ptrprograms.blogspot.com            12\n",
       "www.doubleencore.com                11\n",
       "commonsware.com                     11\n",
       "developer.android.com               11\n",
       "ryanharter.com                      11\n",
       "corner.squareup.com                 10\n",
       "blog.nimbledroid.com                10\n",
       "blog.sqisland.com                   10\n",
       "www.androiddesignpatterns.com        9\n",
       "www.slideshare.net                   9\n",
       "saulmm.github.io                     9\n",
       "www.philosophicalhacker.com          9\n",
       "udinic.wordpress.com                 8\n",
       "android-developers.blogspot.de       8\n",
       "vogella.de                           8\n",
       "realm.io                             8\n",
       "riggaroo.co.za                       8\n",
       "wiresareobsolete.com                 8\n",
       "www.grokkingandroid.com              7\n",
       "Name: issue_num, dtype: int64"
      ]
     },
     "execution_count": 38,
     "metadata": {},
     "output_type": "execute_result"
    }
   ],
   "source": [
    "adf.groupby('site').count().sort_values(by='issue_num', ascending=False).issue_num[:30]"
   ]
  },
  {
   "cell_type": "markdown",
   "metadata": {},
   "source": [
    "#### Most popular blogs of 2016"
   ]
  },
  {
   "cell_type": "code",
   "execution_count": 98,
   "metadata": {
    "collapsed": true
   },
   "outputs": [],
   "source": [
    "mask_2016 = adf.issue_num >= 191\n",
    "mask_2015 = (adf.issue_num < 191) & (adf.issue_num >= 134)\n",
    "mask_2014 = (adf.issue_num < 134) & (adf.issue_num >= 83)\n",
    "mask_2013 = (adf.issue_num < 83) & (adf.issue_num >= 49)\n",
    "mask_before_2013 = adf.issue_num < 49"
   ]
  },
  {
   "cell_type": "code",
   "execution_count": 93,
   "metadata": {
    "collapsed": false
   },
   "outputs": [
    {
     "data": {
      "text/plain": [
       "site\n",
       "medium.com                         83\n",
       "blog.stylingandroid.com            22\n",
       "android-developers.blogspot.com     9\n",
       "blog.nimbledroid.com                8\n",
       "riggaroo.co.za                      7\n",
       "hannesdorfmann.com                  7\n",
       "code.tutsplus.com                   6\n",
       "realm.io                            5\n",
       "speakerdeck.com                     5\n",
       "tomstechnicalblog.blogspot.com      5\n",
       "Name: issue_num, dtype: int64"
      ]
     },
     "execution_count": 93,
     "metadata": {},
     "output_type": "execute_result"
    }
   ],
   "source": [
    "adf[mask_2016].groupby('site').count().sort_values(by='issue_num', ascending=False).issue_num[:10]"
   ]
  },
  {
   "cell_type": "markdown",
   "metadata": {},
   "source": [
    "#### Most popular blogs of 2015"
   ]
  },
  {
   "cell_type": "code",
   "execution_count": 94,
   "metadata": {
    "collapsed": false
   },
   "outputs": [
    {
     "data": {
      "text/plain": [
       "site\n",
       "medium.com                         83\n",
       "blog.stylingandroid.com            50\n",
       "plus.google.com                    34\n",
       "android-developers.blogspot.com    19\n",
       "www.bignerdranch.com               13\n",
       "blog.danlew.net                    12\n",
       "speakerdeck.com                    12\n",
       "antonioleiva.com                   12\n",
       "code.tutsplus.com                  11\n",
       "frogermcs.github.io                10\n",
       "Name: issue_num, dtype: int64"
      ]
     },
     "execution_count": 94,
     "metadata": {},
     "output_type": "execute_result"
    }
   ],
   "source": [
    "adf[mask_2015].groupby('site').count().sort_values(by='issue_num', ascending=False).issue_num[:10]"
   ]
  },
  {
   "cell_type": "markdown",
   "metadata": {},
   "source": [
    "#### Most popular blogs of 2014"
   ]
  },
  {
   "cell_type": "code",
   "execution_count": 95,
   "metadata": {
    "collapsed": false
   },
   "outputs": [
    {
     "data": {
      "text/plain": [
       "site\n",
       "blog.stylingandroid.com            41\n",
       "plus.google.com                    35\n",
       "android-developers.blogspot.com    21\n",
       "ptrprograms.blogspot.com           11\n",
       "blog.danlew.net                    10\n",
       "speakerdeck.com                     9\n",
       "medium.com                          9\n",
       "antonioleiva.com                    6\n",
       "github.com                          5\n",
       "www.bignerdranch.com                5\n",
       "Name: issue_num, dtype: int64"
      ]
     },
     "execution_count": 95,
     "metadata": {},
     "output_type": "execute_result"
    }
   ],
   "source": [
    "adf[mask_2014].groupby('site').count().sort_values(by='issue_num', ascending=False).issue_num[:10]"
   ]
  },
  {
   "cell_type": "markdown",
   "metadata": {},
   "source": [
    "#### Most popular blogs of 2013"
   ]
  },
  {
   "cell_type": "code",
   "execution_count": 96,
   "metadata": {
    "collapsed": false
   },
   "outputs": [
    {
     "data": {
      "text/plain": [
       "site\n",
       "blog.stylingandroid.com            29\n",
       "plus.google.com                    15\n",
       "android-developers.blogspot.com     8\n",
       "www.doubleencore.com                7\n",
       "www.kpbird.com                      4\n",
       "android-developers.blogspot.de      4\n",
       "udinic.wordpress.com                4\n",
       "gmariotti.blogspot.de               4\n",
       "speakerdeck.com                     3\n",
       "www.androiddesignpatterns.com       3\n",
       "Name: issue_num, dtype: int64"
      ]
     },
     "execution_count": 96,
     "metadata": {},
     "output_type": "execute_result"
    }
   ],
   "source": [
    "adf[mask_2013].groupby('site').count().sort_values(by='issue_num', ascending=False).issue_num[:10]"
   ]
  },
  {
   "cell_type": "markdown",
   "metadata": {},
   "source": [
    "#### Most popular blogs before 2013"
   ]
  },
  {
   "cell_type": "code",
   "execution_count": 97,
   "metadata": {
    "collapsed": false
   },
   "outputs": [
    {
     "data": {
      "text/plain": [
       "site\n",
       "blog.stylingandroid.com            22\n",
       "vogella.de                          8\n",
       "android-developers.blogspot.com     8\n",
       "chrisrisner.com                     7\n",
       "grokkingandroid.com                 5\n",
       "plus.google.com                     4\n",
       "developer.android.com               4\n",
       "mobile.tutsplus.com                 3\n",
       "vogella.com                         3\n",
       "androiduipatterns.com               3\n",
       "Name: issue_num, dtype: int64"
      ]
     },
     "execution_count": 97,
     "metadata": {},
     "output_type": "execute_result"
    }
   ],
   "source": [
    "adf[mask_before_2013].groupby('site').count().sort_values(by='issue_num', ascending=False).issue_num[:10]"
   ]
  },
  {
   "cell_type": "markdown",
   "metadata": {},
   "source": [
    "## Who are the most prolific bloggers? Have they changed over time?"
   ]
  },
  {
   "cell_type": "code",
   "execution_count": 73,
   "metadata": {
    "collapsed": false
   },
   "outputs": [],
   "source": [
    "mask = (adf.site == 'medium.com') | (adf.site == 'plus.google.com')"
   ]
  },
  {
   "cell_type": "code",
   "execution_count": 89,
   "metadata": {
    "collapsed": false
   },
   "outputs": [],
   "source": [
    "adf.loc[mask,('author')] = adf.link.str.split('/').str.get(3).str.replace('@','').str.replace('+','')"
   ]
  },
  {
   "cell_type": "code",
   "execution_count": 90,
   "metadata": {
    "collapsed": false
   },
   "outputs": [
    {
     "data": {
      "text/plain": [
       "137"
      ]
     },
     "execution_count": 90,
     "metadata": {},
     "output_type": "execute_result"
    }
   ],
   "source": [
    "adf.groupby('author').count().sort_values(by='issue_num', ascending=False).issue_num.count()"
   ]
  },
  {
   "cell_type": "code",
   "execution_count": 91,
   "metadata": {
    "collapsed": false
   },
   "outputs": [
    {
     "data": {
      "text/plain": [
       "author\n",
       "AndroidDevelopers           23\n",
       "google-developers           22\n",
       "ribot-labs                   9\n",
       "sebs-top-tips                8\n",
       "hitherejoe                   6\n",
       "google-developer-experts     5\n",
       "sergii                       4\n",
       "duhroach                     4\n",
       "shelajev                     4\n",
       "crunching-rxandroid          3\n",
       "_tiwiz                       3\n",
       "rotxed                       3\n",
       "CyrilMottier                 3\n",
       "CodingDoug                   3\n",
       "ChrisBanes                   3\n",
       "juanchosaravia               3\n",
       "KirillGrouchnikov            3\n",
       "bherbst                      3\n",
       "113735310430199015092        3\n",
       "RomanNurik                   3\n",
       "Name: issue_num, dtype: int64"
      ]
     },
     "execution_count": 91,
     "metadata": {},
     "output_type": "execute_result"
    }
   ],
   "source": [
    "adf.groupby('author').count().sort_values(by='issue_num', ascending=False).issue_num[:20]"
   ]
  },
  {
   "cell_type": "code",
   "execution_count": 102,
   "metadata": {
    "collapsed": false
   },
   "outputs": [
    {
     "data": {
      "text/plain": [
       "author\n",
       "google-developers           14\n",
       "sebs-top-tips                5\n",
       "duhroach                     4\n",
       "sergii                       4\n",
       "shelajev                     3\n",
       "CodingDoug                   3\n",
       "juanchosaravia               3\n",
       "andrzejchm                   2\n",
       "google-developer-experts     2\n",
       "_tiwiz                       2\n",
       "Name: issue_num, dtype: int64"
      ]
     },
     "execution_count": 102,
     "metadata": {},
     "output_type": "execute_result"
    }
   ],
   "source": [
    "adf[mask_2016].groupby('author').count().sort_values(by='issue_num', ascending=False).issue_num[:10]"
   ]
  },
  {
   "cell_type": "code",
   "execution_count": 101,
   "metadata": {
    "collapsed": false
   },
   "outputs": [
    {
     "data": {
      "text/plain": [
       "author\n",
       "AndroidDevelopers           14\n",
       "ribot-labs                   9\n",
       "google-developers            8\n",
       "hitherejoe                   4\n",
       "google-developer-experts     3\n",
       "sebs-top-tips                3\n",
       "etiennelawlor                2\n",
       "ChrisBanes                   2\n",
       "ipaulpro                     2\n",
       "sotti                        2\n",
       "Name: issue_num, dtype: int64"
      ]
     },
     "execution_count": 101,
     "metadata": {},
     "output_type": "execute_result"
    }
   ],
   "source": [
    "adf[mask_2015].groupby('author').count().sort_values(by='issue_num', ascending=False).issue_num[:10]"
   ]
  },
  {
   "cell_type": "code",
   "execution_count": 103,
   "metadata": {
    "collapsed": false
   },
   "outputs": [
    {
     "data": {
      "text/plain": [
       "author\n",
       "AndroidDevelopers          7\n",
       "CyrilMottier               3\n",
       "KirillGrouchnikov          3\n",
       "IanLake                    2\n",
       "ArneStockmans              2\n",
       "JakeWharton                2\n",
       "RomanNurik                 2\n",
       "building-for-android-tv    2\n",
       "StevePomeroy               1\n",
       "ThomasDevauxPlus           1\n",
       "Name: issue_num, dtype: int64"
      ]
     },
     "execution_count": 103,
     "metadata": {},
     "output_type": "execute_result"
    }
   ],
   "source": [
    "adf[mask_2014].groupby('author').count().sort_values(by='issue_num', ascending=False).issue_num[:10]"
   ]
  },
  {
   "cell_type": "code",
   "execution_count": 104,
   "metadata": {
    "collapsed": false
   },
   "outputs": [
    {
     "data": {
      "text/plain": [
       "author\n",
       "MatthiasSchaff           2\n",
       "RomainGuy                2\n",
       "104992153032750621070    1\n",
       "106183159594179737258    1\n",
       "107708120842840792570    1\n",
       "108284392618554783657    1\n",
       "108612553581259107752    1\n",
       "118417777153109946393    1\n",
       "AndroidDevelopers        1\n",
       "ChristopherBroadfoot     1\n",
       "Name: issue_num, dtype: int64"
      ]
     },
     "execution_count": 104,
     "metadata": {},
     "output_type": "execute_result"
    }
   ],
   "source": [
    "adf[mask_2013].groupby('author').count().sort_values(by='issue_num', ascending=False).issue_num[:10]"
   ]
  },
  {
   "cell_type": "code",
   "execution_count": 105,
   "metadata": {
    "collapsed": false
   },
   "outputs": [
    {
     "data": {
      "text/plain": [
       "author\n",
       "113735310430199015092    3\n",
       "u                        1\n",
       "Name: issue_num, dtype: int64"
      ]
     },
     "execution_count": 105,
     "metadata": {},
     "output_type": "execute_result"
    }
   ],
   "source": [
    "adf[mask_before_2013].groupby('author').count().sort_values(by='issue_num', ascending=False).issue_num[:10]"
   ]
  },
  {
   "cell_type": "code",
   "execution_count": null,
   "metadata": {
    "collapsed": true
   },
   "outputs": [],
   "source": []
  }
 ],
 "metadata": {
  "kernelspec": {
   "display_name": "Python 2",
   "language": "python",
   "name": "python2"
  },
  "language_info": {
   "codemirror_mode": {
    "name": "ipython",
    "version": 2
   },
   "file_extension": ".py",
   "mimetype": "text/x-python",
   "name": "python",
   "nbconvert_exporter": "python",
   "pygments_lexer": "ipython2",
   "version": "2.7.11"
  }
 },
 "nbformat": 4,
 "nbformat_minor": 0
}
