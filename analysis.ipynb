{
 "cells": [
  {
   "cell_type": "code",
   "execution_count": 1,
   "metadata": {
    "collapsed": false
   },
   "outputs": [],
   "source": [
    "from bs4 import BeautifulSoup\n",
    "import urllib2\n",
    "import csv\n",
    "\n",
    "BASE_URL = \"http://androidweekly.net/issues/issue-{}\""
   ]
  },
  {
   "cell_type": "code",
   "execution_count": 2,
   "metadata": {
    "collapsed": false
   },
   "outputs": [],
   "source": [
    "def contentForIssue(num):\n",
    "    url = BASE_URL.format(num)\n",
    "    print url\n",
    "    request = urllib2.Request(url)\n",
    "    request.add_header('Accept-Encoding', 'utf-8')\n",
    "    response = urllib2.urlopen(url)\n",
    "    soup = BeautifulSoup(response.read().decode('utf-8'), 'lxml')\n",
    "    content = soup.find('div', { 'class':'issue' })\n",
    "    return content"
   ]
  },
  {
   "cell_type": "code",
   "execution_count": 18,
   "metadata": {
    "collapsed": false
   },
   "outputs": [],
   "source": [
    "def dataForIssue(content, issue_num):\n",
    "    sections = content.find_all('td')\n",
    "    last_section_header = \"\"\n",
    "    data = []\n",
    "    section_count = 0\n",
    "    for section in sections:\n",
    "        if section.h2:\n",
    "            section_count += 1\n",
    "            last_section_header = section.h2.string\n",
    "        if section.a and section.a.string:\n",
    "            item = {}\n",
    "            item['issue_num'] = issue_num\n",
    "            item['section'] = last_section_header.encode(\"utf-8\")\n",
    "            item['title'] = section.a.text.encode(\"utf-8\").replace('\\n','')\n",
    "            item['link'] = section.a.get('href').encode(\"utf-8\")\n",
    "            item['site'] = section.span.text.replace('(','').replace(')', '').replace('\\n','').encode(\"utf-8\")\n",
    "            item['description'] = section.p.text.replace('\\n','').encode(\"utf-8\")\n",
    "            data.append(item)\n",
    "    print 'Found %d items in %s sections' % (len(data), section_count)\n",
    "    return data"
   ]
  },
  {
   "cell_type": "code",
   "execution_count": 4,
   "metadata": {
    "collapsed": false
   },
   "outputs": [],
   "source": [
    "def writeData(data, fname):\n",
    "    with open(fname, 'wb') as f:\n",
    "        w = csv.DictWriter(f, data[0].keys())\n",
    "        w.writeheader()\n",
    "        for datum in data:\n",
    "            w.writerow(datum)"
   ]
  },
  {
   "cell_type": "code",
   "execution_count": 24,
   "metadata": {
    "collapsed": false
   },
   "outputs": [],
   "source": [
    "def getAllData(beginning, end):\n",
    "    for i in reversed(range(beginning, end)):\n",
    "        content = contentForIssue(i)\n",
    "        data = dataForIssue(content, i)\n",
    "        writeData(data, 'issue_{}.csv'.format(i))"
   ]
  },
  {
   "cell_type": "code",
   "execution_count": 19,
   "metadata": {
    "collapsed": false
   },
   "outputs": [
    {
     "name": "stdout",
     "output_type": "stream",
     "text": [
      "Found 27 items in 7 sections\n"
     ]
    }
   ],
   "source": [
    "#content = contentForIssue(193)\n",
    "data = dataForIssue(content, 193)"
   ]
  },
  {
   "cell_type": "code",
   "execution_count": 25,
   "metadata": {
    "collapsed": false
   },
   "outputs": [
    {
     "name": "stdout",
     "output_type": "stream",
     "text": [
      "http://androidweekly.net/issues/issue-216\n",
      "Found 26 items in 6 sections\n",
      "http://androidweekly.net/issues/issue-215\n",
      "Found 28 items in 7 sections\n",
      "http://androidweekly.net/issues/issue-214\n",
      "Found 21 items in 8 sections\n",
      "http://androidweekly.net/issues/issue-213\n",
      "Found 30 items in 7 sections\n",
      "http://androidweekly.net/issues/issue-212\n",
      "Found 23 items in 7 sections\n",
      "http://androidweekly.net/issues/issue-211\n",
      "Found 29 items in 9 sections\n",
      "http://androidweekly.net/issues/issue-210\n",
      "Found 28 items in 9 sections\n",
      "http://androidweekly.net/issues/issue-209\n",
      "Found 27 items in 10 sections\n",
      "http://androidweekly.net/issues/issue-208\n",
      "Found 25 items in 7 sections\n",
      "http://androidweekly.net/issues/issue-207\n",
      "Found 25 items in 8 sections\n",
      "http://androidweekly.net/issues/issue-206\n",
      "Found 25 items in 8 sections\n",
      "http://androidweekly.net/issues/issue-205\n",
      "Found 34 items in 8 sections\n",
      "http://androidweekly.net/issues/issue-204\n",
      "Found 34 items in 10 sections\n",
      "http://androidweekly.net/issues/issue-203\n",
      "Found 29 items in 7 sections\n",
      "http://androidweekly.net/issues/issue-202\n",
      "Found 29 items in 7 sections\n",
      "http://androidweekly.net/issues/issue-201\n",
      "Found 25 items in 8 sections\n",
      "http://androidweekly.net/issues/issue-200\n",
      "Found 31 items in 8 sections\n",
      "http://androidweekly.net/issues/issue-199\n",
      "Found 27 items in 6 sections\n",
      "http://androidweekly.net/issues/issue-198\n",
      "Found 30 items in 8 sections\n",
      "http://androidweekly.net/issues/issue-197\n",
      "Found 29 items in 6 sections\n",
      "http://androidweekly.net/issues/issue-196\n",
      "Found 26 items in 7 sections\n",
      "http://androidweekly.net/issues/issue-195\n",
      "Found 24 items in 8 sections\n",
      "http://androidweekly.net/issues/issue-194\n",
      "Found 25 items in 6 sections\n",
      "http://androidweekly.net/issues/issue-193\n",
      "Found 27 items in 7 sections\n",
      "http://androidweekly.net/issues/issue-192\n",
      "Found 24 items in 7 sections\n",
      "http://androidweekly.net/issues/issue-191\n",
      "Found 35 items in 7 sections\n",
      "http://androidweekly.net/issues/issue-190\n",
      "Found 24 items in 7 sections\n",
      "http://androidweekly.net/issues/issue-189\n",
      "Found 23 items in 7 sections\n",
      "http://androidweekly.net/issues/issue-188\n",
      "Found 21 items in 7 sections\n",
      "http://androidweekly.net/issues/issue-187\n",
      "Found 17 items in 6 sections\n",
      "http://androidweekly.net/issues/issue-186\n",
      "Found 24 items in 6 sections\n",
      "http://androidweekly.net/issues/issue-185\n",
      "Found 23 items in 5 sections\n",
      "http://androidweekly.net/issues/issue-184\n",
      "Found 25 items in 7 sections\n",
      "http://androidweekly.net/issues/issue-183\n",
      "Found 28 items in 6 sections\n",
      "http://androidweekly.net/issues/issue-182\n",
      "Found 25 items in 7 sections\n",
      "http://androidweekly.net/issues/issue-181\n",
      "Found 25 items in 7 sections\n",
      "http://androidweekly.net/issues/issue-180\n",
      "Found 27 items in 7 sections\n",
      "http://androidweekly.net/issues/issue-179\n",
      "Found 21 items in 6 sections\n",
      "http://androidweekly.net/issues/issue-178\n",
      "Found 29 items in 5 sections\n",
      "http://androidweekly.net/issues/issue-177\n",
      "Found 23 items in 6 sections\n",
      "http://androidweekly.net/issues/issue-176\n",
      "Found 27 items in 8 sections\n",
      "http://androidweekly.net/issues/issue-175\n",
      "Found 31 items in 10 sections\n",
      "http://androidweekly.net/issues/issue-174\n",
      "Found 25 items in 8 sections\n",
      "http://androidweekly.net/issues/issue-173\n",
      "Found 30 items in 9 sections\n",
      "http://androidweekly.net/issues/issue-172\n",
      "Found 26 items in 8 sections\n",
      "http://androidweekly.net/issues/issue-171\n",
      "Found 28 items in 9 sections\n",
      "http://androidweekly.net/issues/issue-170\n",
      "Found 31 items in 8 sections\n",
      "http://androidweekly.net/issues/issue-169\n",
      "Found 37 items in 9 sections\n",
      "http://androidweekly.net/issues/issue-168\n",
      "Found 34 items in 5 sections\n",
      "http://androidweekly.net/issues/issue-167\n",
      "Found 26 items in 8 sections\n",
      "http://androidweekly.net/issues/issue-166\n",
      "Found 27 items in 7 sections\n",
      "http://androidweekly.net/issues/issue-165\n",
      "Found 23 items in 6 sections\n",
      "http://androidweekly.net/issues/issue-164\n",
      "Found 27 items in 10 sections\n",
      "http://androidweekly.net/issues/issue-163\n",
      "Found 23 items in 9 sections\n",
      "http://androidweekly.net/issues/issue-162\n",
      "Found 20 items in 5 sections\n",
      "http://androidweekly.net/issues/issue-161\n",
      "Found 21 items in 7 sections\n",
      "http://androidweekly.net/issues/issue-160\n",
      "Found 22 items in 6 sections\n",
      "http://androidweekly.net/issues/issue-159\n",
      "Found 23 items in 8 sections\n",
      "http://androidweekly.net/issues/issue-158\n",
      "Found 20 items in 5 sections\n",
      "http://androidweekly.net/issues/issue-157\n",
      "Found 18 items in 6 sections\n",
      "http://androidweekly.net/issues/issue-156\n",
      "Found 24 items in 8 sections\n",
      "http://androidweekly.net/issues/issue-155\n",
      "Found 24 items in 7 sections\n",
      "http://androidweekly.net/issues/issue-154\n",
      "Found 20 items in 6 sections\n",
      "http://androidweekly.net/issues/issue-153\n",
      "Found 19 items in 7 sections\n",
      "http://androidweekly.net/issues/issue-152\n",
      "Found 20 items in 6 sections\n",
      "http://androidweekly.net/issues/issue-151\n",
      "Found 23 items in 8 sections\n",
      "http://androidweekly.net/issues/issue-150\n",
      "Found 19 items in 7 sections\n",
      "http://androidweekly.net/issues/issue-149\n",
      "Found 15 items in 6 sections\n",
      "http://androidweekly.net/issues/issue-148\n",
      "Found 23 items in 6 sections\n",
      "http://androidweekly.net/issues/issue-147\n",
      "Found 21 items in 6 sections\n",
      "http://androidweekly.net/issues/issue-146\n",
      "Found 21 items in 7 sections\n",
      "http://androidweekly.net/issues/issue-145\n",
      "Found 19 items in 8 sections\n",
      "http://androidweekly.net/issues/issue-144\n",
      "Found 21 items in 6 sections\n",
      "http://androidweekly.net/issues/issue-143\n",
      "Found 18 items in 5 sections\n",
      "http://androidweekly.net/issues/issue-142\n",
      "Found 18 items in 6 sections\n",
      "http://androidweekly.net/issues/issue-141\n",
      "Found 19 items in 6 sections\n",
      "http://androidweekly.net/issues/issue-140\n",
      "Found 26 items in 6 sections\n",
      "http://androidweekly.net/issues/issue-139\n",
      "Found 16 items in 6 sections\n"
     ]
    }
   ],
   "source": [
    "getAllData(139, 217)"
   ]
  },
  {
   "cell_type": "code",
   "execution_count": 138,
   "metadata": {
    "collapsed": false
   },
   "outputs": [
    {
     "ename": "NameError",
     "evalue": "name 'allData' is not defined",
     "output_type": "error",
     "traceback": [
      "\u001b[0;31m---------------------------------------------------------------------------\u001b[0m",
      "\u001b[0;31mNameError\u001b[0m                                 Traceback (most recent call last)",
      "\u001b[0;32m<ipython-input-138-2f75e39d11e6>\u001b[0m in \u001b[0;36m<module>\u001b[0;34m()\u001b[0m\n\u001b[0;32m----> 1\u001b[0;31m \u001b[0mallData\u001b[0m\u001b[0;34m[\u001b[0m\u001b[0;36m0\u001b[0m\u001b[0;34m]\u001b[0m\u001b[0;34m\u001b[0m\u001b[0m\n\u001b[0m",
      "\u001b[0;31mNameError\u001b[0m: name 'allData' is not defined"
     ]
    }
   ],
   "source": [
    "allData[0]"
   ]
  },
  {
   "cell_type": "code",
   "execution_count": null,
   "metadata": {
    "collapsed": true
   },
   "outputs": [],
   "source": []
  }
 ],
 "metadata": {
  "kernelspec": {
   "display_name": "Python 2",
   "language": "python",
   "name": "python2"
  },
  "language_info": {
   "codemirror_mode": {
    "name": "ipython",
    "version": 2
   },
   "file_extension": ".py",
   "mimetype": "text/x-python",
   "name": "python",
   "nbconvert_exporter": "python",
   "pygments_lexer": "ipython2",
   "version": "2.7.10"
  }
 },
 "nbformat": 4,
 "nbformat_minor": 0
}
